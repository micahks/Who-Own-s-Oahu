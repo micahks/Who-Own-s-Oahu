{
 "cells": [
  {
   "cell_type": "markdown",
   "metadata": {},
   "source": [
    "# __Who Own's O'ahu?__\n",
    "## Who are the largest land owners in Hawaii? \n"
   ]
  },
  {
   "cell_type": "code",
   "execution_count": 1,
   "metadata": {},
   "outputs": [],
   "source": [
    "import pandas as pd\n",
    "import numpy as np\n",
    "import matplotlib.pyplot as plt"
   ]
  },
  {
   "cell_type": "code",
   "execution_count": 2,
   "metadata": {},
   "outputs": [
    {
     "name": "stdout",
     "output_type": "stream",
     "text": [
      "(1936, 7)\n"
     ]
    },
    {
     "data": {
      "text/html": [
       "<div>\n",
       "<style scoped>\n",
       "    .dataframe tbody tr th:only-of-type {\n",
       "        vertical-align: middle;\n",
       "    }\n",
       "\n",
       "    .dataframe tbody tr th {\n",
       "        vertical-align: top;\n",
       "    }\n",
       "\n",
       "    .dataframe thead th {\n",
       "        text-align: right;\n",
       "    }\n",
       "</style>\n",
       "<table border=\"1\" class=\"dataframe\">\n",
       "  <thead>\n",
       "    <tr style=\"text-align: right;\">\n",
       "      <th></th>\n",
       "      <th>objectid</th>\n",
       "      <th>zone_class</th>\n",
       "      <th>zoning_description</th>\n",
       "      <th>zoning_label</th>\n",
       "      <th>loaddate</th>\n",
       "      <th>shape__area</th>\n",
       "      <th>shape__length</th>\n",
       "    </tr>\n",
       "  </thead>\n",
       "  <tbody>\n",
       "    <tr>\n",
       "      <th>0</th>\n",
       "      <td>1</td>\n",
       "      <td>A-1</td>\n",
       "      <td>A-1 Low-density Apartment District</td>\n",
       "      <td>A-1</td>\n",
       "      <td>2020/07/01 00:00:00+00</td>\n",
       "      <td>4.026643e+04</td>\n",
       "      <td>1008.759796</td>\n",
       "    </tr>\n",
       "    <tr>\n",
       "      <th>1</th>\n",
       "      <td>2</td>\n",
       "      <td>A-1</td>\n",
       "      <td>A-1 Low-density Apartment District</td>\n",
       "      <td>A-1</td>\n",
       "      <td>2020/07/01 00:00:00+00</td>\n",
       "      <td>6.895549e+03</td>\n",
       "      <td>373.128219</td>\n",
       "    </tr>\n",
       "    <tr>\n",
       "      <th>2</th>\n",
       "      <td>3</td>\n",
       "      <td>A-1</td>\n",
       "      <td>A-1 Low-density Apartment District</td>\n",
       "      <td>A-1</td>\n",
       "      <td>2020/07/01 00:00:00+00</td>\n",
       "      <td>5.759434e+05</td>\n",
       "      <td>2823.975439</td>\n",
       "    </tr>\n",
       "    <tr>\n",
       "      <th>3</th>\n",
       "      <td>4</td>\n",
       "      <td>A-1</td>\n",
       "      <td>A-1 Low-density Apartment District</td>\n",
       "      <td>A-1</td>\n",
       "      <td>2020/07/01 00:00:00+00</td>\n",
       "      <td>1.386162e+06</td>\n",
       "      <td>5732.950375</td>\n",
       "    </tr>\n",
       "    <tr>\n",
       "      <th>4</th>\n",
       "      <td>5</td>\n",
       "      <td>A-1</td>\n",
       "      <td>A-1 Low-density Apartment District</td>\n",
       "      <td>A-1</td>\n",
       "      <td>2020/07/01 00:00:00+00</td>\n",
       "      <td>4.519375e+04</td>\n",
       "      <td>852.056306</td>\n",
       "    </tr>\n",
       "  </tbody>\n",
       "</table>\n",
       "</div>"
      ],
      "text/plain": [
       "   objectid zone_class                  zoning_description zoning_label  \\\n",
       "0         1        A-1  A-1 Low-density Apartment District          A-1   \n",
       "1         2        A-1  A-1 Low-density Apartment District          A-1   \n",
       "2         3        A-1  A-1 Low-density Apartment District          A-1   \n",
       "3         4        A-1  A-1 Low-density Apartment District          A-1   \n",
       "4         5        A-1  A-1 Low-density Apartment District          A-1   \n",
       "\n",
       "                 loaddate   shape__area  shape__length  \n",
       "0  2020/07/01 00:00:00+00  4.026643e+04    1008.759796  \n",
       "1  2020/07/01 00:00:00+00  6.895549e+03     373.128219  \n",
       "2  2020/07/01 00:00:00+00  5.759434e+05    2823.975439  \n",
       "3  2020/07/01 00:00:00+00  1.386162e+06    5732.950375  \n",
       "4  2020/07/01 00:00:00+00  4.519375e+04     852.056306  "
      ]
     },
     "execution_count": 2,
     "metadata": {},
     "output_type": "execute_result"
    }
   ],
   "source": [
    "hon_zone_df_int = pd.read_csv(\"/Users/micahswain/Desktop/Working/Zoning_-_Land_Use_Ordinance.csv\")\n",
    "\n",
    "hon_zone_df_int.columns = hon_zone_df_int.columns.str.lower()\n",
    "\n",
    "print(hon_zone_df_int.shape)\n",
    "hon_zone_df_int.head()\n",
    "\n"
   ]
  },
  {
   "cell_type": "code",
   "execution_count": 3,
   "metadata": {},
   "outputs": [],
   "source": [
    "hon_zone_df = hon_zone_df_int.drop(columns = ['loaddate'])"
   ]
  },
  {
   "cell_type": "code",
   "execution_count": 4,
   "metadata": {},
   "outputs": [
    {
     "data": {
      "text/html": [
       "<div>\n",
       "<style scoped>\n",
       "    .dataframe tbody tr th:only-of-type {\n",
       "        vertical-align: middle;\n",
       "    }\n",
       "\n",
       "    .dataframe tbody tr th {\n",
       "        vertical-align: top;\n",
       "    }\n",
       "\n",
       "    .dataframe thead th {\n",
       "        text-align: right;\n",
       "    }\n",
       "</style>\n",
       "<table border=\"1\" class=\"dataframe\">\n",
       "  <thead>\n",
       "    <tr style=\"text-align: right;\">\n",
       "      <th></th>\n",
       "      <th>objectid</th>\n",
       "      <th>zone_class</th>\n",
       "      <th>zoning_description</th>\n",
       "      <th>zoning_label</th>\n",
       "      <th>shape__area</th>\n",
       "      <th>shape__length</th>\n",
       "    </tr>\n",
       "  </thead>\n",
       "  <tbody>\n",
       "    <tr>\n",
       "      <th>count</th>\n",
       "      <td>1936.00000</td>\n",
       "      <td>1936</td>\n",
       "      <td>1936</td>\n",
       "      <td>1936</td>\n",
       "      <td>1.935000e+03</td>\n",
       "      <td>1.935000e+03</td>\n",
       "    </tr>\n",
       "    <tr>\n",
       "      <th>unique</th>\n",
       "      <td>NaN</td>\n",
       "      <td>35</td>\n",
       "      <td>35</td>\n",
       "      <td>35</td>\n",
       "      <td>NaN</td>\n",
       "      <td>NaN</td>\n",
       "    </tr>\n",
       "    <tr>\n",
       "      <th>top</th>\n",
       "      <td>NaN</td>\n",
       "      <td>P-2</td>\n",
       "      <td>P-2 General Preservation District</td>\n",
       "      <td>P-2</td>\n",
       "      <td>NaN</td>\n",
       "      <td>NaN</td>\n",
       "    </tr>\n",
       "    <tr>\n",
       "      <th>freq</th>\n",
       "      <td>NaN</td>\n",
       "      <td>525</td>\n",
       "      <td>525</td>\n",
       "      <td>525</td>\n",
       "      <td>NaN</td>\n",
       "      <td>NaN</td>\n",
       "    </tr>\n",
       "    <tr>\n",
       "      <th>mean</th>\n",
       "      <td>968.50000</td>\n",
       "      <td>NaN</td>\n",
       "      <td>NaN</td>\n",
       "      <td>NaN</td>\n",
       "      <td>8.633006e+06</td>\n",
       "      <td>9.921635e+03</td>\n",
       "    </tr>\n",
       "    <tr>\n",
       "      <th>std</th>\n",
       "      <td>559.01938</td>\n",
       "      <td>NaN</td>\n",
       "      <td>NaN</td>\n",
       "      <td>NaN</td>\n",
       "      <td>1.319690e+08</td>\n",
       "      <td>4.560186e+04</td>\n",
       "    </tr>\n",
       "    <tr>\n",
       "      <th>min</th>\n",
       "      <td>1.00000</td>\n",
       "      <td>NaN</td>\n",
       "      <td>NaN</td>\n",
       "      <td>NaN</td>\n",
       "      <td>5.221558e-02</td>\n",
       "      <td>4.762081e+00</td>\n",
       "    </tr>\n",
       "    <tr>\n",
       "      <th>25%</th>\n",
       "      <td>484.75000</td>\n",
       "      <td>NaN</td>\n",
       "      <td>NaN</td>\n",
       "      <td>NaN</td>\n",
       "      <td>8.735665e+04</td>\n",
       "      <td>1.441548e+03</td>\n",
       "    </tr>\n",
       "    <tr>\n",
       "      <th>50%</th>\n",
       "      <td>968.50000</td>\n",
       "      <td>NaN</td>\n",
       "      <td>NaN</td>\n",
       "      <td>NaN</td>\n",
       "      <td>3.465608e+05</td>\n",
       "      <td>2.960796e+03</td>\n",
       "    </tr>\n",
       "    <tr>\n",
       "      <th>75%</th>\n",
       "      <td>1452.25000</td>\n",
       "      <td>NaN</td>\n",
       "      <td>NaN</td>\n",
       "      <td>NaN</td>\n",
       "      <td>1.610797e+06</td>\n",
       "      <td>7.466348e+03</td>\n",
       "    </tr>\n",
       "    <tr>\n",
       "      <th>max</th>\n",
       "      <td>1936.00000</td>\n",
       "      <td>NaN</td>\n",
       "      <td>NaN</td>\n",
       "      <td>NaN</td>\n",
       "      <td>5.337794e+09</td>\n",
       "      <td>1.632279e+06</td>\n",
       "    </tr>\n",
       "  </tbody>\n",
       "</table>\n",
       "</div>"
      ],
      "text/plain": [
       "          objectid zone_class                 zoning_description zoning_label  \\\n",
       "count   1936.00000       1936                               1936         1936   \n",
       "unique         NaN         35                                 35           35   \n",
       "top            NaN        P-2  P-2 General Preservation District          P-2   \n",
       "freq           NaN        525                                525          525   \n",
       "mean     968.50000        NaN                                NaN          NaN   \n",
       "std      559.01938        NaN                                NaN          NaN   \n",
       "min        1.00000        NaN                                NaN          NaN   \n",
       "25%      484.75000        NaN                                NaN          NaN   \n",
       "50%      968.50000        NaN                                NaN          NaN   \n",
       "75%     1452.25000        NaN                                NaN          NaN   \n",
       "max     1936.00000        NaN                                NaN          NaN   \n",
       "\n",
       "         shape__area  shape__length  \n",
       "count   1.935000e+03   1.935000e+03  \n",
       "unique           NaN            NaN  \n",
       "top              NaN            NaN  \n",
       "freq             NaN            NaN  \n",
       "mean    8.633006e+06   9.921635e+03  \n",
       "std     1.319690e+08   4.560186e+04  \n",
       "min     5.221558e-02   4.762081e+00  \n",
       "25%     8.735665e+04   1.441548e+03  \n",
       "50%     3.465608e+05   2.960796e+03  \n",
       "75%     1.610797e+06   7.466348e+03  \n",
       "max     5.337794e+09   1.632279e+06  "
      ]
     },
     "execution_count": 4,
     "metadata": {},
     "output_type": "execute_result"
    }
   ],
   "source": [
    "hon_zone_df.describe(include='all')"
   ]
  },
  {
   "cell_type": "code",
   "execution_count": 5,
   "metadata": {},
   "outputs": [
    {
     "data": {
      "text/plain": [
       "599.2046358584741"
      ]
     },
     "execution_count": 5,
     "metadata": {},
     "output_type": "execute_result"
    }
   ],
   "source": [
    "# I added up the shape area and coverted to square miles. \n",
    "# the output matched my wikipedia search for Oahu square area.\n",
    "\n",
    "hon_zone_df['shape__area'].sum()/43560/640"
   ]
  },
  {
   "cell_type": "code",
   "execution_count": 6,
   "metadata": {},
   "outputs": [
    {
     "data": {
      "text/html": [
       "<div>\n",
       "<style scoped>\n",
       "    .dataframe tbody tr th:only-of-type {\n",
       "        vertical-align: middle;\n",
       "    }\n",
       "\n",
       "    .dataframe tbody tr th {\n",
       "        vertical-align: top;\n",
       "    }\n",
       "\n",
       "    .dataframe thead th {\n",
       "        text-align: right;\n",
       "    }\n",
       "</style>\n",
       "<table border=\"1\" class=\"dataframe\">\n",
       "  <thead>\n",
       "    <tr style=\"text-align: right;\">\n",
       "      <th></th>\n",
       "      <th>objectid</th>\n",
       "      <th>zone_class</th>\n",
       "      <th>zoning_description</th>\n",
       "      <th>zoning_label</th>\n",
       "      <th>shape__area</th>\n",
       "      <th>shape__length</th>\n",
       "      <th>area_acres</th>\n",
       "    </tr>\n",
       "  </thead>\n",
       "  <tbody>\n",
       "    <tr>\n",
       "      <th>0</th>\n",
       "      <td>1</td>\n",
       "      <td>A-1</td>\n",
       "      <td>A-1 Low-density Apartment District</td>\n",
       "      <td>A-1</td>\n",
       "      <td>4.026643e+04</td>\n",
       "      <td>1008.759796</td>\n",
       "      <td>0.924390</td>\n",
       "    </tr>\n",
       "    <tr>\n",
       "      <th>1</th>\n",
       "      <td>2</td>\n",
       "      <td>A-1</td>\n",
       "      <td>A-1 Low-density Apartment District</td>\n",
       "      <td>A-1</td>\n",
       "      <td>6.895549e+03</td>\n",
       "      <td>373.128219</td>\n",
       "      <td>0.158300</td>\n",
       "    </tr>\n",
       "    <tr>\n",
       "      <th>2</th>\n",
       "      <td>3</td>\n",
       "      <td>A-1</td>\n",
       "      <td>A-1 Low-density Apartment District</td>\n",
       "      <td>A-1</td>\n",
       "      <td>5.759434e+05</td>\n",
       "      <td>2823.975439</td>\n",
       "      <td>13.221841</td>\n",
       "    </tr>\n",
       "    <tr>\n",
       "      <th>3</th>\n",
       "      <td>4</td>\n",
       "      <td>A-1</td>\n",
       "      <td>A-1 Low-density Apartment District</td>\n",
       "      <td>A-1</td>\n",
       "      <td>1.386162e+06</td>\n",
       "      <td>5732.950375</td>\n",
       "      <td>31.821890</td>\n",
       "    </tr>\n",
       "    <tr>\n",
       "      <th>4</th>\n",
       "      <td>5</td>\n",
       "      <td>A-1</td>\n",
       "      <td>A-1 Low-density Apartment District</td>\n",
       "      <td>A-1</td>\n",
       "      <td>4.519375e+04</td>\n",
       "      <td>852.056306</td>\n",
       "      <td>1.037506</td>\n",
       "    </tr>\n",
       "    <tr>\n",
       "      <th>...</th>\n",
       "      <td>...</td>\n",
       "      <td>...</td>\n",
       "      <td>...</td>\n",
       "      <td>...</td>\n",
       "      <td>...</td>\n",
       "      <td>...</td>\n",
       "      <td>...</td>\n",
       "    </tr>\n",
       "    <tr>\n",
       "      <th>1931</th>\n",
       "      <td>1932</td>\n",
       "      <td>Resort</td>\n",
       "      <td>Resort District</td>\n",
       "      <td>RESORT</td>\n",
       "      <td>2.571961e+05</td>\n",
       "      <td>2124.526708</td>\n",
       "      <td>5.904410</td>\n",
       "    </tr>\n",
       "    <tr>\n",
       "      <th>1932</th>\n",
       "      <td>1933</td>\n",
       "      <td>Resort</td>\n",
       "      <td>Resort District</td>\n",
       "      <td>RESORT</td>\n",
       "      <td>9.066480e+05</td>\n",
       "      <td>5844.301208</td>\n",
       "      <td>20.813775</td>\n",
       "    </tr>\n",
       "    <tr>\n",
       "      <th>1933</th>\n",
       "      <td>1934</td>\n",
       "      <td>Resort</td>\n",
       "      <td>Resort District</td>\n",
       "      <td>RESORT</td>\n",
       "      <td>6.797568e+06</td>\n",
       "      <td>23700.499396</td>\n",
       "      <td>156.050695</td>\n",
       "    </tr>\n",
       "    <tr>\n",
       "      <th>1934</th>\n",
       "      <td>1935</td>\n",
       "      <td>Resort</td>\n",
       "      <td>Resort District</td>\n",
       "      <td>RESORT</td>\n",
       "      <td>4.178383e+06</td>\n",
       "      <td>15455.656248</td>\n",
       "      <td>95.922467</td>\n",
       "    </tr>\n",
       "    <tr>\n",
       "      <th>1935</th>\n",
       "      <td>1936</td>\n",
       "      <td>WI</td>\n",
       "      <td>Waterfront Industrial Precinct (Kakaako Specia...</td>\n",
       "      <td>WATERFRONT INDUSTRIAL</td>\n",
       "      <td>2.476758e+06</td>\n",
       "      <td>11079.141038</td>\n",
       "      <td>56.858533</td>\n",
       "    </tr>\n",
       "  </tbody>\n",
       "</table>\n",
       "<p>1936 rows × 7 columns</p>\n",
       "</div>"
      ],
      "text/plain": [
       "      objectid zone_class                                 zoning_description  \\\n",
       "0            1        A-1                 A-1 Low-density Apartment District   \n",
       "1            2        A-1                 A-1 Low-density Apartment District   \n",
       "2            3        A-1                 A-1 Low-density Apartment District   \n",
       "3            4        A-1                 A-1 Low-density Apartment District   \n",
       "4            5        A-1                 A-1 Low-density Apartment District   \n",
       "...        ...        ...                                                ...   \n",
       "1931      1932     Resort                                    Resort District   \n",
       "1932      1933     Resort                                    Resort District   \n",
       "1933      1934     Resort                                    Resort District   \n",
       "1934      1935     Resort                                    Resort District   \n",
       "1935      1936         WI  Waterfront Industrial Precinct (Kakaako Specia...   \n",
       "\n",
       "               zoning_label   shape__area  shape__length  area_acres  \n",
       "0                       A-1  4.026643e+04    1008.759796    0.924390  \n",
       "1                       A-1  6.895549e+03     373.128219    0.158300  \n",
       "2                       A-1  5.759434e+05    2823.975439   13.221841  \n",
       "3                       A-1  1.386162e+06    5732.950375   31.821890  \n",
       "4                       A-1  4.519375e+04     852.056306    1.037506  \n",
       "...                     ...           ...            ...         ...  \n",
       "1931                 RESORT  2.571961e+05    2124.526708    5.904410  \n",
       "1932                 RESORT  9.066480e+05    5844.301208   20.813775  \n",
       "1933                 RESORT  6.797568e+06   23700.499396  156.050695  \n",
       "1934                 RESORT  4.178383e+06   15455.656248   95.922467  \n",
       "1935  WATERFRONT INDUSTRIAL  2.476758e+06   11079.141038   56.858533  \n",
       "\n",
       "[1936 rows x 7 columns]"
      ]
     },
     "execution_count": 6,
     "metadata": {},
     "output_type": "execute_result"
    }
   ],
   "source": [
    "hon_zone_df['area_acres'] = hon_zone_df['shape__area']/43560\n",
    "\n",
    "hon_zone_df"
   ]
  },
  {
   "cell_type": "code",
   "execution_count": 258,
   "metadata": {},
   "outputs": [
    {
     "data": {
      "text/html": [
       "<div>\n",
       "<style scoped>\n",
       "    .dataframe tbody tr th:only-of-type {\n",
       "        vertical-align: middle;\n",
       "    }\n",
       "\n",
       "    .dataframe tbody tr th {\n",
       "        vertical-align: top;\n",
       "    }\n",
       "\n",
       "    .dataframe thead th {\n",
       "        text-align: right;\n",
       "    }\n",
       "</style>\n",
       "<table border=\"1\" class=\"dataframe\">\n",
       "  <thead>\n",
       "    <tr style=\"text-align: right;\">\n",
       "      <th></th>\n",
       "      <th>zone_group</th>\n",
       "      <th>zoning_description</th>\n",
       "    </tr>\n",
       "  </thead>\n",
       "  <tbody>\n",
       "    <tr>\n",
       "      <th>3</th>\n",
       "      <td>Agricultural</td>\n",
       "      <td>AG-1 Restricted Agriculture District</td>\n",
       "    </tr>\n",
       "    <tr>\n",
       "      <th>4</th>\n",
       "      <td>Agricultural</td>\n",
       "      <td>AG-2 General Agriculture District</td>\n",
       "    </tr>\n",
       "    <tr>\n",
       "      <th>15</th>\n",
       "      <td>Agricultural</td>\n",
       "      <td>Country District</td>\n",
       "    </tr>\n",
       "    <tr>\n",
       "      <th>7</th>\n",
       "      <td>Apartments</td>\n",
       "      <td>AMX-2 Medium-density Apartment Mixed Use District</td>\n",
       "    </tr>\n",
       "    <tr>\n",
       "      <th>0</th>\n",
       "      <td>Apartments</td>\n",
       "      <td>A-1 Low-density Apartment District</td>\n",
       "    </tr>\n",
       "    <tr>\n",
       "      <th>1</th>\n",
       "      <td>Apartments</td>\n",
       "      <td>A-2 Medium-density Apartment District</td>\n",
       "    </tr>\n",
       "    <tr>\n",
       "      <th>12</th>\n",
       "      <td>Business</td>\n",
       "      <td>B-2 Community Business District</td>\n",
       "    </tr>\n",
       "    <tr>\n",
       "      <th>11</th>\n",
       "      <td>Business</td>\n",
       "      <td>B-1 Neighborhood Business District</td>\n",
       "    </tr>\n",
       "    <tr>\n",
       "      <th>13</th>\n",
       "      <td>Business</td>\n",
       "      <td>BMX-3 Community Business Mixed Use District</td>\n",
       "    </tr>\n",
       "    <tr>\n",
       "      <th>18</th>\n",
       "      <td>Industrial</td>\n",
       "      <td>I-2 Intensive Industrial District</td>\n",
       "    </tr>\n",
       "    <tr>\n",
       "      <th>17</th>\n",
       "      <td>Industrial</td>\n",
       "      <td>I-1 Limited Industrial District</td>\n",
       "    </tr>\n",
       "    <tr>\n",
       "      <th>19</th>\n",
       "      <td>Industrial</td>\n",
       "      <td>I-3 Waterfront Industrial District</td>\n",
       "    </tr>\n",
       "    <tr>\n",
       "      <th>20</th>\n",
       "      <td>Industrial</td>\n",
       "      <td>IMX-1 Industrial Mixed Use District</td>\n",
       "    </tr>\n",
       "    <tr>\n",
       "      <th>16</th>\n",
       "      <td>Military and Federal</td>\n",
       "      <td>F-1 Federal and Military Preservation District</td>\n",
       "    </tr>\n",
       "    <tr>\n",
       "      <th>25</th>\n",
       "      <td>Other</td>\n",
       "      <td>Public Precinct (Waikiki Special District)</td>\n",
       "    </tr>\n",
       "    <tr>\n",
       "      <th>21</th>\n",
       "      <td>Other</td>\n",
       "      <td>State Jurisdiction: Kakaako Community Developm...</td>\n",
       "    </tr>\n",
       "    <tr>\n",
       "      <th>33</th>\n",
       "      <td>Other</td>\n",
       "      <td>Resort Mixed Use Precinct (Waikiki Special Dis...</td>\n",
       "    </tr>\n",
       "    <tr>\n",
       "      <th>24</th>\n",
       "      <td>Preservation</td>\n",
       "      <td>P-2 General Preservation District</td>\n",
       "    </tr>\n",
       "    <tr>\n",
       "      <th>23</th>\n",
       "      <td>Preservation</td>\n",
       "      <td>P-1 Restricted Preservation District</td>\n",
       "    </tr>\n",
       "    <tr>\n",
       "      <th>27</th>\n",
       "      <td>Residential</td>\n",
       "      <td>R-10 Residential District</td>\n",
       "    </tr>\n",
       "    <tr>\n",
       "      <th>28</th>\n",
       "      <td>Residential</td>\n",
       "      <td>R-20 Residential District</td>\n",
       "    </tr>\n",
       "    <tr>\n",
       "      <th>31</th>\n",
       "      <td>Residential</td>\n",
       "      <td>R-7.5 Residential District</td>\n",
       "    </tr>\n",
       "    <tr>\n",
       "      <th>30</th>\n",
       "      <td>Residential</td>\n",
       "      <td>R-5 Residential District</td>\n",
       "    </tr>\n",
       "    <tr>\n",
       "      <th>29</th>\n",
       "      <td>Residential</td>\n",
       "      <td>R-3.5 Residential District</td>\n",
       "    </tr>\n",
       "    <tr>\n",
       "      <th>32</th>\n",
       "      <td>Resort</td>\n",
       "      <td>Resort District</td>\n",
       "    </tr>\n",
       "  </tbody>\n",
       "</table>\n",
       "</div>"
      ],
      "text/plain": [
       "              zone_group                                 zoning_description\n",
       "3           Agricultural               AG-1 Restricted Agriculture District\n",
       "4           Agricultural                  AG-2 General Agriculture District\n",
       "15          Agricultural                                   Country District\n",
       "7             Apartments  AMX-2 Medium-density Apartment Mixed Use District\n",
       "0             Apartments                 A-1 Low-density Apartment District\n",
       "1             Apartments              A-2 Medium-density Apartment District\n",
       "12              Business                    B-2 Community Business District\n",
       "11              Business                 B-1 Neighborhood Business District\n",
       "13              Business        BMX-3 Community Business Mixed Use District\n",
       "18            Industrial                  I-2 Intensive Industrial District\n",
       "17            Industrial                    I-1 Limited Industrial District\n",
       "19            Industrial                 I-3 Waterfront Industrial District\n",
       "20            Industrial                IMX-1 Industrial Mixed Use District\n",
       "16  Military and Federal     F-1 Federal and Military Preservation District\n",
       "25                 Other         Public Precinct (Waikiki Special District)\n",
       "21                 Other  State Jurisdiction: Kakaako Community Developm...\n",
       "33                 Other  Resort Mixed Use Precinct (Waikiki Special Dis...\n",
       "24          Preservation                  P-2 General Preservation District\n",
       "23          Preservation               P-1 Restricted Preservation District\n",
       "27           Residential                          R-10 Residential District\n",
       "28           Residential                          R-20 Residential District\n",
       "31           Residential                         R-7.5 Residential District\n",
       "30           Residential                           R-5 Residential District\n",
       "29           Residential                         R-3.5 Residential District\n",
       "32                Resort                                    Resort District"
      ]
     },
     "execution_count": 258,
     "metadata": {},
     "output_type": "execute_result"
    }
   ],
   "source": [
    "zone_acres = hon_zone_df.groupby(['zoning_label','zoning_description'], as_index=False)['area_acres'].sum()\n",
    "\n",
    "zone_acres = pd.DataFrame(zone_acres).sort_values('area_acres', ascending=False).head(25)\n",
    "\n",
    "zone_acres['zone_group'] = ['Preservation', 'Agricultural', 'Agricultural', 'Military and Federal', 'Residential', 'Preservation', 'Residential', 'Industrial',\n",
    "                           'Residential', 'Apartments', 'Agricultural', 'Apartments', 'Business', 'Residential', 'Business', 'Industrial', 'Industrial', 'Other',\n",
    "                           'Residential', 'Resort', 'Apartments', 'Business', 'Other', 'Industrial', 'Other']\n",
    "\n",
    "zone_acres['area_acres'] = zone_acres['area_acres'].round(decimals=0)\n",
    "\n",
    "zone_acres_table = zone_acres[['zone_group', 'zoning_description']]\n",
    "\n",
    "zone_acres_table.sort_values('zone_group')"
   ]
  },
  {
   "cell_type": "code",
   "execution_count": 8,
   "metadata": {},
   "outputs": [
    {
     "data": {
      "text/html": [
       "<div>\n",
       "<style scoped>\n",
       "    .dataframe tbody tr th:only-of-type {\n",
       "        vertical-align: middle;\n",
       "    }\n",
       "\n",
       "    .dataframe tbody tr th {\n",
       "        vertical-align: top;\n",
       "    }\n",
       "\n",
       "    .dataframe thead th {\n",
       "        text-align: right;\n",
       "    }\n",
       "</style>\n",
       "<table border=\"1\" class=\"dataframe\">\n",
       "  <thead>\n",
       "    <tr style=\"text-align: right;\">\n",
       "      <th></th>\n",
       "      <th>zone_group</th>\n",
       "      <th>area_acres</th>\n",
       "    </tr>\n",
       "  </thead>\n",
       "  <tbody>\n",
       "    <tr>\n",
       "      <th>0</th>\n",
       "      <td>Agricultural</td>\n",
       "      <td>108546.0</td>\n",
       "    </tr>\n",
       "    <tr>\n",
       "      <th>1</th>\n",
       "      <td>Apartments</td>\n",
       "      <td>6729.0</td>\n",
       "    </tr>\n",
       "    <tr>\n",
       "      <th>2</th>\n",
       "      <td>Business</td>\n",
       "      <td>3892.0</td>\n",
       "    </tr>\n",
       "    <tr>\n",
       "      <th>3</th>\n",
       "      <td>Industrial</td>\n",
       "      <td>8443.0</td>\n",
       "    </tr>\n",
       "    <tr>\n",
       "      <th>4</th>\n",
       "      <td>Military and Federal</td>\n",
       "      <td>38574.0</td>\n",
       "    </tr>\n",
       "    <tr>\n",
       "      <th>5</th>\n",
       "      <td>Other</td>\n",
       "      <td>1085.0</td>\n",
       "    </tr>\n",
       "    <tr>\n",
       "      <th>6</th>\n",
       "      <td>Preservation</td>\n",
       "      <td>174610.0</td>\n",
       "    </tr>\n",
       "    <tr>\n",
       "      <th>7</th>\n",
       "      <td>Residential</td>\n",
       "      <td>40505.0</td>\n",
       "    </tr>\n",
       "    <tr>\n",
       "      <th>8</th>\n",
       "      <td>Resort</td>\n",
       "      <td>514.0</td>\n",
       "    </tr>\n",
       "  </tbody>\n",
       "</table>\n",
       "</div>"
      ],
      "text/plain": [
       "             zone_group  area_acres\n",
       "0          Agricultural    108546.0\n",
       "1            Apartments      6729.0\n",
       "2              Business      3892.0\n",
       "3            Industrial      8443.0\n",
       "4  Military and Federal     38574.0\n",
       "5                 Other      1085.0\n",
       "6          Preservation    174610.0\n",
       "7           Residential     40505.0\n",
       "8                Resort       514.0"
      ]
     },
     "execution_count": 8,
     "metadata": {},
     "output_type": "execute_result"
    }
   ],
   "source": [
    "zone_group = zone_acres.groupby(['zone_group'], as_index=False)['area_acres'].sum()\n",
    "\n",
    "zone_group"
   ]
  },
  {
   "cell_type": "code",
   "execution_count": 248,
   "metadata": {},
   "outputs": [
    {
     "name": "stdout",
     "output_type": "stream",
     "text": [
      "382898.0\n"
     ]
    },
    {
     "data": {
      "text/html": [
       "<div>\n",
       "<style scoped>\n",
       "    .dataframe tbody tr th:only-of-type {\n",
       "        vertical-align: middle;\n",
       "    }\n",
       "\n",
       "    .dataframe tbody tr th {\n",
       "        vertical-align: top;\n",
       "    }\n",
       "\n",
       "    .dataframe thead th {\n",
       "        text-align: right;\n",
       "    }\n",
       "</style>\n",
       "<table border=\"1\" class=\"dataframe\">\n",
       "  <thead>\n",
       "    <tr style=\"text-align: right;\">\n",
       "      <th></th>\n",
       "      <th>zone_group</th>\n",
       "      <th>area_acres</th>\n",
       "      <th>area%</th>\n",
       "    </tr>\n",
       "  </thead>\n",
       "  <tbody>\n",
       "    <tr>\n",
       "      <th>6</th>\n",
       "      <td>Preservation</td>\n",
       "      <td>174610.0</td>\n",
       "      <td>0.46</td>\n",
       "    </tr>\n",
       "    <tr>\n",
       "      <th>0</th>\n",
       "      <td>Agricultural</td>\n",
       "      <td>108546.0</td>\n",
       "      <td>0.28</td>\n",
       "    </tr>\n",
       "    <tr>\n",
       "      <th>7</th>\n",
       "      <td>Residential</td>\n",
       "      <td>40505.0</td>\n",
       "      <td>0.11</td>\n",
       "    </tr>\n",
       "    <tr>\n",
       "      <th>4</th>\n",
       "      <td>Military and Federal</td>\n",
       "      <td>38574.0</td>\n",
       "      <td>0.10</td>\n",
       "    </tr>\n",
       "    <tr>\n",
       "      <th>3</th>\n",
       "      <td>Industrial</td>\n",
       "      <td>8443.0</td>\n",
       "      <td>0.02</td>\n",
       "    </tr>\n",
       "    <tr>\n",
       "      <th>1</th>\n",
       "      <td>Apartments</td>\n",
       "      <td>6729.0</td>\n",
       "      <td>0.02</td>\n",
       "    </tr>\n",
       "    <tr>\n",
       "      <th>2</th>\n",
       "      <td>Business</td>\n",
       "      <td>3892.0</td>\n",
       "      <td>0.01</td>\n",
       "    </tr>\n",
       "    <tr>\n",
       "      <th>5</th>\n",
       "      <td>Other</td>\n",
       "      <td>1085.0</td>\n",
       "      <td>0.00</td>\n",
       "    </tr>\n",
       "    <tr>\n",
       "      <th>8</th>\n",
       "      <td>Resort</td>\n",
       "      <td>514.0</td>\n",
       "      <td>0.00</td>\n",
       "    </tr>\n",
       "  </tbody>\n",
       "</table>\n",
       "</div>"
      ],
      "text/plain": [
       "             zone_group  area_acres  area%\n",
       "6          Preservation    174610.0   0.46\n",
       "0          Agricultural    108546.0   0.28\n",
       "7           Residential     40505.0   0.11\n",
       "4  Military and Federal     38574.0   0.10\n",
       "3            Industrial      8443.0   0.02\n",
       "1            Apartments      6729.0   0.02\n",
       "2              Business      3892.0   0.01\n",
       "5                 Other      1085.0   0.00\n",
       "8                Resort       514.0   0.00"
      ]
     },
     "execution_count": 248,
     "metadata": {},
     "output_type": "execute_result"
    }
   ],
   "source": [
    "zone_group = zone_group.sort_values('area_acres', ascending=False).head(25)\n",
    "\n",
    "print(zone_group['area_acres'].sum())\n",
    "\n",
    "zone_group['area%'] = round((zone_group['area_acres']/zone_group['area_acres'].sum()),2)\n",
    "\n",
    "zone_group"
   ]
  },
  {
   "cell_type": "code",
   "execution_count": 276,
   "metadata": {},
   "outputs": [
    {
     "data": {
      "application/vnd.plotly.v1+json": {
       "config": {
        "plotlyServerURL": "https://plot.ly"
       },
       "data": [
        {
         "branchvalues": "total",
         "domain": {
          "x": [
           0,
           1
          ],
          "y": [
           0,
           1
          ]
         },
         "hovertemplate": "labels=%{label}<br>area_acres=%{value}<br>parent=%{parent}<br>id=%{id}<extra></extra>",
         "ids": [
          "Apartments/A-1",
          "Apartments/A-2",
          "Agricultural/AG-1",
          "Agricultural/AG-2",
          "Apartments/AMX-2",
          "Business/B-1",
          "Business/B-2",
          "Business/BMX-3",
          "Agricultural/COUNTRY",
          "Military and Federal/F-1",
          "Industrial/I-1",
          "Industrial/I-2",
          "Industrial/I-3",
          "Industrial/IMX-1",
          "Other/KAKAAKO COMM. DEV. DISTRICT",
          "Preservation/P-1",
          "Preservation/P-2",
          "Other/PUBLIC PRECINCT",
          "Residential/R-10",
          "Residential/R-20",
          "Residential/R-3.5",
          "Residential/R-5",
          "Residential/R-7.5",
          "Resort/RESORT",
          "Other/RESORT MIXED USE PRECINCT",
          "Agricultural",
          "Apartments",
          "Business",
          "Industrial",
          "Military and Federal",
          "Other",
          "Preservation",
          "Residential",
          "Resort"
         ],
         "labels": [
          "A-1",
          "A-2",
          "AG-1",
          "AG-2",
          "AMX-2",
          "B-1",
          "B-2",
          "BMX-3",
          "COUNTRY",
          "F-1",
          "I-1",
          "I-2",
          "I-3",
          "IMX-1",
          "KAKAAKO COMM. DEV. DISTRICT",
          "P-1",
          "P-2",
          "PUBLIC PRECINCT",
          "R-10",
          "R-20",
          "R-3.5",
          "R-5",
          "R-7.5",
          "RESORT",
          "RESORT MIXED USE PRECINCT",
          "Agricultural",
          "Apartments",
          "Business",
          "Industrial",
          "Military and Federal",
          "Other",
          "Preservation",
          "Residential",
          "Resort"
         ],
         "name": "",
         "parents": [
          "Apartments",
          "Apartments",
          "Agricultural",
          "Agricultural",
          "Apartments",
          "Business",
          "Business",
          "Business",
          "Agricultural",
          "Military and Federal",
          "Industrial",
          "Industrial",
          "Industrial",
          "Industrial",
          "Other",
          "Preservation",
          "Preservation",
          "Other",
          "Residential",
          "Residential",
          "Residential",
          "Residential",
          "Residential",
          "Resort",
          "Other",
          "",
          "",
          "",
          "",
          "",
          "",
          "",
          "",
          ""
         ],
         "type": "treemap",
         "values": [
          3306,
          2936,
          63458,
          41834,
          487,
          414,
          1766,
          1712,
          3254,
          38574,
          234,
          6134,
          896,
          1179,
          618,
          157475,
          17135,
          259,
          5023,
          521,
          1735,
          26875,
          6351,
          514,
          208,
          108546,
          6729,
          3892,
          8443,
          38574,
          1085,
          174610,
          40505,
          514
         ]
        }
       ],
       "layout": {
        "height": 1000,
        "legend": {
         "tracegroupgap": 0
        },
        "margin": {
         "t": 60
        },
        "template": {
         "data": {
          "bar": [
           {
            "error_x": {
             "color": "#2a3f5f"
            },
            "error_y": {
             "color": "#2a3f5f"
            },
            "marker": {
             "line": {
              "color": "#E5ECF6",
              "width": 0.5
             }
            },
            "type": "bar"
           }
          ],
          "barpolar": [
           {
            "marker": {
             "line": {
              "color": "#E5ECF6",
              "width": 0.5
             }
            },
            "type": "barpolar"
           }
          ],
          "carpet": [
           {
            "aaxis": {
             "endlinecolor": "#2a3f5f",
             "gridcolor": "white",
             "linecolor": "white",
             "minorgridcolor": "white",
             "startlinecolor": "#2a3f5f"
            },
            "baxis": {
             "endlinecolor": "#2a3f5f",
             "gridcolor": "white",
             "linecolor": "white",
             "minorgridcolor": "white",
             "startlinecolor": "#2a3f5f"
            },
            "type": "carpet"
           }
          ],
          "choropleth": [
           {
            "colorbar": {
             "outlinewidth": 0,
             "ticks": ""
            },
            "type": "choropleth"
           }
          ],
          "contour": [
           {
            "colorbar": {
             "outlinewidth": 0,
             "ticks": ""
            },
            "colorscale": [
             [
              0,
              "#0d0887"
             ],
             [
              0.1111111111111111,
              "#46039f"
             ],
             [
              0.2222222222222222,
              "#7201a8"
             ],
             [
              0.3333333333333333,
              "#9c179e"
             ],
             [
              0.4444444444444444,
              "#bd3786"
             ],
             [
              0.5555555555555556,
              "#d8576b"
             ],
             [
              0.6666666666666666,
              "#ed7953"
             ],
             [
              0.7777777777777778,
              "#fb9f3a"
             ],
             [
              0.8888888888888888,
              "#fdca26"
             ],
             [
              1,
              "#f0f921"
             ]
            ],
            "type": "contour"
           }
          ],
          "contourcarpet": [
           {
            "colorbar": {
             "outlinewidth": 0,
             "ticks": ""
            },
            "type": "contourcarpet"
           }
          ],
          "heatmap": [
           {
            "colorbar": {
             "outlinewidth": 0,
             "ticks": ""
            },
            "colorscale": [
             [
              0,
              "#0d0887"
             ],
             [
              0.1111111111111111,
              "#46039f"
             ],
             [
              0.2222222222222222,
              "#7201a8"
             ],
             [
              0.3333333333333333,
              "#9c179e"
             ],
             [
              0.4444444444444444,
              "#bd3786"
             ],
             [
              0.5555555555555556,
              "#d8576b"
             ],
             [
              0.6666666666666666,
              "#ed7953"
             ],
             [
              0.7777777777777778,
              "#fb9f3a"
             ],
             [
              0.8888888888888888,
              "#fdca26"
             ],
             [
              1,
              "#f0f921"
             ]
            ],
            "type": "heatmap"
           }
          ],
          "heatmapgl": [
           {
            "colorbar": {
             "outlinewidth": 0,
             "ticks": ""
            },
            "colorscale": [
             [
              0,
              "#0d0887"
             ],
             [
              0.1111111111111111,
              "#46039f"
             ],
             [
              0.2222222222222222,
              "#7201a8"
             ],
             [
              0.3333333333333333,
              "#9c179e"
             ],
             [
              0.4444444444444444,
              "#bd3786"
             ],
             [
              0.5555555555555556,
              "#d8576b"
             ],
             [
              0.6666666666666666,
              "#ed7953"
             ],
             [
              0.7777777777777778,
              "#fb9f3a"
             ],
             [
              0.8888888888888888,
              "#fdca26"
             ],
             [
              1,
              "#f0f921"
             ]
            ],
            "type": "heatmapgl"
           }
          ],
          "histogram": [
           {
            "marker": {
             "colorbar": {
              "outlinewidth": 0,
              "ticks": ""
             }
            },
            "type": "histogram"
           }
          ],
          "histogram2d": [
           {
            "colorbar": {
             "outlinewidth": 0,
             "ticks": ""
            },
            "colorscale": [
             [
              0,
              "#0d0887"
             ],
             [
              0.1111111111111111,
              "#46039f"
             ],
             [
              0.2222222222222222,
              "#7201a8"
             ],
             [
              0.3333333333333333,
              "#9c179e"
             ],
             [
              0.4444444444444444,
              "#bd3786"
             ],
             [
              0.5555555555555556,
              "#d8576b"
             ],
             [
              0.6666666666666666,
              "#ed7953"
             ],
             [
              0.7777777777777778,
              "#fb9f3a"
             ],
             [
              0.8888888888888888,
              "#fdca26"
             ],
             [
              1,
              "#f0f921"
             ]
            ],
            "type": "histogram2d"
           }
          ],
          "histogram2dcontour": [
           {
            "colorbar": {
             "outlinewidth": 0,
             "ticks": ""
            },
            "colorscale": [
             [
              0,
              "#0d0887"
             ],
             [
              0.1111111111111111,
              "#46039f"
             ],
             [
              0.2222222222222222,
              "#7201a8"
             ],
             [
              0.3333333333333333,
              "#9c179e"
             ],
             [
              0.4444444444444444,
              "#bd3786"
             ],
             [
              0.5555555555555556,
              "#d8576b"
             ],
             [
              0.6666666666666666,
              "#ed7953"
             ],
             [
              0.7777777777777778,
              "#fb9f3a"
             ],
             [
              0.8888888888888888,
              "#fdca26"
             ],
             [
              1,
              "#f0f921"
             ]
            ],
            "type": "histogram2dcontour"
           }
          ],
          "mesh3d": [
           {
            "colorbar": {
             "outlinewidth": 0,
             "ticks": ""
            },
            "type": "mesh3d"
           }
          ],
          "parcoords": [
           {
            "line": {
             "colorbar": {
              "outlinewidth": 0,
              "ticks": ""
             }
            },
            "type": "parcoords"
           }
          ],
          "pie": [
           {
            "automargin": true,
            "type": "pie"
           }
          ],
          "scatter": [
           {
            "marker": {
             "colorbar": {
              "outlinewidth": 0,
              "ticks": ""
             }
            },
            "type": "scatter"
           }
          ],
          "scatter3d": [
           {
            "line": {
             "colorbar": {
              "outlinewidth": 0,
              "ticks": ""
             }
            },
            "marker": {
             "colorbar": {
              "outlinewidth": 0,
              "ticks": ""
             }
            },
            "type": "scatter3d"
           }
          ],
          "scattercarpet": [
           {
            "marker": {
             "colorbar": {
              "outlinewidth": 0,
              "ticks": ""
             }
            },
            "type": "scattercarpet"
           }
          ],
          "scattergeo": [
           {
            "marker": {
             "colorbar": {
              "outlinewidth": 0,
              "ticks": ""
             }
            },
            "type": "scattergeo"
           }
          ],
          "scattergl": [
           {
            "marker": {
             "colorbar": {
              "outlinewidth": 0,
              "ticks": ""
             }
            },
            "type": "scattergl"
           }
          ],
          "scattermapbox": [
           {
            "marker": {
             "colorbar": {
              "outlinewidth": 0,
              "ticks": ""
             }
            },
            "type": "scattermapbox"
           }
          ],
          "scatterpolar": [
           {
            "marker": {
             "colorbar": {
              "outlinewidth": 0,
              "ticks": ""
             }
            },
            "type": "scatterpolar"
           }
          ],
          "scatterpolargl": [
           {
            "marker": {
             "colorbar": {
              "outlinewidth": 0,
              "ticks": ""
             }
            },
            "type": "scatterpolargl"
           }
          ],
          "scatterternary": [
           {
            "marker": {
             "colorbar": {
              "outlinewidth": 0,
              "ticks": ""
             }
            },
            "type": "scatterternary"
           }
          ],
          "surface": [
           {
            "colorbar": {
             "outlinewidth": 0,
             "ticks": ""
            },
            "colorscale": [
             [
              0,
              "#0d0887"
             ],
             [
              0.1111111111111111,
              "#46039f"
             ],
             [
              0.2222222222222222,
              "#7201a8"
             ],
             [
              0.3333333333333333,
              "#9c179e"
             ],
             [
              0.4444444444444444,
              "#bd3786"
             ],
             [
              0.5555555555555556,
              "#d8576b"
             ],
             [
              0.6666666666666666,
              "#ed7953"
             ],
             [
              0.7777777777777778,
              "#fb9f3a"
             ],
             [
              0.8888888888888888,
              "#fdca26"
             ],
             [
              1,
              "#f0f921"
             ]
            ],
            "type": "surface"
           }
          ],
          "table": [
           {
            "cells": {
             "fill": {
              "color": "#EBF0F8"
             },
             "line": {
              "color": "white"
             }
            },
            "header": {
             "fill": {
              "color": "#C8D4E3"
             },
             "line": {
              "color": "white"
             }
            },
            "type": "table"
           }
          ]
         },
         "layout": {
          "annotationdefaults": {
           "arrowcolor": "#2a3f5f",
           "arrowhead": 0,
           "arrowwidth": 1
          },
          "coloraxis": {
           "colorbar": {
            "outlinewidth": 0,
            "ticks": ""
           }
          },
          "colorscale": {
           "diverging": [
            [
             0,
             "#8e0152"
            ],
            [
             0.1,
             "#c51b7d"
            ],
            [
             0.2,
             "#de77ae"
            ],
            [
             0.3,
             "#f1b6da"
            ],
            [
             0.4,
             "#fde0ef"
            ],
            [
             0.5,
             "#f7f7f7"
            ],
            [
             0.6,
             "#e6f5d0"
            ],
            [
             0.7,
             "#b8e186"
            ],
            [
             0.8,
             "#7fbc41"
            ],
            [
             0.9,
             "#4d9221"
            ],
            [
             1,
             "#276419"
            ]
           ],
           "sequential": [
            [
             0,
             "#0d0887"
            ],
            [
             0.1111111111111111,
             "#46039f"
            ],
            [
             0.2222222222222222,
             "#7201a8"
            ],
            [
             0.3333333333333333,
             "#9c179e"
            ],
            [
             0.4444444444444444,
             "#bd3786"
            ],
            [
             0.5555555555555556,
             "#d8576b"
            ],
            [
             0.6666666666666666,
             "#ed7953"
            ],
            [
             0.7777777777777778,
             "#fb9f3a"
            ],
            [
             0.8888888888888888,
             "#fdca26"
            ],
            [
             1,
             "#f0f921"
            ]
           ],
           "sequentialminus": [
            [
             0,
             "#0d0887"
            ],
            [
             0.1111111111111111,
             "#46039f"
            ],
            [
             0.2222222222222222,
             "#7201a8"
            ],
            [
             0.3333333333333333,
             "#9c179e"
            ],
            [
             0.4444444444444444,
             "#bd3786"
            ],
            [
             0.5555555555555556,
             "#d8576b"
            ],
            [
             0.6666666666666666,
             "#ed7953"
            ],
            [
             0.7777777777777778,
             "#fb9f3a"
            ],
            [
             0.8888888888888888,
             "#fdca26"
            ],
            [
             1,
             "#f0f921"
            ]
           ]
          },
          "colorway": [
           "#636efa",
           "#EF553B",
           "#00cc96",
           "#ab63fa",
           "#FFA15A",
           "#19d3f3",
           "#FF6692",
           "#B6E880",
           "#FF97FF",
           "#FECB52"
          ],
          "font": {
           "color": "#2a3f5f"
          },
          "geo": {
           "bgcolor": "white",
           "lakecolor": "white",
           "landcolor": "#E5ECF6",
           "showlakes": true,
           "showland": true,
           "subunitcolor": "white"
          },
          "hoverlabel": {
           "align": "left"
          },
          "hovermode": "closest",
          "mapbox": {
           "style": "light"
          },
          "paper_bgcolor": "white",
          "plot_bgcolor": "#E5ECF6",
          "polar": {
           "angularaxis": {
            "gridcolor": "white",
            "linecolor": "white",
            "ticks": ""
           },
           "bgcolor": "#E5ECF6",
           "radialaxis": {
            "gridcolor": "white",
            "linecolor": "white",
            "ticks": ""
           }
          },
          "scene": {
           "xaxis": {
            "backgroundcolor": "#E5ECF6",
            "gridcolor": "white",
            "gridwidth": 2,
            "linecolor": "white",
            "showbackground": true,
            "ticks": "",
            "zerolinecolor": "white"
           },
           "yaxis": {
            "backgroundcolor": "#E5ECF6",
            "gridcolor": "white",
            "gridwidth": 2,
            "linecolor": "white",
            "showbackground": true,
            "ticks": "",
            "zerolinecolor": "white"
           },
           "zaxis": {
            "backgroundcolor": "#E5ECF6",
            "gridcolor": "white",
            "gridwidth": 2,
            "linecolor": "white",
            "showbackground": true,
            "ticks": "",
            "zerolinecolor": "white"
           }
          },
          "shapedefaults": {
           "line": {
            "color": "#2a3f5f"
           }
          },
          "ternary": {
           "aaxis": {
            "gridcolor": "white",
            "linecolor": "white",
            "ticks": ""
           },
           "baxis": {
            "gridcolor": "white",
            "linecolor": "white",
            "ticks": ""
           },
           "bgcolor": "#E5ECF6",
           "caxis": {
            "gridcolor": "white",
            "linecolor": "white",
            "ticks": ""
           }
          },
          "title": {
           "x": 0.05
          },
          "xaxis": {
           "automargin": true,
           "gridcolor": "white",
           "linecolor": "white",
           "ticks": "",
           "title": {
            "standoff": 15
           },
           "zerolinecolor": "white",
           "zerolinewidth": 2
          },
          "yaxis": {
           "automargin": true,
           "gridcolor": "white",
           "linecolor": "white",
           "ticks": "",
           "title": {
            "standoff": 15
           },
           "zerolinecolor": "white",
           "zerolinewidth": 2
          }
         }
        },
        "title": {
         "text": "<b>O'ahu Zoning Acreage Comparison</b>",
         "x": 0.06,
         "y": 0.95
        },
        "treemapcolorway": [
         "#EDFFE5",
         "#D8FB77",
         "#F9F86F",
         "#DDDBD1",
         "#E596EC",
         "#F7C057",
         "#EC5C4C",
         "#AAF2E2",
         "#FACCE0"
        ],
        "width": 1500
       }
      },
      "image/png": "[encoded data removed]",
      "text/html": [
       "<div>                            <div id=\"3259b809-21f0-4f43-a767-af8adf73fc59\" class=\"plotly-graph-div\" style=\"height:1000px; width:1500px;\"></div>            <script type=\"text/javascript\">                require([\"plotly\"], function(Plotly) {                    window.PLOTLYENV=window.PLOTLYENV || {};                                    if (document.getElementById(\"3259b809-21f0-4f43-a767-af8adf73fc59\")) {                    Plotly.newPlot(                        \"3259b809-21f0-4f43-a767-af8adf73fc59\",                        [{\"branchvalues\": \"total\", \"domain\": {\"x\": [0.0, 1.0], \"y\": [0.0, 1.0]}, \"hovertemplate\": \"labels=%{label}<br>area_acres=%{value}<br>parent=%{parent}<br>id=%{id}<extra></extra>\", \"ids\": [\"Apartments/A-1\", \"Apartments/A-2\", \"Agricultural/AG-1\", \"Agricultural/AG-2\", \"Apartments/AMX-2\", \"Business/B-1\", \"Business/B-2\", \"Business/BMX-3\", \"Agricultural/COUNTRY\", \"Military and Federal/F-1\", \"Industrial/I-1\", \"Industrial/I-2\", \"Industrial/I-3\", \"Industrial/IMX-1\", \"Other/KAKAAKO COMM. DEV. DISTRICT\", \"Preservation/P-1\", \"Preservation/P-2\", \"Other/PUBLIC PRECINCT\", \"Residential/R-10\", \"Residential/R-20\", \"Residential/R-3.5\", \"Residential/R-5\", \"Residential/R-7.5\", \"Resort/RESORT\", \"Other/RESORT MIXED USE PRECINCT\", \"Agricultural\", \"Apartments\", \"Business\", \"Industrial\", \"Military and Federal\", \"Other\", \"Preservation\", \"Residential\", \"Resort\"], \"labels\": [\"A-1\", \"A-2\", \"AG-1\", \"AG-2\", \"AMX-2\", \"B-1\", \"B-2\", \"BMX-3\", \"COUNTRY\", \"F-1\", \"I-1\", \"I-2\", \"I-3\", \"IMX-1\", \"KAKAAKO COMM. DEV. DISTRICT\", \"P-1\", \"P-2\", \"PUBLIC PRECINCT\", \"R-10\", \"R-20\", \"R-3.5\", \"R-5\", \"R-7.5\", \"RESORT\", \"RESORT MIXED USE PRECINCT\", \"Agricultural\", \"Apartments\", \"Business\", \"Industrial\", \"Military and Federal\", \"Other\", \"Preservation\", \"Residential\", \"Resort\"], \"name\": \"\", \"parents\": [\"Apartments\", \"Apartments\", \"Agricultural\", \"Agricultural\", \"Apartments\", \"Business\", \"Business\", \"Business\", \"Agricultural\", \"Military and Federal\", \"Industrial\", \"Industrial\", \"Industrial\", \"Industrial\", \"Other\", \"Preservation\", \"Preservation\", \"Other\", \"Residential\", \"Residential\", \"Residential\", \"Residential\", \"Residential\", \"Resort\", \"Other\", \"\", \"\", \"\", \"\", \"\", \"\", \"\", \"\", \"\"], \"type\": \"treemap\", \"values\": [3306.0, 2936.0, 63458.0, 41834.0, 487.0, 414.0, 1766.0, 1712.0, 3254.0, 38574.0, 234.0, 6134.0, 896.0, 1179.0, 618.0, 157475.0, 17135.0, 259.0, 5023.0, 521.0, 1735.0, 26875.0, 6351.0, 514.0, 208.0, 108546.0, 6729.0, 3892.0, 8443.0, 38574.0, 1085.0, 174610.0, 40505.0, 514.0]}],                        {\"height\": 1000, \"legend\": {\"tracegroupgap\": 0}, \"margin\": {\"t\": 60}, \"template\": {\"data\": {\"bar\": [{\"error_x\": {\"color\": \"#2a3f5f\"}, \"error_y\": {\"color\": \"#2a3f5f\"}, \"marker\": {\"line\": {\"color\": \"#E5ECF6\", \"width\": 0.5}}, \"type\": \"bar\"}], \"barpolar\": [{\"marker\": {\"line\": {\"color\": \"#E5ECF6\", \"width\": 0.5}}, \"type\": \"barpolar\"}], \"carpet\": [{\"aaxis\": {\"endlinecolor\": \"#2a3f5f\", \"gridcolor\": \"white\", \"linecolor\": \"white\", \"minorgridcolor\": \"white\", \"startlinecolor\": \"#2a3f5f\"}, \"baxis\": {\"endlinecolor\": \"#2a3f5f\", \"gridcolor\": \"white\", \"linecolor\": \"white\", \"minorgridcolor\": \"white\", \"startlinecolor\": \"#2a3f5f\"}, \"type\": \"carpet\"}], \"choropleth\": [{\"colorbar\": {\"outlinewidth\": 0, \"ticks\": \"\"}, \"type\": \"choropleth\"}], \"contour\": [{\"colorbar\": {\"outlinewidth\": 0, \"ticks\": \"\"}, \"colorscale\": [[0.0, \"#0d0887\"], [0.1111111111111111, \"#46039f\"], [0.2222222222222222, \"#7201a8\"], [0.3333333333333333, \"#9c179e\"], [0.4444444444444444, \"#bd3786\"], [0.5555555555555556, \"#d8576b\"], [0.6666666666666666, \"#ed7953\"], [0.7777777777777778, \"#fb9f3a\"], [0.8888888888888888, \"#fdca26\"], [1.0, \"#f0f921\"]], \"type\": \"contour\"}], \"contourcarpet\": [{\"colorbar\": {\"outlinewidth\": 0, \"ticks\": \"\"}, \"type\": \"contourcarpet\"}], \"heatmap\": [{\"colorbar\": {\"outlinewidth\": 0, \"ticks\": \"\"}, \"colorscale\": [[0.0, \"#0d0887\"], [0.1111111111111111, \"#46039f\"], [0.2222222222222222, \"#7201a8\"], [0.3333333333333333, \"#9c179e\"], [0.4444444444444444, \"#bd3786\"], [0.5555555555555556, \"#d8576b\"], [0.6666666666666666, \"#ed7953\"], [0.7777777777777778, \"#fb9f3a\"], [0.8888888888888888, \"#fdca26\"], [1.0, \"#f0f921\"]], \"type\": \"heatmap\"}], \"heatmapgl\": [{\"colorbar\": {\"outlinewidth\": 0, \"ticks\": \"\"}, \"colorscale\": [[0.0, \"#0d0887\"], [0.1111111111111111, \"#46039f\"], [0.2222222222222222, \"#7201a8\"], [0.3333333333333333, \"#9c179e\"], [0.4444444444444444, \"#bd3786\"], [0.5555555555555556, \"#d8576b\"], [0.6666666666666666, \"#ed7953\"], [0.7777777777777778, \"#fb9f3a\"], [0.8888888888888888, \"#fdca26\"], [1.0, \"#f0f921\"]], \"type\": \"heatmapgl\"}], \"histogram\": [{\"marker\": {\"colorbar\": {\"outlinewidth\": 0, \"ticks\": \"\"}}, \"type\": \"histogram\"}], \"histogram2d\": [{\"colorbar\": {\"outlinewidth\": 0, \"ticks\": \"\"}, \"colorscale\": [[0.0, \"#0d0887\"], [0.1111111111111111, \"#46039f\"], [0.2222222222222222, \"#7201a8\"], [0.3333333333333333, \"#9c179e\"], [0.4444444444444444, \"#bd3786\"], [0.5555555555555556, \"#d8576b\"], [0.6666666666666666, \"#ed7953\"], [0.7777777777777778, \"#fb9f3a\"], [0.8888888888888888, \"#fdca26\"], [1.0, \"#f0f921\"]], \"type\": \"histogram2d\"}], \"histogram2dcontour\": [{\"colorbar\": {\"outlinewidth\": 0, \"ticks\": \"\"}, \"colorscale\": [[0.0, \"#0d0887\"], [0.1111111111111111, \"#46039f\"], [0.2222222222222222, \"#7201a8\"], [0.3333333333333333, \"#9c179e\"], [0.4444444444444444, \"#bd3786\"], [0.5555555555555556, \"#d8576b\"], [0.6666666666666666, \"#ed7953\"], [0.7777777777777778, \"#fb9f3a\"], [0.8888888888888888, \"#fdca26\"], [1.0, \"#f0f921\"]], \"type\": \"histogram2dcontour\"}], \"mesh3d\": [{\"colorbar\": {\"outlinewidth\": 0, \"ticks\": \"\"}, \"type\": \"mesh3d\"}], \"parcoords\": [{\"line\": {\"colorbar\": {\"outlinewidth\": 0, \"ticks\": \"\"}}, \"type\": \"parcoords\"}], \"pie\": [{\"automargin\": true, \"type\": \"pie\"}], \"scatter\": [{\"marker\": {\"colorbar\": {\"outlinewidth\": 0, \"ticks\": \"\"}}, \"type\": \"scatter\"}], \"scatter3d\": [{\"line\": {\"colorbar\": {\"outlinewidth\": 0, \"ticks\": \"\"}}, \"marker\": {\"colorbar\": {\"outlinewidth\": 0, \"ticks\": \"\"}}, \"type\": \"scatter3d\"}], \"scattercarpet\": [{\"marker\": {\"colorbar\": {\"outlinewidth\": 0, \"ticks\": \"\"}}, \"type\": \"scattercarpet\"}], \"scattergeo\": [{\"marker\": {\"colorbar\": {\"outlinewidth\": 0, \"ticks\": \"\"}}, \"type\": \"scattergeo\"}], \"scattergl\": [{\"marker\": {\"colorbar\": {\"outlinewidth\": 0, \"ticks\": \"\"}}, \"type\": \"scattergl\"}], \"scattermapbox\": [{\"marker\": {\"colorbar\": {\"outlinewidth\": 0, \"ticks\": \"\"}}, \"type\": \"scattermapbox\"}], \"scatterpolar\": [{\"marker\": {\"colorbar\": {\"outlinewidth\": 0, \"ticks\": \"\"}}, \"type\": \"scatterpolar\"}], \"scatterpolargl\": [{\"marker\": {\"colorbar\": {\"outlinewidth\": 0, \"ticks\": \"\"}}, \"type\": \"scatterpolargl\"}], \"scatterternary\": [{\"marker\": {\"colorbar\": {\"outlinewidth\": 0, \"ticks\": \"\"}}, \"type\": \"scatterternary\"}], \"surface\": [{\"colorbar\": {\"outlinewidth\": 0, \"ticks\": \"\"}, \"colorscale\": [[0.0, \"#0d0887\"], [0.1111111111111111, \"#46039f\"], [0.2222222222222222, \"#7201a8\"], [0.3333333333333333, \"#9c179e\"], [0.4444444444444444, \"#bd3786\"], [0.5555555555555556, \"#d8576b\"], [0.6666666666666666, \"#ed7953\"], [0.7777777777777778, \"#fb9f3a\"], [0.8888888888888888, \"#fdca26\"], [1.0, \"#f0f921\"]], \"type\": \"surface\"}], \"table\": [{\"cells\": {\"fill\": {\"color\": \"#EBF0F8\"}, \"line\": {\"color\": \"white\"}}, \"header\": {\"fill\": {\"color\": \"#C8D4E3\"}, \"line\": {\"color\": \"white\"}}, \"type\": \"table\"}]}, \"layout\": {\"annotationdefaults\": {\"arrowcolor\": \"#2a3f5f\", \"arrowhead\": 0, \"arrowwidth\": 1}, \"coloraxis\": {\"colorbar\": {\"outlinewidth\": 0, \"ticks\": \"\"}}, \"colorscale\": {\"diverging\": [[0, \"#8e0152\"], [0.1, \"#c51b7d\"], [0.2, \"#de77ae\"], [0.3, \"#f1b6da\"], [0.4, \"#fde0ef\"], [0.5, \"#f7f7f7\"], [0.6, \"#e6f5d0\"], [0.7, \"#b8e186\"], [0.8, \"#7fbc41\"], [0.9, \"#4d9221\"], [1, \"#276419\"]], \"sequential\": [[0.0, \"#0d0887\"], [0.1111111111111111, \"#46039f\"], [0.2222222222222222, \"#7201a8\"], [0.3333333333333333, \"#9c179e\"], [0.4444444444444444, \"#bd3786\"], [0.5555555555555556, \"#d8576b\"], [0.6666666666666666, \"#ed7953\"], [0.7777777777777778, \"#fb9f3a\"], [0.8888888888888888, \"#fdca26\"], [1.0, \"#f0f921\"]], \"sequentialminus\": [[0.0, \"#0d0887\"], [0.1111111111111111, \"#46039f\"], [0.2222222222222222, \"#7201a8\"], [0.3333333333333333, \"#9c179e\"], [0.4444444444444444, \"#bd3786\"], [0.5555555555555556, \"#d8576b\"], [0.6666666666666666, \"#ed7953\"], [0.7777777777777778, \"#fb9f3a\"], [0.8888888888888888, \"#fdca26\"], [1.0, \"#f0f921\"]]}, \"colorway\": [\"#636efa\", \"#EF553B\", \"#00cc96\", \"#ab63fa\", \"#FFA15A\", \"#19d3f3\", \"#FF6692\", \"#B6E880\", \"#FF97FF\", \"#FECB52\"], \"font\": {\"color\": \"#2a3f5f\"}, \"geo\": {\"bgcolor\": \"white\", \"lakecolor\": \"white\", \"landcolor\": \"#E5ECF6\", \"showlakes\": true, \"showland\": true, \"subunitcolor\": \"white\"}, \"hoverlabel\": {\"align\": \"left\"}, \"hovermode\": \"closest\", \"mapbox\": {\"style\": \"light\"}, \"paper_bgcolor\": \"white\", \"plot_bgcolor\": \"#E5ECF6\", \"polar\": {\"angularaxis\": {\"gridcolor\": \"white\", \"linecolor\": \"white\", \"ticks\": \"\"}, \"bgcolor\": \"#E5ECF6\", \"radialaxis\": {\"gridcolor\": \"white\", \"linecolor\": \"white\", \"ticks\": \"\"}}, \"scene\": {\"xaxis\": {\"backgroundcolor\": \"#E5ECF6\", \"gridcolor\": \"white\", \"gridwidth\": 2, \"linecolor\": \"white\", \"showbackground\": true, \"ticks\": \"\", \"zerolinecolor\": \"white\"}, \"yaxis\": {\"backgroundcolor\": \"#E5ECF6\", \"gridcolor\": \"white\", \"gridwidth\": 2, \"linecolor\": \"white\", \"showbackground\": true, \"ticks\": \"\", \"zerolinecolor\": \"white\"}, \"zaxis\": {\"backgroundcolor\": \"#E5ECF6\", \"gridcolor\": \"white\", \"gridwidth\": 2, \"linecolor\": \"white\", \"showbackground\": true, \"ticks\": \"\", \"zerolinecolor\": \"white\"}}, \"shapedefaults\": {\"line\": {\"color\": \"#2a3f5f\"}}, \"ternary\": {\"aaxis\": {\"gridcolor\": \"white\", \"linecolor\": \"white\", \"ticks\": \"\"}, \"baxis\": {\"gridcolor\": \"white\", \"linecolor\": \"white\", \"ticks\": \"\"}, \"bgcolor\": \"#E5ECF6\", \"caxis\": {\"gridcolor\": \"white\", \"linecolor\": \"white\", \"ticks\": \"\"}}, \"title\": {\"x\": 0.05}, \"xaxis\": {\"automargin\": true, \"gridcolor\": \"white\", \"linecolor\": \"white\", \"ticks\": \"\", \"title\": {\"standoff\": 15}, \"zerolinecolor\": \"white\", \"zerolinewidth\": 2}, \"yaxis\": {\"automargin\": true, \"gridcolor\": \"white\", \"linecolor\": \"white\", \"ticks\": \"\", \"title\": {\"standoff\": 15}, \"zerolinecolor\": \"white\", \"zerolinewidth\": 2}}}, \"title\": {\"text\": \"<b>O'ahu Zoning Acreage Comparison</b>\", \"x\": 0.06, \"y\": 0.95}, \"treemapcolorway\": [\"#EDFFE5\", \"#D8FB77\", \"#F9F86F\", \"#DDDBD1\", \"#E596EC\", \"#F7C057\", \"#EC5C4C\", \"#AAF2E2\", \"#FACCE0\"], \"width\": 1500},                        {\"responsive\": true}                    ).then(function(){\n",
       "                            \n",
       "var gd = document.getElementById('3259b809-21f0-4f43-a767-af8adf73fc59');\n",
       "var x = new MutationObserver(function (mutations, observer) {{\n",
       "        var display = window.getComputedStyle(gd).display;\n",
       "        if (!display || display === 'none') {{\n",
       "            console.log([gd, 'removed!']);\n",
       "            Plotly.purge(gd);\n",
       "            observer.disconnect();\n",
       "        }}\n",
       "}});\n",
       "\n",
       "// Listen for the removal of the full notebook cells\n",
       "var notebookContainer = gd.closest('#notebook-container');\n",
       "if (notebookContainer) {{\n",
       "    x.observe(notebookContainer, {childList: true});\n",
       "}}\n",
       "\n",
       "// Listen for the clearing of the current output cell\n",
       "var outputEl = gd.closest('.output');\n",
       "if (outputEl) {{\n",
       "    x.observe(outputEl, {childList: true});\n",
       "}}\n",
       "\n",
       "                        })                };                });            </script>        </div>"
      ]
     },
     "metadata": {},
     "output_type": "display_data"
    }
   ],
   "source": [
    "import plotly.express as px\n",
    "fig = px.treemap(zone_acres, \n",
    "                 path=['zone_group', 'zoning_label'], \n",
    "                 values='area_acres',\n",
    "                 color_discrete_sequence=['#EDFFE5', '#D8FB77', '#F9F86F', '#DDDBD1', '#E596EC', '#F7C057', '#EC5C4C', '#AAF2E2', '#FACCE0'])\n",
    "                \n",
    "\n",
    "\n",
    "fig.update_layout(title_text =\"<b>O'ahu Zoning Acreage Comparison</b>\", \n",
    "                  title_x=0.06, title_y=.95,\n",
    "                  width=1500,\n",
    "                  height=1000\n",
    "                 )\n",
    "\n",
    "\n",
    "    \n",
    "fig.show()"
   ]
  },
  {
   "cell_type": "code",
   "execution_count": 11,
   "metadata": {},
   "outputs": [
    {
     "name": "stdout",
     "output_type": "stream",
     "text": [
      "(312608, 30)\n"
     ]
    },
    {
     "data": {
      "text/html": [
       "<div>\n",
       "<style scoped>\n",
       "    .dataframe tbody tr th:only-of-type {\n",
       "        vertical-align: middle;\n",
       "    }\n",
       "\n",
       "    .dataframe tbody tr th {\n",
       "        vertical-align: top;\n",
       "    }\n",
       "\n",
       "    .dataframe thead th {\n",
       "        text-align: right;\n",
       "    }\n",
       "</style>\n",
       "<table border=\"1\" class=\"dataframe\">\n",
       "  <thead>\n",
       "    <tr style=\"text-align: right;\">\n",
       "      <th></th>\n",
       "      <th>PARID</th>\n",
       "      <th>TMK</th>\n",
       "      <th>SUFFIX</th>\n",
       "      <th>SEQ</th>\n",
       "      <th>TAXYR</th>\n",
       "      <th>TAXBILLOWNER</th>\n",
       "      <th>OWNTYPE1</th>\n",
       "      <th>PCTOWNER</th>\n",
       "      <th>TAXBILLADDRESS</th>\n",
       "      <th>TAXBILLCITY</th>\n",
       "      <th>...</th>\n",
       "      <th>ADDRUNIT</th>\n",
       "      <th>UNITDESC</th>\n",
       "      <th>ADDRDIR</th>\n",
       "      <th>ADDRSTREET</th>\n",
       "      <th>ADDRTYPE</th>\n",
       "      <th>CLTADDRTYPE</th>\n",
       "      <th>OWNTYPE4</th>\n",
       "      <th>OWNNUM</th>\n",
       "      <th>TITLEDESC</th>\n",
       "      <th>OBJECTID</th>\n",
       "    </tr>\n",
       "  </thead>\n",
       "  <tbody>\n",
       "    <tr>\n",
       "      <th>0</th>\n",
       "      <td>360140040000</td>\n",
       "      <td>36014004</td>\n",
       "      <td>0</td>\n",
       "      <td>0</td>\n",
       "      <td>2021</td>\n",
       "      <td>YOUNG,ROYDEN S H</td>\n",
       "      <td>1A</td>\n",
       "      <td>100.0</td>\n",
       "      <td>NaN</td>\n",
       "      <td>HONOLULU</td>\n",
       "      <td>...</td>\n",
       "      <td>NaN</td>\n",
       "      <td>NaN</td>\n",
       "      <td>NaN</td>\n",
       "      <td>KEAKEALANI</td>\n",
       "      <td>ST</td>\n",
       "      <td>S</td>\n",
       "      <td>NaN</td>\n",
       "      <td>NaN</td>\n",
       "      <td>NaN</td>\n",
       "      <td>1</td>\n",
       "    </tr>\n",
       "    <tr>\n",
       "      <th>1</th>\n",
       "      <td>360140050000</td>\n",
       "      <td>36014005</td>\n",
       "      <td>0</td>\n",
       "      <td>0</td>\n",
       "      <td>2021</td>\n",
       "      <td>CHIN,YVONNE L P TR</td>\n",
       "      <td>1A</td>\n",
       "      <td>NaN</td>\n",
       "      <td>5255 KEAKEALANI ST</td>\n",
       "      <td>HONOLULU</td>\n",
       "      <td>...</td>\n",
       "      <td>NaN</td>\n",
       "      <td>NaN</td>\n",
       "      <td>NaN</td>\n",
       "      <td>NaN</td>\n",
       "      <td>NaN</td>\n",
       "      <td>N</td>\n",
       "      <td>NaN</td>\n",
       "      <td>NaN</td>\n",
       "      <td>NaN</td>\n",
       "      <td>2</td>\n",
       "    </tr>\n",
       "    <tr>\n",
       "      <th>2</th>\n",
       "      <td>360140060000</td>\n",
       "      <td>36014006</td>\n",
       "      <td>0</td>\n",
       "      <td>0</td>\n",
       "      <td>2021</td>\n",
       "      <td>HAWAIIAN ELECTRIC CO INC</td>\n",
       "      <td>1A</td>\n",
       "      <td>100.0</td>\n",
       "      <td>NaN</td>\n",
       "      <td>HONOLULU</td>\n",
       "      <td>...</td>\n",
       "      <td>2750</td>\n",
       "      <td>PO BOX</td>\n",
       "      <td>NaN</td>\n",
       "      <td>NaN</td>\n",
       "      <td>NaN</td>\n",
       "      <td>S</td>\n",
       "      <td>NaN</td>\n",
       "      <td>4000.0</td>\n",
       "      <td>NaN</td>\n",
       "      <td>3</td>\n",
       "    </tr>\n",
       "    <tr>\n",
       "      <th>3</th>\n",
       "      <td>330610860000</td>\n",
       "      <td>33061086</td>\n",
       "      <td>0</td>\n",
       "      <td>0</td>\n",
       "      <td>2021</td>\n",
       "      <td>SVW TRUST</td>\n",
       "      <td>1A</td>\n",
       "      <td>100.0</td>\n",
       "      <td>NaN</td>\n",
       "      <td>BEVERLY HILLS</td>\n",
       "      <td>...</td>\n",
       "      <td>683</td>\n",
       "      <td>APT</td>\n",
       "      <td>N</td>\n",
       "      <td>ROBERTSON</td>\n",
       "      <td>BLVD</td>\n",
       "      <td>S</td>\n",
       "      <td>NaN</td>\n",
       "      <td>NaN</td>\n",
       "      <td>NaN</td>\n",
       "      <td>4</td>\n",
       "    </tr>\n",
       "    <tr>\n",
       "      <th>4</th>\n",
       "      <td>230100281031</td>\n",
       "      <td>23010028</td>\n",
       "      <td>1031</td>\n",
       "      <td>0</td>\n",
       "      <td>2021</td>\n",
       "      <td>KC RAINBOW DEV CO LLC</td>\n",
       "      <td>1A</td>\n",
       "      <td>NaN</td>\n",
       "      <td>NaN</td>\n",
       "      <td>CUPERTINO</td>\n",
       "      <td>...</td>\n",
       "      <td>200</td>\n",
       "      <td>STE</td>\n",
       "      <td>NaN</td>\n",
       "      <td>STEVENS CREEK</td>\n",
       "      <td>BLVD</td>\n",
       "      <td>S</td>\n",
       "      <td>NaN</td>\n",
       "      <td>NaN</td>\n",
       "      <td>NaN</td>\n",
       "      <td>5</td>\n",
       "    </tr>\n",
       "  </tbody>\n",
       "</table>\n",
       "<p>5 rows × 30 columns</p>\n",
       "</div>"
      ],
      "text/plain": [
       "          PARID       TMK  SUFFIX  SEQ  TAXYR              TAXBILLOWNER  \\\n",
       "0  360140040000  36014004       0    0   2021          YOUNG,ROYDEN S H   \n",
       "1  360140050000  36014005       0    0   2021        CHIN,YVONNE L P TR   \n",
       "2  360140060000  36014006       0    0   2021  HAWAIIAN ELECTRIC CO INC   \n",
       "3  330610860000  33061086       0    0   2021                 SVW TRUST   \n",
       "4  230100281031  23010028    1031    0   2021     KC RAINBOW DEV CO LLC   \n",
       "\n",
       "  OWNTYPE1  PCTOWNER      TAXBILLADDRESS    TAXBILLCITY  ... ADDRUNIT  \\\n",
       "0       1A     100.0                 NaN       HONOLULU  ...      NaN   \n",
       "1       1A       NaN  5255 KEAKEALANI ST       HONOLULU  ...      NaN   \n",
       "2       1A     100.0                 NaN       HONOLULU  ...     2750   \n",
       "3       1A     100.0                 NaN  BEVERLY HILLS  ...      683   \n",
       "4       1A       NaN                 NaN      CUPERTINO  ...      200   \n",
       "\n",
       "  UNITDESC  ADDRDIR     ADDRSTREET ADDRTYPE CLTADDRTYPE OWNTYPE4  OWNNUM  \\\n",
       "0      NaN      NaN     KEAKEALANI       ST           S      NaN     NaN   \n",
       "1      NaN      NaN            NaN      NaN           N      NaN     NaN   \n",
       "2   PO BOX      NaN            NaN      NaN           S      NaN  4000.0   \n",
       "3      APT        N      ROBERTSON     BLVD           S      NaN     NaN   \n",
       "4      STE      NaN  STEVENS CREEK     BLVD           S      NaN     NaN   \n",
       "\n",
       "  TITLEDESC  OBJECTID  \n",
       "0       NaN         1  \n",
       "1       NaN         2  \n",
       "2       NaN         3  \n",
       "3       NaN         4  \n",
       "4       NaN         5  \n",
       "\n",
       "[5 rows x 30 columns]"
      ]
     },
     "execution_count": 11,
     "metadata": {},
     "output_type": "execute_result"
    }
   ],
   "source": [
    "#import parcel owner information for city and county of Honolulu\n",
    "\n",
    "hon_ownertype_int = pd.read_csv('/Users/micahswain/Desktop/Working/Unit 1 Build Week/OWNERDAT_-_Table.csv', low_memory=False)\n",
    "\n",
    "print(hon_ownertype_int.shape)\n",
    "hon_ownertype_int.head()"
   ]
  },
  {
   "cell_type": "code",
   "execution_count": 12,
   "metadata": {},
   "outputs": [
    {
     "data": {
      "text/html": [
       "<div>\n",
       "<style scoped>\n",
       "    .dataframe tbody tr th:only-of-type {\n",
       "        vertical-align: middle;\n",
       "    }\n",
       "\n",
       "    .dataframe tbody tr th {\n",
       "        vertical-align: top;\n",
       "    }\n",
       "\n",
       "    .dataframe thead th {\n",
       "        text-align: right;\n",
       "    }\n",
       "</style>\n",
       "<table border=\"1\" class=\"dataframe\">\n",
       "  <thead>\n",
       "    <tr style=\"text-align: right;\">\n",
       "      <th></th>\n",
       "      <th>PARID</th>\n",
       "      <th>TAXBILLOWNER</th>\n",
       "      <th>TAXBILLCITY</th>\n",
       "      <th>TAXBILLSTATE</th>\n",
       "      <th>TAXBILLCOUNTRY</th>\n",
       "      <th>TAXBILLZIP5</th>\n",
       "      <th>TAXBILLZIP4</th>\n",
       "    </tr>\n",
       "  </thead>\n",
       "  <tbody>\n",
       "    <tr>\n",
       "      <th>0</th>\n",
       "      <td>360140040000</td>\n",
       "      <td>YOUNG,ROYDEN S H</td>\n",
       "      <td>HONOLULU</td>\n",
       "      <td>HI</td>\n",
       "      <td>NaN</td>\n",
       "      <td>96821.0</td>\n",
       "      <td>NaN</td>\n",
       "    </tr>\n",
       "    <tr>\n",
       "      <th>1</th>\n",
       "      <td>360140050000</td>\n",
       "      <td>CHIN,YVONNE L P TR</td>\n",
       "      <td>HONOLULU</td>\n",
       "      <td>HI</td>\n",
       "      <td>NaN</td>\n",
       "      <td>96821.0</td>\n",
       "      <td>NaN</td>\n",
       "    </tr>\n",
       "    <tr>\n",
       "      <th>2</th>\n",
       "      <td>360140060000</td>\n",
       "      <td>HAWAIIAN ELECTRIC CO INC</td>\n",
       "      <td>HONOLULU</td>\n",
       "      <td>HI</td>\n",
       "      <td>NaN</td>\n",
       "      <td>96840.0</td>\n",
       "      <td>NaN</td>\n",
       "    </tr>\n",
       "    <tr>\n",
       "      <th>3</th>\n",
       "      <td>330610860000</td>\n",
       "      <td>SVW TRUST</td>\n",
       "      <td>BEVERLY HILLS</td>\n",
       "      <td>CA</td>\n",
       "      <td>NaN</td>\n",
       "      <td>90210.0</td>\n",
       "      <td>NaN</td>\n",
       "    </tr>\n",
       "    <tr>\n",
       "      <th>4</th>\n",
       "      <td>230100281031</td>\n",
       "      <td>KC RAINBOW DEV CO LLC</td>\n",
       "      <td>CUPERTINO</td>\n",
       "      <td>CA</td>\n",
       "      <td>NaN</td>\n",
       "      <td>95014.0</td>\n",
       "      <td>NaN</td>\n",
       "    </tr>\n",
       "  </tbody>\n",
       "</table>\n",
       "</div>"
      ],
      "text/plain": [
       "          PARID              TAXBILLOWNER    TAXBILLCITY TAXBILLSTATE  \\\n",
       "0  360140040000          YOUNG,ROYDEN S H       HONOLULU           HI   \n",
       "1  360140050000        CHIN,YVONNE L P TR       HONOLULU           HI   \n",
       "2  360140060000  HAWAIIAN ELECTRIC CO INC       HONOLULU           HI   \n",
       "3  330610860000                 SVW TRUST  BEVERLY HILLS           CA   \n",
       "4  230100281031     KC RAINBOW DEV CO LLC      CUPERTINO           CA   \n",
       "\n",
       "  TAXBILLCOUNTRY  TAXBILLZIP5 TAXBILLZIP4  \n",
       "0            NaN      96821.0         NaN  \n",
       "1            NaN      96821.0         NaN  \n",
       "2            NaN      96840.0         NaN  \n",
       "3            NaN      90210.0         NaN  \n",
       "4            NaN      95014.0         NaN  "
      ]
     },
     "execution_count": 12,
     "metadata": {},
     "output_type": "execute_result"
    }
   ],
   "source": [
    "#remove unneeded columns\n",
    "\n",
    "hon_ownertype = hon_ownertype_int.drop(columns = ['TMK', 'SUFFIX', 'SEQ', 'PCTOWNER', 'TAXYR', 'OWNTYPE1', 'TAXBILLADDRESS',\n",
    "                                                 'GRPFLAG', 'MARSTAT', 'OWNTYPE3', 'ADDRNUM', 'ADDRSTREET',\n",
    "                                                 'ADDRTYPE', 'CLTADDRTYPE', 'OWNTYPE4', 'OWNNUM', 'TITLEDESC', \n",
    "                                                 'OBJECTID', 'ADDRESS1', 'ADDRESS3', 'ADDRUNIT', 'UNITDESC', 'ADDRDIR'])\n",
    "\n",
    "hon_ownertype.head()"
   ]
  },
  {
   "cell_type": "code",
   "execution_count": 13,
   "metadata": {},
   "outputs": [
    {
     "name": "stdout",
     "output_type": "stream",
     "text": [
      "(311307, 15)\n"
     ]
    },
    {
     "data": {
      "text/html": [
       "<div>\n",
       "<style scoped>\n",
       "    .dataframe tbody tr th:only-of-type {\n",
       "        vertical-align: middle;\n",
       "    }\n",
       "\n",
       "    .dataframe tbody tr th {\n",
       "        vertical-align: top;\n",
       "    }\n",
       "\n",
       "    .dataframe thead th {\n",
       "        text-align: right;\n",
       "    }\n",
       "</style>\n",
       "<table border=\"1\" class=\"dataframe\">\n",
       "  <thead>\n",
       "    <tr style=\"text-align: right;\">\n",
       "      <th></th>\n",
       "      <th>PARID</th>\n",
       "      <th>TMK</th>\n",
       "      <th>SUFFIX</th>\n",
       "      <th>SEQ</th>\n",
       "      <th>TAXYR</th>\n",
       "      <th>BUILDINGVALUE</th>\n",
       "      <th>BUILDINGEXEMPTION</th>\n",
       "      <th>LANDVALUE</th>\n",
       "      <th>LANDEXEMPTION</th>\n",
       "      <th>TAXRATECODE</th>\n",
       "      <th>TNETTAXVAL</th>\n",
       "      <th>OVRCLASS</th>\n",
       "      <th>PITTSQFT</th>\n",
       "      <th>PITTACRE</th>\n",
       "      <th>OBJECTID</th>\n",
       "    </tr>\n",
       "  </thead>\n",
       "  <tbody>\n",
       "    <tr>\n",
       "      <th>0</th>\n",
       "      <td>840260670000</td>\n",
       "      <td>84026067</td>\n",
       "      <td>0</td>\n",
       "      <td>6</td>\n",
       "      <td>2020</td>\n",
       "      <td>92200</td>\n",
       "      <td>0</td>\n",
       "      <td>259300</td>\n",
       "      <td>0</td>\n",
       "      <td>NaN</td>\n",
       "      <td>351500</td>\n",
       "      <td>NaN</td>\n",
       "      <td>NaN</td>\n",
       "      <td>NaN</td>\n",
       "      <td>1</td>\n",
       "    </tr>\n",
       "    <tr>\n",
       "      <th>1</th>\n",
       "      <td>840261280000</td>\n",
       "      <td>84026128</td>\n",
       "      <td>0</td>\n",
       "      <td>6</td>\n",
       "      <td>2020</td>\n",
       "      <td>86100</td>\n",
       "      <td>86100</td>\n",
       "      <td>244300</td>\n",
       "      <td>13900</td>\n",
       "      <td>NaN</td>\n",
       "      <td>230400</td>\n",
       "      <td>NaN</td>\n",
       "      <td>NaN</td>\n",
       "      <td>NaN</td>\n",
       "      <td>2</td>\n",
       "    </tr>\n",
       "    <tr>\n",
       "      <th>2</th>\n",
       "      <td>840261290000</td>\n",
       "      <td>84026129</td>\n",
       "      <td>0</td>\n",
       "      <td>6</td>\n",
       "      <td>2020</td>\n",
       "      <td>76800</td>\n",
       "      <td>76800</td>\n",
       "      <td>244300</td>\n",
       "      <td>63200</td>\n",
       "      <td>NaN</td>\n",
       "      <td>181100</td>\n",
       "      <td>NaN</td>\n",
       "      <td>NaN</td>\n",
       "      <td>NaN</td>\n",
       "      <td>3</td>\n",
       "    </tr>\n",
       "    <tr>\n",
       "      <th>3</th>\n",
       "      <td>840261300000</td>\n",
       "      <td>84026130</td>\n",
       "      <td>0</td>\n",
       "      <td>6</td>\n",
       "      <td>2020</td>\n",
       "      <td>114200</td>\n",
       "      <td>114200</td>\n",
       "      <td>312500</td>\n",
       "      <td>25800</td>\n",
       "      <td>NaN</td>\n",
       "      <td>286700</td>\n",
       "      <td>NaN</td>\n",
       "      <td>NaN</td>\n",
       "      <td>NaN</td>\n",
       "      <td>4</td>\n",
       "    </tr>\n",
       "    <tr>\n",
       "      <th>4</th>\n",
       "      <td>840270010000</td>\n",
       "      <td>84027001</td>\n",
       "      <td>0</td>\n",
       "      <td>6</td>\n",
       "      <td>2020</td>\n",
       "      <td>128600</td>\n",
       "      <td>0</td>\n",
       "      <td>274200</td>\n",
       "      <td>0</td>\n",
       "      <td>NaN</td>\n",
       "      <td>402800</td>\n",
       "      <td>NaN</td>\n",
       "      <td>NaN</td>\n",
       "      <td>NaN</td>\n",
       "      <td>5</td>\n",
       "    </tr>\n",
       "  </tbody>\n",
       "</table>\n",
       "</div>"
      ],
      "text/plain": [
       "          PARID       TMK  SUFFIX  SEQ  TAXYR  BUILDINGVALUE  \\\n",
       "0  840260670000  84026067       0    6   2020          92200   \n",
       "1  840261280000  84026128       0    6   2020          86100   \n",
       "2  840261290000  84026129       0    6   2020          76800   \n",
       "3  840261300000  84026130       0    6   2020         114200   \n",
       "4  840270010000  84027001       0    6   2020         128600   \n",
       "\n",
       "   BUILDINGEXEMPTION  LANDVALUE  LANDEXEMPTION  TAXRATECODE  TNETTAXVAL  \\\n",
       "0                  0     259300              0          NaN      351500   \n",
       "1              86100     244300          13900          NaN      230400   \n",
       "2              76800     244300          63200          NaN      181100   \n",
       "3             114200     312500          25800          NaN      286700   \n",
       "4                  0     274200              0          NaN      402800   \n",
       "\n",
       "   OVRCLASS  PITTSQFT  PITTACRE  OBJECTID  \n",
       "0       NaN       NaN       NaN         1  \n",
       "1       NaN       NaN       NaN         2  \n",
       "2       NaN       NaN       NaN         3  \n",
       "3       NaN       NaN       NaN         4  \n",
       "4       NaN       NaN       NaN         5  "
      ]
     },
     "execution_count": 13,
     "metadata": {},
     "output_type": "execute_result"
    }
   ],
   "source": [
    "#import information about parcel value for Honolulu\n",
    "\n",
    "hon_parcel_value_int = pd.read_csv('/Users/micahswain/Desktop/Working/Unit 1 Build Week/ASMTPITT_-_Table.csv')\n",
    "\n",
    "print(hon_parcel_value_int.shape)\n",
    "hon_parcel_value_int.head()"
   ]
  },
  {
   "cell_type": "code",
   "execution_count": 14,
   "metadata": {},
   "outputs": [
    {
     "data": {
      "text/html": [
       "<div>\n",
       "<style scoped>\n",
       "    .dataframe tbody tr th:only-of-type {\n",
       "        vertical-align: middle;\n",
       "    }\n",
       "\n",
       "    .dataframe tbody tr th {\n",
       "        vertical-align: top;\n",
       "    }\n",
       "\n",
       "    .dataframe thead th {\n",
       "        text-align: right;\n",
       "    }\n",
       "</style>\n",
       "<table border=\"1\" class=\"dataframe\">\n",
       "  <thead>\n",
       "    <tr style=\"text-align: right;\">\n",
       "      <th></th>\n",
       "      <th>PARID</th>\n",
       "      <th>BUILDINGVALUE</th>\n",
       "      <th>BUILDINGEXEMPTION</th>\n",
       "      <th>LANDVALUE</th>\n",
       "      <th>LANDEXEMPTION</th>\n",
       "      <th>TNETTAXVAL</th>\n",
       "    </tr>\n",
       "  </thead>\n",
       "  <tbody>\n",
       "    <tr>\n",
       "      <th>0</th>\n",
       "      <td>840260670000</td>\n",
       "      <td>92200</td>\n",
       "      <td>0</td>\n",
       "      <td>259300</td>\n",
       "      <td>0</td>\n",
       "      <td>351500</td>\n",
       "    </tr>\n",
       "    <tr>\n",
       "      <th>1</th>\n",
       "      <td>840261280000</td>\n",
       "      <td>86100</td>\n",
       "      <td>86100</td>\n",
       "      <td>244300</td>\n",
       "      <td>13900</td>\n",
       "      <td>230400</td>\n",
       "    </tr>\n",
       "    <tr>\n",
       "      <th>2</th>\n",
       "      <td>840261290000</td>\n",
       "      <td>76800</td>\n",
       "      <td>76800</td>\n",
       "      <td>244300</td>\n",
       "      <td>63200</td>\n",
       "      <td>181100</td>\n",
       "    </tr>\n",
       "    <tr>\n",
       "      <th>3</th>\n",
       "      <td>840261300000</td>\n",
       "      <td>114200</td>\n",
       "      <td>114200</td>\n",
       "      <td>312500</td>\n",
       "      <td>25800</td>\n",
       "      <td>286700</td>\n",
       "    </tr>\n",
       "    <tr>\n",
       "      <th>4</th>\n",
       "      <td>840270010000</td>\n",
       "      <td>128600</td>\n",
       "      <td>0</td>\n",
       "      <td>274200</td>\n",
       "      <td>0</td>\n",
       "      <td>402800</td>\n",
       "    </tr>\n",
       "    <tr>\n",
       "      <th>...</th>\n",
       "      <td>...</td>\n",
       "      <td>...</td>\n",
       "      <td>...</td>\n",
       "      <td>...</td>\n",
       "      <td>...</td>\n",
       "      <td>...</td>\n",
       "    </tr>\n",
       "    <tr>\n",
       "      <th>311302</th>\n",
       "      <td>220240200000</td>\n",
       "      <td>0</td>\n",
       "      <td>0</td>\n",
       "      <td>100</td>\n",
       "      <td>100</td>\n",
       "      <td>0</td>\n",
       "    </tr>\n",
       "    <tr>\n",
       "      <th>311303</th>\n",
       "      <td>220240210000</td>\n",
       "      <td>450200</td>\n",
       "      <td>140000</td>\n",
       "      <td>1658300</td>\n",
       "      <td>0</td>\n",
       "      <td>1968500</td>\n",
       "    </tr>\n",
       "    <tr>\n",
       "      <th>311304</th>\n",
       "      <td>220240160000</td>\n",
       "      <td>171100</td>\n",
       "      <td>0</td>\n",
       "      <td>767300</td>\n",
       "      <td>0</td>\n",
       "      <td>938400</td>\n",
       "    </tr>\n",
       "    <tr>\n",
       "      <th>311305</th>\n",
       "      <td>220250410000</td>\n",
       "      <td>75900</td>\n",
       "      <td>0</td>\n",
       "      <td>736300</td>\n",
       "      <td>0</td>\n",
       "      <td>812200</td>\n",
       "    </tr>\n",
       "    <tr>\n",
       "      <th>311306</th>\n",
       "      <td>220250420000</td>\n",
       "      <td>205500</td>\n",
       "      <td>140000</td>\n",
       "      <td>706500</td>\n",
       "      <td>0</td>\n",
       "      <td>772000</td>\n",
       "    </tr>\n",
       "  </tbody>\n",
       "</table>\n",
       "<p>311307 rows × 6 columns</p>\n",
       "</div>"
      ],
      "text/plain": [
       "               PARID  BUILDINGVALUE  BUILDINGEXEMPTION  LANDVALUE  \\\n",
       "0       840260670000          92200                  0     259300   \n",
       "1       840261280000          86100              86100     244300   \n",
       "2       840261290000          76800              76800     244300   \n",
       "3       840261300000         114200             114200     312500   \n",
       "4       840270010000         128600                  0     274200   \n",
       "...              ...            ...                ...        ...   \n",
       "311302  220240200000              0                  0        100   \n",
       "311303  220240210000         450200             140000    1658300   \n",
       "311304  220240160000         171100                  0     767300   \n",
       "311305  220250410000          75900                  0     736300   \n",
       "311306  220250420000         205500             140000     706500   \n",
       "\n",
       "        LANDEXEMPTION  TNETTAXVAL  \n",
       "0                   0      351500  \n",
       "1               13900      230400  \n",
       "2               63200      181100  \n",
       "3               25800      286700  \n",
       "4                   0      402800  \n",
       "...               ...         ...  \n",
       "311302            100           0  \n",
       "311303              0     1968500  \n",
       "311304              0      938400  \n",
       "311305              0      812200  \n",
       "311306              0      772000  \n",
       "\n",
       "[311307 rows x 6 columns]"
      ]
     },
     "execution_count": 14,
     "metadata": {},
     "output_type": "execute_result"
    }
   ],
   "source": [
    "#drop unneeded columns. \n",
    "\n",
    "hon_parcel_value = hon_parcel_value_int.drop(columns = ['TMK', 'SUFFIX', 'SEQ', 'TAXYR', 'TAXRATECODE', 'OVRCLASS',\n",
    "                                             'PITTSQFT', 'PITTACRE', 'OBJECTID'])\n",
    "\n",
    "hon_parcel_value"
   ]
  },
  {
   "cell_type": "code",
   "execution_count": 15,
   "metadata": {},
   "outputs": [
    {
     "name": "stdout",
     "output_type": "stream",
     "text": [
      "(312608, 13)\n"
     ]
    },
    {
     "data": {
      "text/html": [
       "<div>\n",
       "<style scoped>\n",
       "    .dataframe tbody tr th:only-of-type {\n",
       "        vertical-align: middle;\n",
       "    }\n",
       "\n",
       "    .dataframe tbody tr th {\n",
       "        vertical-align: top;\n",
       "    }\n",
       "\n",
       "    .dataframe thead th {\n",
       "        text-align: right;\n",
       "    }\n",
       "</style>\n",
       "<table border=\"1\" class=\"dataframe\">\n",
       "  <thead>\n",
       "    <tr style=\"text-align: right;\">\n",
       "      <th></th>\n",
       "      <th>PARID</th>\n",
       "      <th>TMK</th>\n",
       "      <th>SUFFIX</th>\n",
       "      <th>SEQ</th>\n",
       "      <th>TAXYR</th>\n",
       "      <th>UNITNO</th>\n",
       "      <th>TOTACRES</th>\n",
       "      <th>TOTSQFT</th>\n",
       "      <th>LEGAL1</th>\n",
       "      <th>LEGAL2</th>\n",
       "      <th>LEGAL3</th>\n",
       "      <th>OBJECTID</th>\n",
       "      <th>ESRI_OID</th>\n",
       "    </tr>\n",
       "  </thead>\n",
       "  <tbody>\n",
       "    <tr>\n",
       "      <th>0</th>\n",
       "      <td>970440810000</td>\n",
       "      <td>97044081</td>\n",
       "      <td>0</td>\n",
       "      <td>0</td>\n",
       "      <td>2021</td>\n",
       "      <td>0</td>\n",
       "      <td>0.0</td>\n",
       "      <td>6000</td>\n",
       "      <td>LOT 81   BLK B   6,000 SF   MAP 32 LCAPP 1695</td>\n",
       "      <td>NaN</td>\n",
       "      <td>NaN</td>\n",
       "      <td>260514</td>\n",
       "      <td>1</td>\n",
       "    </tr>\n",
       "    <tr>\n",
       "      <th>1</th>\n",
       "      <td>950490220009</td>\n",
       "      <td>95049022</td>\n",
       "      <td>9</td>\n",
       "      <td>0</td>\n",
       "      <td>2021</td>\n",
       "      <td>93</td>\n",
       "      <td>0.0</td>\n",
       "      <td>0</td>\n",
       "      <td>APT 93  \"KUMELEWAI GARDENS\"  CONDO MAP 954</td>\n",
       "      <td>TOG/STORAGE AREA S-93 &amp; PKG STALL SHOWN ON DECL</td>\n",
       "      <td>NaN</td>\n",
       "      <td>260515</td>\n",
       "      <td>2</td>\n",
       "    </tr>\n",
       "    <tr>\n",
       "      <th>2</th>\n",
       "      <td>470540150000</td>\n",
       "      <td>47054015</td>\n",
       "      <td>0</td>\n",
       "      <td>0</td>\n",
       "      <td>2021</td>\n",
       "      <td>0</td>\n",
       "      <td>0.0</td>\n",
       "      <td>6700</td>\n",
       "      <td>LOT 222   6,700 SF   MAP 1  LCCON 105</td>\n",
       "      <td>TOG/R-O-W OVER &amp; ACROSS LOTS A TO H &amp; J TO L M...</td>\n",
       "      <td>NaN</td>\n",
       "      <td>260516</td>\n",
       "      <td>3</td>\n",
       "    </tr>\n",
       "    <tr>\n",
       "      <th>3</th>\n",
       "      <td>470540160000</td>\n",
       "      <td>47054016</td>\n",
       "      <td>0</td>\n",
       "      <td>0</td>\n",
       "      <td>2021</td>\n",
       "      <td>0</td>\n",
       "      <td>0.0</td>\n",
       "      <td>6075</td>\n",
       "      <td>LOT  221  6,075 SF  MAP 1 LC CON 105</td>\n",
       "      <td>TOG/R-O-W APPURTENANT TO LOT 221 OVER &amp; ACROSS...</td>\n",
       "      <td></td>\n",
       "      <td>260517</td>\n",
       "      <td>4</td>\n",
       "    </tr>\n",
       "    <tr>\n",
       "      <th>4</th>\n",
       "      <td>470540170000</td>\n",
       "      <td>47054017</td>\n",
       "      <td>0</td>\n",
       "      <td>0</td>\n",
       "      <td>2021</td>\n",
       "      <td>0</td>\n",
       "      <td>0.0</td>\n",
       "      <td>6406</td>\n",
       "      <td>LOT 220   MAP 1   6,406 SF   LCCON 105</td>\n",
       "      <td>NaN</td>\n",
       "      <td>NaN</td>\n",
       "      <td>260518</td>\n",
       "      <td>5</td>\n",
       "    </tr>\n",
       "  </tbody>\n",
       "</table>\n",
       "</div>"
      ],
      "text/plain": [
       "          PARID       TMK  SUFFIX  SEQ  TAXYR UNITNO  TOTACRES  TOTSQFT  \\\n",
       "0  970440810000  97044081       0    0   2021      0       0.0     6000   \n",
       "1  950490220009  95049022       9    0   2021     93       0.0        0   \n",
       "2  470540150000  47054015       0    0   2021      0       0.0     6700   \n",
       "3  470540160000  47054016       0    0   2021      0       0.0     6075   \n",
       "4  470540170000  47054017       0    0   2021      0       0.0     6406   \n",
       "\n",
       "                                          LEGAL1  \\\n",
       "0  LOT 81   BLK B   6,000 SF   MAP 32 LCAPP 1695   \n",
       "1     APT 93  \"KUMELEWAI GARDENS\"  CONDO MAP 954   \n",
       "2          LOT 222   6,700 SF   MAP 1  LCCON 105   \n",
       "3           LOT  221  6,075 SF  MAP 1 LC CON 105   \n",
       "4         LOT 220   MAP 1   6,406 SF   LCCON 105   \n",
       "\n",
       "                                              LEGAL2 LEGAL3  OBJECTID  \\\n",
       "0                                                NaN    NaN    260514   \n",
       "1    TOG/STORAGE AREA S-93 & PKG STALL SHOWN ON DECL    NaN    260515   \n",
       "2  TOG/R-O-W OVER & ACROSS LOTS A TO H & J TO L M...    NaN    260516   \n",
       "3  TOG/R-O-W APPURTENANT TO LOT 221 OVER & ACROSS...           260517   \n",
       "4                                                NaN    NaN    260518   \n",
       "\n",
       "   ESRI_OID  \n",
       "0         1  \n",
       "1         2  \n",
       "2         3  \n",
       "3         4  \n",
       "4         5  "
      ]
     },
     "execution_count": 15,
     "metadata": {},
     "output_type": "execute_result"
    }
   ],
   "source": [
    "#import info about parcel size for the city of honolulu\n",
    "\n",
    "hon_parcel_size_int = pd.read_csv('/Users/micahswain/Desktop/Working/Unit 1 Build Week/LEGDAT_-_Table.csv')\n",
    "\n",
    "print(hon_parcel_size_int.shape)\n",
    "hon_parcel_size_int.head()"
   ]
  },
  {
   "cell_type": "code",
   "execution_count": 16,
   "metadata": {},
   "outputs": [
    {
     "data": {
      "text/html": [
       "<div>\n",
       "<style scoped>\n",
       "    .dataframe tbody tr th:only-of-type {\n",
       "        vertical-align: middle;\n",
       "    }\n",
       "\n",
       "    .dataframe tbody tr th {\n",
       "        vertical-align: top;\n",
       "    }\n",
       "\n",
       "    .dataframe thead th {\n",
       "        text-align: right;\n",
       "    }\n",
       "</style>\n",
       "<table border=\"1\" class=\"dataframe\">\n",
       "  <thead>\n",
       "    <tr style=\"text-align: right;\">\n",
       "      <th></th>\n",
       "      <th>PARID</th>\n",
       "      <th>UNITNO</th>\n",
       "      <th>TOTACRES</th>\n",
       "      <th>TOTSQFT</th>\n",
       "    </tr>\n",
       "  </thead>\n",
       "  <tbody>\n",
       "    <tr>\n",
       "      <th>0</th>\n",
       "      <td>970440810000</td>\n",
       "      <td>0</td>\n",
       "      <td>0.0</td>\n",
       "      <td>6000</td>\n",
       "    </tr>\n",
       "    <tr>\n",
       "      <th>1</th>\n",
       "      <td>950490220009</td>\n",
       "      <td>93</td>\n",
       "      <td>0.0</td>\n",
       "      <td>0</td>\n",
       "    </tr>\n",
       "    <tr>\n",
       "      <th>2</th>\n",
       "      <td>470540150000</td>\n",
       "      <td>0</td>\n",
       "      <td>0.0</td>\n",
       "      <td>6700</td>\n",
       "    </tr>\n",
       "    <tr>\n",
       "      <th>3</th>\n",
       "      <td>470540160000</td>\n",
       "      <td>0</td>\n",
       "      <td>0.0</td>\n",
       "      <td>6075</td>\n",
       "    </tr>\n",
       "    <tr>\n",
       "      <th>4</th>\n",
       "      <td>470540170000</td>\n",
       "      <td>0</td>\n",
       "      <td>0.0</td>\n",
       "      <td>6406</td>\n",
       "    </tr>\n",
       "  </tbody>\n",
       "</table>\n",
       "</div>"
      ],
      "text/plain": [
       "          PARID UNITNO  TOTACRES  TOTSQFT\n",
       "0  970440810000      0       0.0     6000\n",
       "1  950490220009     93       0.0        0\n",
       "2  470540150000      0       0.0     6700\n",
       "3  470540160000      0       0.0     6075\n",
       "4  470540170000      0       0.0     6406"
      ]
     },
     "execution_count": 16,
     "metadata": {},
     "output_type": "execute_result"
    }
   ],
   "source": [
    "#drop unneeded columns. \n",
    "\n",
    "hon_parcel_size = hon_parcel_size_int.drop(columns = ['TMK', 'SUFFIX', 'SEQ', 'TAXYR', 'OBJECTID', 'ESRI_OID',\n",
    "                                                      'LEGAL1', 'LEGAL2', 'LEGAL3'])\n",
    "\n",
    "hon_parcel_size.head()"
   ]
  },
  {
   "cell_type": "code",
   "execution_count": 17,
   "metadata": {},
   "outputs": [
    {
     "name": "stdout",
     "output_type": "stream",
     "text": [
      "(311138, 12)\n"
     ]
    },
    {
     "data": {
      "text/html": [
       "<div>\n",
       "<style scoped>\n",
       "    .dataframe tbody tr th:only-of-type {\n",
       "        vertical-align: middle;\n",
       "    }\n",
       "\n",
       "    .dataframe tbody tr th {\n",
       "        vertical-align: top;\n",
       "    }\n",
       "\n",
       "    .dataframe thead th {\n",
       "        text-align: right;\n",
       "    }\n",
       "</style>\n",
       "<table border=\"1\" class=\"dataframe\">\n",
       "  <thead>\n",
       "    <tr style=\"text-align: right;\">\n",
       "      <th></th>\n",
       "      <th>PARID</th>\n",
       "      <th>TAXBILLOWNER</th>\n",
       "      <th>TAXBILLCITY</th>\n",
       "      <th>TAXBILLSTATE</th>\n",
       "      <th>TAXBILLCOUNTRY</th>\n",
       "      <th>TAXBILLZIP5</th>\n",
       "      <th>TAXBILLZIP4</th>\n",
       "      <th>BUILDINGVALUE</th>\n",
       "      <th>BUILDINGEXEMPTION</th>\n",
       "      <th>LANDVALUE</th>\n",
       "      <th>LANDEXEMPTION</th>\n",
       "      <th>TNETTAXVAL</th>\n",
       "    </tr>\n",
       "  </thead>\n",
       "  <tbody>\n",
       "    <tr>\n",
       "      <th>0</th>\n",
       "      <td>360140040000</td>\n",
       "      <td>YOUNG,ROYDEN S H</td>\n",
       "      <td>HONOLULU</td>\n",
       "      <td>HI</td>\n",
       "      <td>NaN</td>\n",
       "      <td>96821.0</td>\n",
       "      <td>NaN</td>\n",
       "      <td>35100</td>\n",
       "      <td>35100</td>\n",
       "      <td>862900</td>\n",
       "      <td>64900</td>\n",
       "      <td>798000</td>\n",
       "    </tr>\n",
       "    <tr>\n",
       "      <th>1</th>\n",
       "      <td>360140050000</td>\n",
       "      <td>CHIN,YVONNE L P TR</td>\n",
       "      <td>HONOLULU</td>\n",
       "      <td>HI</td>\n",
       "      <td>NaN</td>\n",
       "      <td>96821.0</td>\n",
       "      <td>NaN</td>\n",
       "      <td>81200</td>\n",
       "      <td>81200</td>\n",
       "      <td>863000</td>\n",
       "      <td>58800</td>\n",
       "      <td>804200</td>\n",
       "    </tr>\n",
       "    <tr>\n",
       "      <th>2</th>\n",
       "      <td>360140060000</td>\n",
       "      <td>HAWAIIAN ELECTRIC CO INC</td>\n",
       "      <td>HONOLULU</td>\n",
       "      <td>HI</td>\n",
       "      <td>NaN</td>\n",
       "      <td>96840.0</td>\n",
       "      <td>NaN</td>\n",
       "      <td>0</td>\n",
       "      <td>0</td>\n",
       "      <td>100</td>\n",
       "      <td>100</td>\n",
       "      <td>0</td>\n",
       "    </tr>\n",
       "    <tr>\n",
       "      <th>3</th>\n",
       "      <td>330610860000</td>\n",
       "      <td>SVW TRUST</td>\n",
       "      <td>BEVERLY HILLS</td>\n",
       "      <td>CA</td>\n",
       "      <td>NaN</td>\n",
       "      <td>90210.0</td>\n",
       "      <td>NaN</td>\n",
       "      <td>245500</td>\n",
       "      <td>0</td>\n",
       "      <td>1030900</td>\n",
       "      <td>0</td>\n",
       "      <td>1276400</td>\n",
       "    </tr>\n",
       "    <tr>\n",
       "      <th>4</th>\n",
       "      <td>230100281031</td>\n",
       "      <td>KC RAINBOW DEV CO LLC</td>\n",
       "      <td>CUPERTINO</td>\n",
       "      <td>CA</td>\n",
       "      <td>NaN</td>\n",
       "      <td>95014.0</td>\n",
       "      <td>NaN</td>\n",
       "      <td>25000</td>\n",
       "      <td>0</td>\n",
       "      <td>1000</td>\n",
       "      <td>0</td>\n",
       "      <td>26000</td>\n",
       "    </tr>\n",
       "  </tbody>\n",
       "</table>\n",
       "</div>"
      ],
      "text/plain": [
       "          PARID              TAXBILLOWNER    TAXBILLCITY TAXBILLSTATE  \\\n",
       "0  360140040000          YOUNG,ROYDEN S H       HONOLULU           HI   \n",
       "1  360140050000        CHIN,YVONNE L P TR       HONOLULU           HI   \n",
       "2  360140060000  HAWAIIAN ELECTRIC CO INC       HONOLULU           HI   \n",
       "3  330610860000                 SVW TRUST  BEVERLY HILLS           CA   \n",
       "4  230100281031     KC RAINBOW DEV CO LLC      CUPERTINO           CA   \n",
       "\n",
       "  TAXBILLCOUNTRY  TAXBILLZIP5 TAXBILLZIP4  BUILDINGVALUE  BUILDINGEXEMPTION  \\\n",
       "0            NaN      96821.0         NaN          35100              35100   \n",
       "1            NaN      96821.0         NaN          81200              81200   \n",
       "2            NaN      96840.0         NaN              0                  0   \n",
       "3            NaN      90210.0         NaN         245500                  0   \n",
       "4            NaN      95014.0         NaN          25000                  0   \n",
       "\n",
       "   LANDVALUE  LANDEXEMPTION  TNETTAXVAL  \n",
       "0     862900          64900      798000  \n",
       "1     863000          58800      804200  \n",
       "2        100            100           0  \n",
       "3    1030900              0     1276400  \n",
       "4       1000              0       26000  "
      ]
     },
     "execution_count": 17,
     "metadata": {},
     "output_type": "execute_result"
    }
   ],
   "source": [
    "#merge datasets. \n",
    "\n",
    "merged = pd.merge(hon_ownertype, hon_parcel_value, on='PARID')\n",
    "\n",
    "print(merged.shape)\n",
    "merged.head()"
   ]
  },
  {
   "cell_type": "code",
   "execution_count": 18,
   "metadata": {},
   "outputs": [
    {
     "name": "stdout",
     "output_type": "stream",
     "text": [
      "(311138, 15)\n",
      "528.2049898437501\n"
     ]
    },
    {
     "data": {
      "text/html": [
       "<div>\n",
       "<style scoped>\n",
       "    .dataframe tbody tr th:only-of-type {\n",
       "        vertical-align: middle;\n",
       "    }\n",
       "\n",
       "    .dataframe tbody tr th {\n",
       "        vertical-align: top;\n",
       "    }\n",
       "\n",
       "    .dataframe thead th {\n",
       "        text-align: right;\n",
       "    }\n",
       "</style>\n",
       "<table border=\"1\" class=\"dataframe\">\n",
       "  <thead>\n",
       "    <tr style=\"text-align: right;\">\n",
       "      <th></th>\n",
       "      <th>PARID</th>\n",
       "      <th>TAXBILLOWNER</th>\n",
       "      <th>TAXBILLCITY</th>\n",
       "      <th>TAXBILLSTATE</th>\n",
       "      <th>TAXBILLCOUNTRY</th>\n",
       "      <th>TAXBILLZIP5</th>\n",
       "      <th>TAXBILLZIP4</th>\n",
       "      <th>BUILDINGVALUE</th>\n",
       "      <th>BUILDINGEXEMPTION</th>\n",
       "      <th>LANDVALUE</th>\n",
       "      <th>LANDEXEMPTION</th>\n",
       "      <th>TNETTAXVAL</th>\n",
       "      <th>UNITNO</th>\n",
       "      <th>TOTACRES</th>\n",
       "      <th>TOTSQFT</th>\n",
       "    </tr>\n",
       "  </thead>\n",
       "  <tbody>\n",
       "    <tr>\n",
       "      <th>0</th>\n",
       "      <td>360140040000</td>\n",
       "      <td>YOUNG,ROYDEN S H</td>\n",
       "      <td>HONOLULU</td>\n",
       "      <td>HI</td>\n",
       "      <td>NaN</td>\n",
       "      <td>96821.0</td>\n",
       "      <td>NaN</td>\n",
       "      <td>35100</td>\n",
       "      <td>35100</td>\n",
       "      <td>862900</td>\n",
       "      <td>64900</td>\n",
       "      <td>798000</td>\n",
       "      <td>0</td>\n",
       "      <td>0.0</td>\n",
       "      <td>7506</td>\n",
       "    </tr>\n",
       "    <tr>\n",
       "      <th>1</th>\n",
       "      <td>360140050000</td>\n",
       "      <td>CHIN,YVONNE L P TR</td>\n",
       "      <td>HONOLULU</td>\n",
       "      <td>HI</td>\n",
       "      <td>NaN</td>\n",
       "      <td>96821.0</td>\n",
       "      <td>NaN</td>\n",
       "      <td>81200</td>\n",
       "      <td>81200</td>\n",
       "      <td>863000</td>\n",
       "      <td>58800</td>\n",
       "      <td>804200</td>\n",
       "      <td>0</td>\n",
       "      <td>0.0</td>\n",
       "      <td>7508</td>\n",
       "    </tr>\n",
       "    <tr>\n",
       "      <th>2</th>\n",
       "      <td>360140060000</td>\n",
       "      <td>HAWAIIAN ELECTRIC CO INC</td>\n",
       "      <td>HONOLULU</td>\n",
       "      <td>HI</td>\n",
       "      <td>NaN</td>\n",
       "      <td>96840.0</td>\n",
       "      <td>NaN</td>\n",
       "      <td>0</td>\n",
       "      <td>0</td>\n",
       "      <td>100</td>\n",
       "      <td>100</td>\n",
       "      <td>0</td>\n",
       "      <td>0</td>\n",
       "      <td>0.0</td>\n",
       "      <td>36</td>\n",
       "    </tr>\n",
       "    <tr>\n",
       "      <th>3</th>\n",
       "      <td>330610860000</td>\n",
       "      <td>SVW TRUST</td>\n",
       "      <td>BEVERLY HILLS</td>\n",
       "      <td>CA</td>\n",
       "      <td>NaN</td>\n",
       "      <td>90210.0</td>\n",
       "      <td>NaN</td>\n",
       "      <td>245500</td>\n",
       "      <td>0</td>\n",
       "      <td>1030900</td>\n",
       "      <td>0</td>\n",
       "      <td>1276400</td>\n",
       "      <td>0</td>\n",
       "      <td>0.0</td>\n",
       "      <td>6693</td>\n",
       "    </tr>\n",
       "    <tr>\n",
       "      <th>4</th>\n",
       "      <td>230100281031</td>\n",
       "      <td>KC RAINBOW DEV CO LLC</td>\n",
       "      <td>CUPERTINO</td>\n",
       "      <td>CA</td>\n",
       "      <td>NaN</td>\n",
       "      <td>95014.0</td>\n",
       "      <td>NaN</td>\n",
       "      <td>25000</td>\n",
       "      <td>0</td>\n",
       "      <td>1000</td>\n",
       "      <td>0</td>\n",
       "      <td>26000</td>\n",
       "      <td>PA-3001</td>\n",
       "      <td>0.0</td>\n",
       "      <td>0</td>\n",
       "    </tr>\n",
       "  </tbody>\n",
       "</table>\n",
       "</div>"
      ],
      "text/plain": [
       "          PARID              TAXBILLOWNER    TAXBILLCITY TAXBILLSTATE  \\\n",
       "0  360140040000          YOUNG,ROYDEN S H       HONOLULU           HI   \n",
       "1  360140050000        CHIN,YVONNE L P TR       HONOLULU           HI   \n",
       "2  360140060000  HAWAIIAN ELECTRIC CO INC       HONOLULU           HI   \n",
       "3  330610860000                 SVW TRUST  BEVERLY HILLS           CA   \n",
       "4  230100281031     KC RAINBOW DEV CO LLC      CUPERTINO           CA   \n",
       "\n",
       "  TAXBILLCOUNTRY  TAXBILLZIP5 TAXBILLZIP4  BUILDINGVALUE  BUILDINGEXEMPTION  \\\n",
       "0            NaN      96821.0         NaN          35100              35100   \n",
       "1            NaN      96821.0         NaN          81200              81200   \n",
       "2            NaN      96840.0         NaN              0                  0   \n",
       "3            NaN      90210.0         NaN         245500                  0   \n",
       "4            NaN      95014.0         NaN          25000                  0   \n",
       "\n",
       "   LANDVALUE  LANDEXEMPTION  TNETTAXVAL   UNITNO  TOTACRES  TOTSQFT  \n",
       "0     862900          64900      798000        0       0.0     7506  \n",
       "1     863000          58800      804200        0       0.0     7508  \n",
       "2        100            100           0        0       0.0       36  \n",
       "3    1030900              0     1276400        0       0.0     6693  \n",
       "4       1000              0       26000  PA-3001       0.0        0  "
      ]
     },
     "execution_count": 18,
     "metadata": {},
     "output_type": "execute_result"
    }
   ],
   "source": [
    "#merge datasets\n",
    "\n",
    "hon_parcel = pd.merge(merged, hon_parcel_size, on='PARID')\n",
    "\n",
    "print(hon_parcel.shape)\n",
    "\n",
    "#check sum of parcel size to see if it roughly adds up to the area of Oahu.\n",
    "\n",
    "print(hon_parcel['TOTACRES'].sum()/640)\n",
    "hon_parcel.head()"
   ]
  },
  {
   "cell_type": "code",
   "execution_count": 19,
   "metadata": {},
   "outputs": [
    {
     "data": {
      "text/html": [
       "<div>\n",
       "<style scoped>\n",
       "    .dataframe tbody tr th:only-of-type {\n",
       "        vertical-align: middle;\n",
       "    }\n",
       "\n",
       "    .dataframe tbody tr th {\n",
       "        vertical-align: top;\n",
       "    }\n",
       "\n",
       "    .dataframe thead th {\n",
       "        text-align: right;\n",
       "    }\n",
       "</style>\n",
       "<table border=\"1\" class=\"dataframe\">\n",
       "  <thead>\n",
       "    <tr style=\"text-align: right;\">\n",
       "      <th></th>\n",
       "      <th>PARID</th>\n",
       "      <th>TAXBILLOWNER</th>\n",
       "      <th>TAXBILLCITY</th>\n",
       "      <th>TAXBILLSTATE</th>\n",
       "      <th>TAXBILLCOUNTRY</th>\n",
       "      <th>TAXBILLZIP5</th>\n",
       "      <th>TAXBILLZIP4</th>\n",
       "      <th>BUILDINGVALUE</th>\n",
       "      <th>BUILDINGEXEMPTION</th>\n",
       "      <th>LANDVALUE</th>\n",
       "      <th>LANDEXEMPTION</th>\n",
       "      <th>TNETTAXVAL</th>\n",
       "      <th>UNITNO</th>\n",
       "      <th>TOTACRES</th>\n",
       "      <th>TOTSQFT</th>\n",
       "      <th>tot_area_acres</th>\n",
       "    </tr>\n",
       "  </thead>\n",
       "  <tbody>\n",
       "    <tr>\n",
       "      <th>0</th>\n",
       "      <td>360140040000</td>\n",
       "      <td>YOUNG,ROYDEN S H</td>\n",
       "      <td>HONOLULU</td>\n",
       "      <td>HI</td>\n",
       "      <td>NaN</td>\n",
       "      <td>96821.0</td>\n",
       "      <td>NaN</td>\n",
       "      <td>35100</td>\n",
       "      <td>35100</td>\n",
       "      <td>862900</td>\n",
       "      <td>64900</td>\n",
       "      <td>798000</td>\n",
       "      <td>0</td>\n",
       "      <td>0.0</td>\n",
       "      <td>7506</td>\n",
       "      <td>0.172314</td>\n",
       "    </tr>\n",
       "    <tr>\n",
       "      <th>1</th>\n",
       "      <td>360140050000</td>\n",
       "      <td>CHIN,YVONNE L P TR</td>\n",
       "      <td>HONOLULU</td>\n",
       "      <td>HI</td>\n",
       "      <td>NaN</td>\n",
       "      <td>96821.0</td>\n",
       "      <td>NaN</td>\n",
       "      <td>81200</td>\n",
       "      <td>81200</td>\n",
       "      <td>863000</td>\n",
       "      <td>58800</td>\n",
       "      <td>804200</td>\n",
       "      <td>0</td>\n",
       "      <td>0.0</td>\n",
       "      <td>7508</td>\n",
       "      <td>0.172360</td>\n",
       "    </tr>\n",
       "    <tr>\n",
       "      <th>2</th>\n",
       "      <td>360140060000</td>\n",
       "      <td>HAWAIIAN ELECTRIC CO INC</td>\n",
       "      <td>HONOLULU</td>\n",
       "      <td>HI</td>\n",
       "      <td>NaN</td>\n",
       "      <td>96840.0</td>\n",
       "      <td>NaN</td>\n",
       "      <td>0</td>\n",
       "      <td>0</td>\n",
       "      <td>100</td>\n",
       "      <td>100</td>\n",
       "      <td>0</td>\n",
       "      <td>0</td>\n",
       "      <td>0.0</td>\n",
       "      <td>36</td>\n",
       "      <td>0.000826</td>\n",
       "    </tr>\n",
       "    <tr>\n",
       "      <th>3</th>\n",
       "      <td>330610860000</td>\n",
       "      <td>SVW TRUST</td>\n",
       "      <td>BEVERLY HILLS</td>\n",
       "      <td>CA</td>\n",
       "      <td>NaN</td>\n",
       "      <td>90210.0</td>\n",
       "      <td>NaN</td>\n",
       "      <td>245500</td>\n",
       "      <td>0</td>\n",
       "      <td>1030900</td>\n",
       "      <td>0</td>\n",
       "      <td>1276400</td>\n",
       "      <td>0</td>\n",
       "      <td>0.0</td>\n",
       "      <td>6693</td>\n",
       "      <td>0.153650</td>\n",
       "    </tr>\n",
       "    <tr>\n",
       "      <th>4</th>\n",
       "      <td>230100281031</td>\n",
       "      <td>KC RAINBOW DEV CO LLC</td>\n",
       "      <td>CUPERTINO</td>\n",
       "      <td>CA</td>\n",
       "      <td>NaN</td>\n",
       "      <td>95014.0</td>\n",
       "      <td>NaN</td>\n",
       "      <td>25000</td>\n",
       "      <td>0</td>\n",
       "      <td>1000</td>\n",
       "      <td>0</td>\n",
       "      <td>26000</td>\n",
       "      <td>PA-3001</td>\n",
       "      <td>0.0</td>\n",
       "      <td>0</td>\n",
       "      <td>0.000000</td>\n",
       "    </tr>\n",
       "  </tbody>\n",
       "</table>\n",
       "</div>"
      ],
      "text/plain": [
       "          PARID              TAXBILLOWNER    TAXBILLCITY TAXBILLSTATE  \\\n",
       "0  360140040000          YOUNG,ROYDEN S H       HONOLULU           HI   \n",
       "1  360140050000        CHIN,YVONNE L P TR       HONOLULU           HI   \n",
       "2  360140060000  HAWAIIAN ELECTRIC CO INC       HONOLULU           HI   \n",
       "3  330610860000                 SVW TRUST  BEVERLY HILLS           CA   \n",
       "4  230100281031     KC RAINBOW DEV CO LLC      CUPERTINO           CA   \n",
       "\n",
       "  TAXBILLCOUNTRY  TAXBILLZIP5 TAXBILLZIP4  BUILDINGVALUE  BUILDINGEXEMPTION  \\\n",
       "0            NaN      96821.0         NaN          35100              35100   \n",
       "1            NaN      96821.0         NaN          81200              81200   \n",
       "2            NaN      96840.0         NaN              0                  0   \n",
       "3            NaN      90210.0         NaN         245500                  0   \n",
       "4            NaN      95014.0         NaN          25000                  0   \n",
       "\n",
       "   LANDVALUE  LANDEXEMPTION  TNETTAXVAL   UNITNO  TOTACRES  TOTSQFT  \\\n",
       "0     862900          64900      798000        0       0.0     7506   \n",
       "1     863000          58800      804200        0       0.0     7508   \n",
       "2        100            100           0        0       0.0       36   \n",
       "3    1030900              0     1276400        0       0.0     6693   \n",
       "4       1000              0       26000  PA-3001       0.0        0   \n",
       "\n",
       "   tot_area_acres  \n",
       "0        0.172314  \n",
       "1        0.172360  \n",
       "2        0.000826  \n",
       "3        0.153650  \n",
       "4        0.000000  "
      ]
     },
     "execution_count": 19,
     "metadata": {},
     "output_type": "execute_result"
    }
   ],
   "source": [
    "#created a new column tot_area_acre, pulling values from TOTACRES or TOTSQFT\n",
    "\n",
    "hon_parcel['tot_area_acres'] = np.where(hon_parcel['TOTACRES'] != 0.0, hon_parcel['TOTACRES'], hon_parcel['TOTSQFT']/43560 )\n",
    "\n",
    "hon_parcel.head()"
   ]
  },
  {
   "cell_type": "code",
   "execution_count": 20,
   "metadata": {},
   "outputs": [
    {
     "data": {
      "text/plain": [
       "582.2289823253847"
      ]
     },
     "execution_count": 20,
     "metadata": {},
     "output_type": "execute_result"
    }
   ],
   "source": [
    "#check tot area, pretty close to area of oahu\n",
    "\n",
    "hon_parcel['tot_area_acres'].sum()/640"
   ]
  },
  {
   "cell_type": "code",
   "execution_count": 21,
   "metadata": {},
   "outputs": [
    {
     "data": {
      "text/html": [
       "<div>\n",
       "<style scoped>\n",
       "    .dataframe tbody tr th:only-of-type {\n",
       "        vertical-align: middle;\n",
       "    }\n",
       "\n",
       "    .dataframe tbody tr th {\n",
       "        vertical-align: top;\n",
       "    }\n",
       "\n",
       "    .dataframe thead th {\n",
       "        text-align: right;\n",
       "    }\n",
       "</style>\n",
       "<table border=\"1\" class=\"dataframe\">\n",
       "  <thead>\n",
       "    <tr style=\"text-align: right;\">\n",
       "      <th></th>\n",
       "      <th>TAXBILLOWNER</th>\n",
       "      <th>tot_area_acres</th>\n",
       "    </tr>\n",
       "  </thead>\n",
       "  <tbody>\n",
       "    <tr>\n",
       "      <th>192769</th>\n",
       "      <td>STATE OF HAWAII</td>\n",
       "      <td>68086.633178</td>\n",
       "    </tr>\n",
       "    <tr>\n",
       "      <th>212593</th>\n",
       "      <td>UNITED STATES OF AMERICA</td>\n",
       "      <td>56788.672377</td>\n",
       "    </tr>\n",
       "    <tr>\n",
       "      <th>14479</th>\n",
       "      <td>B P BISHOP TRUST ESTATE</td>\n",
       "      <td>47938.977634</td>\n",
       "    </tr>\n",
       "    <tr>\n",
       "      <th>38495</th>\n",
       "      <td>CITY AND COUNTY OF HONOLULU</td>\n",
       "      <td>13850.639982</td>\n",
       "    </tr>\n",
       "    <tr>\n",
       "      <th>177157</th>\n",
       "      <td>S OF H DLNR</td>\n",
       "      <td>11776.936691</td>\n",
       "    </tr>\n",
       "  </tbody>\n",
       "</table>\n",
       "</div>"
      ],
      "text/plain": [
       "                       TAXBILLOWNER  tot_area_acres\n",
       "192769              STATE OF HAWAII    68086.633178\n",
       "212593     UNITED STATES OF AMERICA    56788.672377\n",
       "14479       B P BISHOP TRUST ESTATE    47938.977634\n",
       "38495   CITY AND COUNTY OF HONOLULU    13850.639982\n",
       "177157                  S OF H DLNR    11776.936691"
      ]
     },
     "execution_count": 21,
     "metadata": {},
     "output_type": "execute_result"
    }
   ],
   "source": [
    "# curious as to who owns the most land on Oahu\n",
    "\n",
    "\n",
    "tot_area_by_owner = hon_parcel.groupby(['TAXBILLOWNER'], as_index=False)['tot_area_acres'].sum()\n",
    "\n",
    "tot_area_by_owner = pd.DataFrame(tot_area_by_owner).sort_values('tot_area_acres', ascending=False)\n",
    "\n",
    "tot_area_by_owner.head()"
   ]
  },
  {
   "cell_type": "markdown",
   "metadata": {},
   "source": [
    "__No surprise there the largest land owner is the State of Hawaii, followed by the federal government, but I think a better question is what percent of the land do they own.__"
   ]
  },
  {
   "cell_type": "code",
   "execution_count": 278,
   "metadata": {},
   "outputs": [
    {
     "data": {
      "text/html": [
       "<div>\n",
       "<style scoped>\n",
       "    .dataframe tbody tr th:only-of-type {\n",
       "        vertical-align: middle;\n",
       "    }\n",
       "\n",
       "    .dataframe tbody tr th {\n",
       "        vertical-align: top;\n",
       "    }\n",
       "\n",
       "    .dataframe thead th {\n",
       "        text-align: right;\n",
       "    }\n",
       "</style>\n",
       "<table border=\"1\" class=\"dataframe\">\n",
       "  <thead>\n",
       "    <tr style=\"text-align: right;\">\n",
       "      <th></th>\n",
       "      <th>TAXBILLOWNER</th>\n",
       "      <th>tot_area_acres</th>\n",
       "      <th>area%</th>\n",
       "    </tr>\n",
       "  </thead>\n",
       "  <tbody>\n",
       "    <tr>\n",
       "      <th>25</th>\n",
       "      <td>REMAINING OAHU LAND OWNERS</td>\n",
       "      <td>105771.0</td>\n",
       "      <td>28.385312</td>\n",
       "    </tr>\n",
       "    <tr>\n",
       "      <th>24</th>\n",
       "      <td>HI'IPAKA LLC</td>\n",
       "      <td>1803.0</td>\n",
       "      <td>0.483774</td>\n",
       "    </tr>\n",
       "    <tr>\n",
       "      <th>23</th>\n",
       "      <td>KUALOA RANCH INC</td>\n",
       "      <td>1835.0</td>\n",
       "      <td>0.492434</td>\n",
       "    </tr>\n",
       "    <tr>\n",
       "      <th>22</th>\n",
       "      <td>MAKAIWA HILLS LLC</td>\n",
       "      <td>1857.0</td>\n",
       "      <td>0.498244</td>\n",
       "    </tr>\n",
       "    <tr>\n",
       "      <th>21</th>\n",
       "      <td>UNIVERSITY OF HAWAII</td>\n",
       "      <td>1872.0</td>\n",
       "      <td>0.502414</td>\n",
       "    </tr>\n",
       "    <tr>\n",
       "      <th>20</th>\n",
       "      <td>QUEEN EMMA LAND CO</td>\n",
       "      <td>2075.0</td>\n",
       "      <td>0.556941</td>\n",
       "    </tr>\n",
       "    <tr>\n",
       "      <th>19</th>\n",
       "      <td>KAUKONAHUA RANCH LLC</td>\n",
       "      <td>2121.0</td>\n",
       "      <td>0.569291</td>\n",
       "    </tr>\n",
       "    <tr>\n",
       "      <th>18</th>\n",
       "      <td>CASTLE &amp; COOKE HOMES HAWAII INC</td>\n",
       "      <td>2140.0</td>\n",
       "      <td>0.574190</td>\n",
       "    </tr>\n",
       "    <tr>\n",
       "      <th>17</th>\n",
       "      <td>MONSANTO COMPANY</td>\n",
       "      <td>2151.0</td>\n",
       "      <td>0.577157</td>\n",
       "    </tr>\n",
       "    <tr>\n",
       "      <th>16</th>\n",
       "      <td>STACK,ALLEN M JR</td>\n",
       "      <td>2195.0</td>\n",
       "      <td>0.588992</td>\n",
       "    </tr>\n",
       "    <tr>\n",
       "      <th>15</th>\n",
       "      <td>ISLAND PALM COMMUNITIES LLC</td>\n",
       "      <td>2400.0</td>\n",
       "      <td>0.644143</td>\n",
       "    </tr>\n",
       "    <tr>\n",
       "      <th>14</th>\n",
       "      <td>ROBINSON KUNIA LAND LLC</td>\n",
       "      <td>2440.0</td>\n",
       "      <td>0.654905</td>\n",
       "    </tr>\n",
       "    <tr>\n",
       "      <th>13</th>\n",
       "      <td>PIONEER HI-BRED INTERNATIONAL INC</td>\n",
       "      <td>2636.0</td>\n",
       "      <td>0.707380</td>\n",
       "    </tr>\n",
       "    <tr>\n",
       "      <th>12</th>\n",
       "      <td>BOARD OF WATER SUPPLY</td>\n",
       "      <td>2717.0</td>\n",
       "      <td>0.729067</td>\n",
       "    </tr>\n",
       "    <tr>\n",
       "      <th>11</th>\n",
       "      <td>DILLINGHAM RANCH AINA LLC</td>\n",
       "      <td>2721.0</td>\n",
       "      <td>0.730228</td>\n",
       "    </tr>\n",
       "    <tr>\n",
       "      <th>10</th>\n",
       "      <td>U S NAVAL RESERVATION</td>\n",
       "      <td>3831.0</td>\n",
       "      <td>1.028132</td>\n",
       "    </tr>\n",
       "    <tr>\n",
       "      <th>9</th>\n",
       "      <td>HAWAIIAN HOME LANDS</td>\n",
       "      <td>4836.0</td>\n",
       "      <td>1.297731</td>\n",
       "    </tr>\n",
       "    <tr>\n",
       "      <th>8</th>\n",
       "      <td>S OF H DLNR FORESTRY AND WILDLIFE DIV</td>\n",
       "      <td>5218.0</td>\n",
       "      <td>1.400416</td>\n",
       "    </tr>\n",
       "    <tr>\n",
       "      <th>7</th>\n",
       "      <td>S OF H DOT AIRPORTS DIV</td>\n",
       "      <td>5643.0</td>\n",
       "      <td>1.514417</td>\n",
       "    </tr>\n",
       "    <tr>\n",
       "      <th>6</th>\n",
       "      <td>PROPERTY RESERVE INC</td>\n",
       "      <td>6638.0</td>\n",
       "      <td>1.781388</td>\n",
       "    </tr>\n",
       "    <tr>\n",
       "      <th>5</th>\n",
       "      <td>DOLE FOOD CO INC</td>\n",
       "      <td>11285.0</td>\n",
       "      <td>3.028538</td>\n",
       "    </tr>\n",
       "    <tr>\n",
       "      <th>4</th>\n",
       "      <td>S OF H DLNR</td>\n",
       "      <td>11777.0</td>\n",
       "      <td>3.160521</td>\n",
       "    </tr>\n",
       "    <tr>\n",
       "      <th>3</th>\n",
       "      <td>CITY AND COUNTY OF HONOLULU</td>\n",
       "      <td>13851.0</td>\n",
       "      <td>3.717031</td>\n",
       "    </tr>\n",
       "    <tr>\n",
       "      <th>2</th>\n",
       "      <td>B P BISHOP TRUST ESTATE</td>\n",
       "      <td>47939.0</td>\n",
       "      <td>12.865158</td>\n",
       "    </tr>\n",
       "    <tr>\n",
       "      <th>1</th>\n",
       "      <td>UNITED STATES OF AMERICA</td>\n",
       "      <td>56789.0</td>\n",
       "      <td>15.240109</td>\n",
       "    </tr>\n",
       "    <tr>\n",
       "      <th>0</th>\n",
       "      <td>STATE OF HAWAII</td>\n",
       "      <td>68087.0</td>\n",
       "      <td>18.272089</td>\n",
       "    </tr>\n",
       "  </tbody>\n",
       "</table>\n",
       "</div>"
      ],
      "text/plain": [
       "                             TAXBILLOWNER  tot_area_acres      area%\n",
       "25             REMAINING OAHU LAND OWNERS        105771.0  28.385312\n",
       "24                           HI'IPAKA LLC          1803.0   0.483774\n",
       "23                       KUALOA RANCH INC          1835.0   0.492434\n",
       "22                      MAKAIWA HILLS LLC          1857.0   0.498244\n",
       "21                   UNIVERSITY OF HAWAII          1872.0   0.502414\n",
       "20                     QUEEN EMMA LAND CO          2075.0   0.556941\n",
       "19                   KAUKONAHUA RANCH LLC          2121.0   0.569291\n",
       "18        CASTLE & COOKE HOMES HAWAII INC          2140.0   0.574190\n",
       "17                       MONSANTO COMPANY          2151.0   0.577157\n",
       "16                       STACK,ALLEN M JR          2195.0   0.588992\n",
       "15            ISLAND PALM COMMUNITIES LLC          2400.0   0.644143\n",
       "14                ROBINSON KUNIA LAND LLC          2440.0   0.654905\n",
       "13      PIONEER HI-BRED INTERNATIONAL INC          2636.0   0.707380\n",
       "12                  BOARD OF WATER SUPPLY          2717.0   0.729067\n",
       "11              DILLINGHAM RANCH AINA LLC          2721.0   0.730228\n",
       "10                  U S NAVAL RESERVATION          3831.0   1.028132\n",
       "9                     HAWAIIAN HOME LANDS          4836.0   1.297731\n",
       "8   S OF H DLNR FORESTRY AND WILDLIFE DIV          5218.0   1.400416\n",
       "7                 S OF H DOT AIRPORTS DIV          5643.0   1.514417\n",
       "6                    PROPERTY RESERVE INC          6638.0   1.781388\n",
       "5                        DOLE FOOD CO INC         11285.0   3.028538\n",
       "4                             S OF H DLNR         11777.0   3.160521\n",
       "3             CITY AND COUNTY OF HONOLULU         13851.0   3.717031\n",
       "2                 B P BISHOP TRUST ESTATE         47939.0  12.865158\n",
       "1                UNITED STATES OF AMERICA         56789.0  15.240109\n",
       "0                         STATE OF HAWAII         68087.0  18.272089"
      ]
     },
     "execution_count": 278,
     "metadata": {},
     "output_type": "execute_result"
    }
   ],
   "source": [
    "# percent of land owned\n",
    "\n",
    "tot_area_by_owner['area%'] = tot_area_by_owner['tot_area_acres']/tot_area_by_owner['tot_area_acres'].sum()*100\n",
    "\n",
    "top_25_owners_area = tot_area_by_owner.head(25)\n",
    "\n",
    "remaining_owners = pd.DataFrame([['REMAINING OAHU LAND OWNERS', \n",
    "                                  (tot_area_by_owner['tot_area_acres'].sum() - top_25_owners_area['tot_area_acres'].sum()),\n",
    "                                 (100 - top_25_owners_area['area%'].sum())]], columns=['TAXBILLOWNER', 'tot_area_acres', 'area%'])\n",
    "\n",
    "top_25_owners_area = top_25_owners_area.reset_index(drop=True).append(remaining_owners, ignore_index=True).sort_index(ascending=False)\n",
    "\n",
    "top_25_owners_area['tot_area_acres'] = top_25_owners_area['tot_area_acres'].round()\n",
    "\n",
    "top_25_owners_area"
   ]
  },
  {
   "cell_type": "code",
   "execution_count": 279,
   "metadata": {},
   "outputs": [
    {
     "data": {
      "image/png": "[encoded data removed]",
      "text/plain": [
       "<Figure size 720x720 with 1 Axes>"
      ]
     },
     "metadata": {},
     "output_type": "display_data"
    }
   ],
   "source": [
    "plt.style.use('fivethirtyeight')\n",
    "\n",
    "x = top_25_owners_area['TAXBILLOWNER']\n",
    "h = top_25_owners_area['tot_area_acres'].astype(int)\n",
    "p = top_25_owners_area['area%'].round(decimals=2)\n",
    "\n",
    "fig, ax = plt.subplots()\n",
    "\n",
    "# figure styles\n",
    "fig.set_facecolor('white')\n",
    "fig.set_figheight(10)\n",
    "fig.set_figwidth(10)\n",
    "\n",
    "# axes styles\n",
    "ax.barh(y=x, width=h, height=.9, color='#02A553')\n",
    "ax.set_facecolor('white')\n",
    "\n",
    "# title and subtitle\n",
    "ax.set_title(x=.145, y=1.05, label=\"Who Owns O'ahu?\", fontsize=17, fontweight='bold')\n",
    "# x and y position is relative to the axis labels\n",
    "ax.text(x=-1, y=27.4, s=\"Top 25 land owners in O'ahu by acreage\")\n",
    "\n",
    "# tick marks (positions)\n",
    "ax.set_xticks([0,10000,20000,30000,40000,50000,60000,70000,80000,90000,100000])\n",
    "ax.set_yticks(x)\n",
    "#ax.tick_params()\n",
    "\n",
    "# tick labels (numbers)\n",
    "ax.set_yticklabels(x, fontsize=11, color='grey')\n",
    "ax.set_xticklabels([0,'','20,000','','40,000','','60,000','','80,000','',\"100,000 Acres\"],fontsize=11, color='grey')\n",
    "\n",
    "# axis labels\n",
    "#ax.set_xlabel('ACRES', fontsize=11, fontweight='bold')\n",
    "#ax.set_ylabel('OWNERS', fontsize=11, fontweight='bold')\n",
    "\n",
    "\n",
    "# control the spines\n",
    "ax.spines['left'].set_visible(False)\n",
    "ax.spines['right'].set_visible(False)\n",
    "ax.spines['top'].set_visible(False)\n",
    "ax.spines['bottom'].set_visible(False)\n",
    "\n",
    "x=34\n",
    "\n",
    "for val in p:\n",
    "  x = x-1\n",
    "  ax.annotate(text=str(val)+'%', xy=(val*3800, 32.75-x), fontsize=12)\n",
    "\n",
    "plt.show()"
   ]
  },
  {
   "cell_type": "markdown",
   "metadata": {},
   "source": [
    "__So we now know who own's the most land, but I bet things will change when see who own's the most land value, because although Dole own's a lot of land it mostly agricultural land so that doesn't hold a lot of value.__"
   ]
  },
  {
   "cell_type": "code",
   "execution_count": 24,
   "metadata": {},
   "outputs": [
    {
     "data": {
      "text/html": [
       "<div>\n",
       "<style scoped>\n",
       "    .dataframe tbody tr th:only-of-type {\n",
       "        vertical-align: middle;\n",
       "    }\n",
       "\n",
       "    .dataframe tbody tr th {\n",
       "        vertical-align: top;\n",
       "    }\n",
       "\n",
       "    .dataframe thead th {\n",
       "        text-align: right;\n",
       "    }\n",
       "</style>\n",
       "<table border=\"1\" class=\"dataframe\">\n",
       "  <thead>\n",
       "    <tr style=\"text-align: right;\">\n",
       "      <th></th>\n",
       "      <th>PARID</th>\n",
       "      <th>TAXBILLOWNER</th>\n",
       "      <th>TAXBILLCITY</th>\n",
       "      <th>TAXBILLSTATE</th>\n",
       "      <th>TAXBILLCOUNTRY</th>\n",
       "      <th>TAXBILLZIP5</th>\n",
       "      <th>TAXBILLZIP4</th>\n",
       "      <th>BUILDINGVALUE</th>\n",
       "      <th>BUILDINGEXEMPTION</th>\n",
       "      <th>LANDVALUE</th>\n",
       "      <th>LANDEXEMPTION</th>\n",
       "      <th>TNETTAXVAL</th>\n",
       "      <th>UNITNO</th>\n",
       "      <th>TOTACRES</th>\n",
       "      <th>TOTSQFT</th>\n",
       "      <th>tot_area_acres</th>\n",
       "      <th>net_value</th>\n",
       "    </tr>\n",
       "  </thead>\n",
       "  <tbody>\n",
       "    <tr>\n",
       "      <th>0</th>\n",
       "      <td>360140040000</td>\n",
       "      <td>YOUNG,ROYDEN S H</td>\n",
       "      <td>HONOLULU</td>\n",
       "      <td>HI</td>\n",
       "      <td>NaN</td>\n",
       "      <td>96821.0</td>\n",
       "      <td>NaN</td>\n",
       "      <td>35100</td>\n",
       "      <td>35100</td>\n",
       "      <td>862900</td>\n",
       "      <td>64900</td>\n",
       "      <td>798000</td>\n",
       "      <td>0</td>\n",
       "      <td>0.0</td>\n",
       "      <td>7506</td>\n",
       "      <td>0.172314</td>\n",
       "      <td>898000</td>\n",
       "    </tr>\n",
       "    <tr>\n",
       "      <th>1</th>\n",
       "      <td>360140050000</td>\n",
       "      <td>CHIN,YVONNE L P TR</td>\n",
       "      <td>HONOLULU</td>\n",
       "      <td>HI</td>\n",
       "      <td>NaN</td>\n",
       "      <td>96821.0</td>\n",
       "      <td>NaN</td>\n",
       "      <td>81200</td>\n",
       "      <td>81200</td>\n",
       "      <td>863000</td>\n",
       "      <td>58800</td>\n",
       "      <td>804200</td>\n",
       "      <td>0</td>\n",
       "      <td>0.0</td>\n",
       "      <td>7508</td>\n",
       "      <td>0.172360</td>\n",
       "      <td>944200</td>\n",
       "    </tr>\n",
       "    <tr>\n",
       "      <th>2</th>\n",
       "      <td>360140060000</td>\n",
       "      <td>HAWAIIAN ELECTRIC CO INC</td>\n",
       "      <td>HONOLULU</td>\n",
       "      <td>HI</td>\n",
       "      <td>NaN</td>\n",
       "      <td>96840.0</td>\n",
       "      <td>NaN</td>\n",
       "      <td>0</td>\n",
       "      <td>0</td>\n",
       "      <td>100</td>\n",
       "      <td>100</td>\n",
       "      <td>0</td>\n",
       "      <td>0</td>\n",
       "      <td>0.0</td>\n",
       "      <td>36</td>\n",
       "      <td>0.000826</td>\n",
       "      <td>100</td>\n",
       "    </tr>\n",
       "    <tr>\n",
       "      <th>3</th>\n",
       "      <td>330610860000</td>\n",
       "      <td>SVW TRUST</td>\n",
       "      <td>BEVERLY HILLS</td>\n",
       "      <td>CA</td>\n",
       "      <td>NaN</td>\n",
       "      <td>90210.0</td>\n",
       "      <td>NaN</td>\n",
       "      <td>245500</td>\n",
       "      <td>0</td>\n",
       "      <td>1030900</td>\n",
       "      <td>0</td>\n",
       "      <td>1276400</td>\n",
       "      <td>0</td>\n",
       "      <td>0.0</td>\n",
       "      <td>6693</td>\n",
       "      <td>0.153650</td>\n",
       "      <td>1276400</td>\n",
       "    </tr>\n",
       "    <tr>\n",
       "      <th>4</th>\n",
       "      <td>230100281031</td>\n",
       "      <td>KC RAINBOW DEV CO LLC</td>\n",
       "      <td>CUPERTINO</td>\n",
       "      <td>CA</td>\n",
       "      <td>NaN</td>\n",
       "      <td>95014.0</td>\n",
       "      <td>NaN</td>\n",
       "      <td>25000</td>\n",
       "      <td>0</td>\n",
       "      <td>1000</td>\n",
       "      <td>0</td>\n",
       "      <td>26000</td>\n",
       "      <td>PA-3001</td>\n",
       "      <td>0.0</td>\n",
       "      <td>0</td>\n",
       "      <td>0.000000</td>\n",
       "      <td>26000</td>\n",
       "    </tr>\n",
       "  </tbody>\n",
       "</table>\n",
       "</div>"
      ],
      "text/plain": [
       "          PARID              TAXBILLOWNER    TAXBILLCITY TAXBILLSTATE  \\\n",
       "0  360140040000          YOUNG,ROYDEN S H       HONOLULU           HI   \n",
       "1  360140050000        CHIN,YVONNE L P TR       HONOLULU           HI   \n",
       "2  360140060000  HAWAIIAN ELECTRIC CO INC       HONOLULU           HI   \n",
       "3  330610860000                 SVW TRUST  BEVERLY HILLS           CA   \n",
       "4  230100281031     KC RAINBOW DEV CO LLC      CUPERTINO           CA   \n",
       "\n",
       "  TAXBILLCOUNTRY  TAXBILLZIP5 TAXBILLZIP4  BUILDINGVALUE  BUILDINGEXEMPTION  \\\n",
       "0            NaN      96821.0         NaN          35100              35100   \n",
       "1            NaN      96821.0         NaN          81200              81200   \n",
       "2            NaN      96840.0         NaN              0                  0   \n",
       "3            NaN      90210.0         NaN         245500                  0   \n",
       "4            NaN      95014.0         NaN          25000                  0   \n",
       "\n",
       "   LANDVALUE  LANDEXEMPTION  TNETTAXVAL   UNITNO  TOTACRES  TOTSQFT  \\\n",
       "0     862900          64900      798000        0       0.0     7506   \n",
       "1     863000          58800      804200        0       0.0     7508   \n",
       "2        100            100           0        0       0.0       36   \n",
       "3    1030900              0     1276400        0       0.0     6693   \n",
       "4       1000              0       26000  PA-3001       0.0        0   \n",
       "\n",
       "   tot_area_acres  net_value  \n",
       "0        0.172314     898000  \n",
       "1        0.172360     944200  \n",
       "2        0.000826        100  \n",
       "3        0.153650    1276400  \n",
       "4        0.000000      26000  "
      ]
     },
     "execution_count": 24,
     "metadata": {},
     "output_type": "execute_result"
    }
   ],
   "source": [
    "# created new column net value without exemptions\n",
    "\n",
    "hon_parcel['net_value'] = hon_parcel['BUILDINGVALUE'] + hon_parcel['LANDVALUE']\n",
    "\n",
    "hon_parcel.head()"
   ]
  },
  {
   "cell_type": "code",
   "execution_count": 280,
   "metadata": {},
   "outputs": [
    {
     "data": {
      "text/html": [
       "<div>\n",
       "<style scoped>\n",
       "    .dataframe tbody tr th:only-of-type {\n",
       "        vertical-align: middle;\n",
       "    }\n",
       "\n",
       "    .dataframe tbody tr th {\n",
       "        vertical-align: top;\n",
       "    }\n",
       "\n",
       "    .dataframe thead th {\n",
       "        text-align: right;\n",
       "    }\n",
       "</style>\n",
       "<table border=\"1\" class=\"dataframe\">\n",
       "  <thead>\n",
       "    <tr style=\"text-align: right;\">\n",
       "      <th></th>\n",
       "      <th>TAXBILLOWNER</th>\n",
       "      <th>net_value</th>\n",
       "      <th>value%</th>\n",
       "    </tr>\n",
       "  </thead>\n",
       "  <tbody>\n",
       "    <tr>\n",
       "      <th>25</th>\n",
       "      <td>REMAINING OAHU LAND OWNERS</td>\n",
       "      <td>281953189900</td>\n",
       "      <td>82.653905</td>\n",
       "    </tr>\n",
       "    <tr>\n",
       "      <th>24</th>\n",
       "      <td>OFFICE OF HAWAIIAN AFFAIRS</td>\n",
       "      <td>488557200</td>\n",
       "      <td>0.143219</td>\n",
       "    </tr>\n",
       "    <tr>\n",
       "      <th>23</th>\n",
       "      <td>CONVENTION CTR AUTHORITY</td>\n",
       "      <td>530001800</td>\n",
       "      <td>0.155369</td>\n",
       "    </tr>\n",
       "    <tr>\n",
       "      <th>22</th>\n",
       "      <td>MARRIOTT OWNERSHIP RESORTS</td>\n",
       "      <td>536356000</td>\n",
       "      <td>0.157231</td>\n",
       "    </tr>\n",
       "    <tr>\n",
       "      <th>21</th>\n",
       "      <td>HAWAII COMM DEV AUTHORITY</td>\n",
       "      <td>545560400</td>\n",
       "      <td>0.159930</td>\n",
       "    </tr>\n",
       "    <tr>\n",
       "      <th>20</th>\n",
       "      <td>2424 KALAKAUA ASSOCIATES</td>\n",
       "      <td>561210500</td>\n",
       "      <td>0.164518</td>\n",
       "    </tr>\n",
       "    <tr>\n",
       "      <th>19</th>\n",
       "      <td>BANK OF HAWAII TRS</td>\n",
       "      <td>599926800</td>\n",
       "      <td>0.175867</td>\n",
       "    </tr>\n",
       "    <tr>\n",
       "      <th>18</th>\n",
       "      <td>LILIUOKALANI TRUST</td>\n",
       "      <td>631941700</td>\n",
       "      <td>0.185252</td>\n",
       "    </tr>\n",
       "    <tr>\n",
       "      <th>17</th>\n",
       "      <td>ABC INC</td>\n",
       "      <td>651013900</td>\n",
       "      <td>0.190843</td>\n",
       "    </tr>\n",
       "    <tr>\n",
       "      <th>16</th>\n",
       "      <td>U S NAVAL RESERVATION</td>\n",
       "      <td>815106300</td>\n",
       "      <td>0.238946</td>\n",
       "    </tr>\n",
       "    <tr>\n",
       "      <th>15</th>\n",
       "      <td>HAWAIIAN ELECTRIC CO INC</td>\n",
       "      <td>868721500</td>\n",
       "      <td>0.254664</td>\n",
       "    </tr>\n",
       "    <tr>\n",
       "      <th>14</th>\n",
       "      <td>KYO-YA HOTELS &amp; RESORTS LP</td>\n",
       "      <td>1058953700</td>\n",
       "      <td>0.310430</td>\n",
       "    </tr>\n",
       "    <tr>\n",
       "      <th>13</th>\n",
       "      <td>HAWAII PUBLIC HOUSING AUTHORITY</td>\n",
       "      <td>1123452500</td>\n",
       "      <td>0.329337</td>\n",
       "    </tr>\n",
       "    <tr>\n",
       "      <th>12</th>\n",
       "      <td>HAWAII HOUSING FINANCE AND DEV. CORP.</td>\n",
       "      <td>1157893200</td>\n",
       "      <td>0.339434</td>\n",
       "    </tr>\n",
       "    <tr>\n",
       "      <th>11</th>\n",
       "      <td>UNIVERSITY OF HAWAII</td>\n",
       "      <td>1464471100</td>\n",
       "      <td>0.429306</td>\n",
       "    </tr>\n",
       "    <tr>\n",
       "      <th>10</th>\n",
       "      <td>S OF H DLNR</td>\n",
       "      <td>1489470800</td>\n",
       "      <td>0.436635</td>\n",
       "    </tr>\n",
       "    <tr>\n",
       "      <th>9</th>\n",
       "      <td>HILTON HAWAIIAN VILLAGE LLC</td>\n",
       "      <td>1605677900</td>\n",
       "      <td>0.470701</td>\n",
       "    </tr>\n",
       "    <tr>\n",
       "      <th>8</th>\n",
       "      <td>GGP ALA MOANA LLC</td>\n",
       "      <td>1634394500</td>\n",
       "      <td>0.479119</td>\n",
       "    </tr>\n",
       "    <tr>\n",
       "      <th>7</th>\n",
       "      <td>QUEEN EMMA LAND CO</td>\n",
       "      <td>1756768200</td>\n",
       "      <td>0.514992</td>\n",
       "    </tr>\n",
       "    <tr>\n",
       "      <th>6</th>\n",
       "      <td>S OF H DOT AIRPORTS DIV</td>\n",
       "      <td>2756161700</td>\n",
       "      <td>0.807962</td>\n",
       "    </tr>\n",
       "    <tr>\n",
       "      <th>5</th>\n",
       "      <td>S OF H DOT HARBORS DIV</td>\n",
       "      <td>3429094200</td>\n",
       "      <td>1.005231</td>\n",
       "    </tr>\n",
       "    <tr>\n",
       "      <th>4</th>\n",
       "      <td>HAWAIIAN HOME LANDS</td>\n",
       "      <td>3621863900</td>\n",
       "      <td>1.061741</td>\n",
       "    </tr>\n",
       "    <tr>\n",
       "      <th>3</th>\n",
       "      <td>B P BISHOP TRUST ESTATE</td>\n",
       "      <td>6105239500</td>\n",
       "      <td>1.789736</td>\n",
       "    </tr>\n",
       "    <tr>\n",
       "      <th>2</th>\n",
       "      <td>STATE OF HAWAII</td>\n",
       "      <td>7223596800</td>\n",
       "      <td>2.117580</td>\n",
       "    </tr>\n",
       "    <tr>\n",
       "      <th>1</th>\n",
       "      <td>CITY AND COUNTY OF HONOLULU</td>\n",
       "      <td>7892144200</td>\n",
       "      <td>2.313563</td>\n",
       "    </tr>\n",
       "    <tr>\n",
       "      <th>0</th>\n",
       "      <td>UNITED STATES OF AMERICA</td>\n",
       "      <td>10624298700</td>\n",
       "      <td>3.114488</td>\n",
       "    </tr>\n",
       "  </tbody>\n",
       "</table>\n",
       "</div>"
      ],
      "text/plain": [
       "                             TAXBILLOWNER     net_value     value%\n",
       "25             REMAINING OAHU LAND OWNERS  281953189900  82.653905\n",
       "24             OFFICE OF HAWAIIAN AFFAIRS     488557200   0.143219\n",
       "23               CONVENTION CTR AUTHORITY     530001800   0.155369\n",
       "22             MARRIOTT OWNERSHIP RESORTS     536356000   0.157231\n",
       "21              HAWAII COMM DEV AUTHORITY     545560400   0.159930\n",
       "20               2424 KALAKAUA ASSOCIATES     561210500   0.164518\n",
       "19                     BANK OF HAWAII TRS     599926800   0.175867\n",
       "18                     LILIUOKALANI TRUST     631941700   0.185252\n",
       "17                                ABC INC     651013900   0.190843\n",
       "16                  U S NAVAL RESERVATION     815106300   0.238946\n",
       "15               HAWAIIAN ELECTRIC CO INC     868721500   0.254664\n",
       "14             KYO-YA HOTELS & RESORTS LP    1058953700   0.310430\n",
       "13        HAWAII PUBLIC HOUSING AUTHORITY    1123452500   0.329337\n",
       "12  HAWAII HOUSING FINANCE AND DEV. CORP.    1157893200   0.339434\n",
       "11                   UNIVERSITY OF HAWAII    1464471100   0.429306\n",
       "10                            S OF H DLNR    1489470800   0.436635\n",
       "9             HILTON HAWAIIAN VILLAGE LLC    1605677900   0.470701\n",
       "8                       GGP ALA MOANA LLC    1634394500   0.479119\n",
       "7                      QUEEN EMMA LAND CO    1756768200   0.514992\n",
       "6                 S OF H DOT AIRPORTS DIV    2756161700   0.807962\n",
       "5                  S OF H DOT HARBORS DIV    3429094200   1.005231\n",
       "4                     HAWAIIAN HOME LANDS    3621863900   1.061741\n",
       "3                 B P BISHOP TRUST ESTATE    6105239500   1.789736\n",
       "2                         STATE OF HAWAII    7223596800   2.117580\n",
       "1             CITY AND COUNTY OF HONOLULU    7892144200   2.313563\n",
       "0                UNITED STATES OF AMERICA   10624298700   3.114488"
      ]
     },
     "execution_count": 280,
     "metadata": {},
     "output_type": "execute_result"
    }
   ],
   "source": [
    "#filter for top owners of land by value\n",
    "\n",
    "tot_value_by_owner = hon_parcel.groupby(['TAXBILLOWNER'], as_index=False)['net_value'].sum()\n",
    "\n",
    "tot_value_by_owner = pd.DataFrame(tot_value_by_owner).sort_values('net_value', ascending=False)\n",
    "\n",
    "# include percentage of value owned\n",
    "\n",
    "tot_value_by_owner['value%'] = tot_value_by_owner['net_value']/tot_value_by_owner['net_value'].sum()*100\n",
    "\n",
    "top_25_owners_value = tot_value_by_owner.head(25)\n",
    "\n",
    "remaining_owners = pd.DataFrame([['REMAINING OAHU LAND OWNERS', \n",
    "                                  (tot_value_by_owner['net_value'].sum() - top_25_owners_value['net_value'].sum()),\n",
    "                                 (100 - top_25_owners_value['value%'].sum())]], columns=['TAXBILLOWNER', 'net_value', 'value%'])\n",
    "\n",
    "top_25_owners_value = top_25_owners_value.reset_index(drop=True).append(remaining_owners, ignore_index=True).sort_index(ascending=False)\n",
    "\n",
    "top_25_owners_value"
   ]
  },
  {
   "cell_type": "code",
   "execution_count": 282,
   "metadata": {},
   "outputs": [
    {
     "data": {
      "image/png": "[encoded data removed]",
      "text/plain": [
       "<Figure size 720x720 with 1 Axes>"
      ]
     },
     "metadata": {},
     "output_type": "display_data"
    }
   ],
   "source": [
    "plt.style.use('fivethirtyeight')\n",
    "\n",
    "x = top_25_owners_value['TAXBILLOWNER']\n",
    "h = top_25_owners_value['net_value']\n",
    "p = top_25_owners_value['value%'].round(decimals=2)\n",
    "\n",
    "fig, ax = plt.subplots()\n",
    "\n",
    "# figure styles\n",
    "fig.set_facecolor('white')\n",
    "fig.set_figheight(10)\n",
    "fig.set_figwidth(10)\n",
    "\n",
    "# axes styles\n",
    "ax.barh(y=x, width=h, height=.9, color='#D60000')\n",
    "ax.set_facecolor('white')\n",
    "\n",
    "# title and subtitle\n",
    "ax.set_title(x=.145, y=1.05, label=\"Who Owns O'AHU?\", fontsize=17, fontweight='bold')\n",
    "# x and y position is relative to the axis labels\n",
    "ax.text(x=-1, y=27.4, s=\"Top 25 land owners in O'AHU by property value\")\n",
    "\n",
    "# tick marks (positions)\n",
    "ax.set_xticks([0,50000000000,100000000000,150000000000,200000000000,250000000000, 300000000000])\n",
    "ax.set_yticks(x)\n",
    "#ax.tick_params()\n",
    "\n",
    "# tick labels (numbers)\n",
    "ax.set_yticklabels(x, fontsize=11, color='grey')\n",
    "ax.set_xticklabels(['0', '50', '100', '150', '200', '250','$300 BILLION'],fontsize=11, color='grey')\n",
    "\n",
    "# axis labels\n",
    "#ax.set_xlabel('ACRES', fontsize=11, fontweight='bold')\n",
    "#ax.set_ylabel('OWNERS', fontsize=11, fontweight='bold')\n",
    "\n",
    "\n",
    "# control the spines\n",
    "ax.spines['left'].set_visible(False)\n",
    "ax.spines['right'].set_visible(False)\n",
    "ax.spines['top'].set_visible(False)\n",
    "ax.spines['bottom'].set_visible(False)\n",
    "\n",
    "#set limits\n",
    "ax.set_xlim(right=310000000000)\n",
    "\n",
    "x=34\n",
    "\n",
    "for val in p:\n",
    "  x = x-1\n",
    "  ax.annotate(text=str(val)+'%', xy=(val*3430000000, 32.75-x), fontsize=12)\n",
    "    \n",
    "x=34\n",
    "\n",
    "for val in h:\n",
    "  x = x-1\n",
    "  ax.annotate(text='$'+str(round(val/1000000000,2))+' B', xy=(val+27000000000, 32.75-x), fontsize=12)\n",
    "\n",
    "plt.show()"
   ]
  },
  {
   "cell_type": "markdown",
   "metadata": {},
   "source": [
    "__When looking at property value the top 25 changes quite a bit Dole, Monsanto, Fish and Wildlife all these organizations fall off the top 25 because their lands don't hold a lot of value as they are zoned as ag or preservation lands. Those owning residential, Idustrial, and Business zoned lands move to the top.__"
   ]
  },
  {
   "cell_type": "code",
   "execution_count": 27,
   "metadata": {},
   "outputs": [
    {
     "data": {
      "text/html": [
       "<div>\n",
       "<style scoped>\n",
       "    .dataframe tbody tr th:only-of-type {\n",
       "        vertical-align: middle;\n",
       "    }\n",
       "\n",
       "    .dataframe tbody tr th {\n",
       "        vertical-align: top;\n",
       "    }\n",
       "\n",
       "    .dataframe thead th {\n",
       "        text-align: right;\n",
       "    }\n",
       "</style>\n",
       "<table border=\"1\" class=\"dataframe\">\n",
       "  <thead>\n",
       "    <tr style=\"text-align: right;\">\n",
       "      <th></th>\n",
       "      <th>PARID</th>\n",
       "      <th>TAXBILLOWNER</th>\n",
       "      <th>TAXBILLCITY</th>\n",
       "      <th>TAXBILLSTATE</th>\n",
       "      <th>TAXBILLCOUNTRY</th>\n",
       "      <th>TAXBILLZIP5</th>\n",
       "      <th>TAXBILLZIP4</th>\n",
       "      <th>BUILDINGVALUE</th>\n",
       "      <th>BUILDINGEXEMPTION</th>\n",
       "      <th>LANDVALUE</th>\n",
       "      <th>LANDEXEMPTION</th>\n",
       "      <th>TNETTAXVAL</th>\n",
       "      <th>UNITNO</th>\n",
       "      <th>TOTACRES</th>\n",
       "      <th>TOTSQFT</th>\n",
       "      <th>tot_area_acres</th>\n",
       "      <th>net_value</th>\n",
       "    </tr>\n",
       "  </thead>\n",
       "  <tbody>\n",
       "    <tr>\n",
       "      <th>0</th>\n",
       "      <td>360140040000</td>\n",
       "      <td>YOUNG,ROYDEN S H</td>\n",
       "      <td>HONOLULU</td>\n",
       "      <td>HI</td>\n",
       "      <td>NaN</td>\n",
       "      <td>96821.0</td>\n",
       "      <td>NaN</td>\n",
       "      <td>35100</td>\n",
       "      <td>35100</td>\n",
       "      <td>862900</td>\n",
       "      <td>64900</td>\n",
       "      <td>798000</td>\n",
       "      <td>0</td>\n",
       "      <td>0.0</td>\n",
       "      <td>7506</td>\n",
       "      <td>0.172314</td>\n",
       "      <td>898000</td>\n",
       "    </tr>\n",
       "    <tr>\n",
       "      <th>1</th>\n",
       "      <td>360140050000</td>\n",
       "      <td>CHIN,YVONNE L P TR</td>\n",
       "      <td>HONOLULU</td>\n",
       "      <td>HI</td>\n",
       "      <td>NaN</td>\n",
       "      <td>96821.0</td>\n",
       "      <td>NaN</td>\n",
       "      <td>81200</td>\n",
       "      <td>81200</td>\n",
       "      <td>863000</td>\n",
       "      <td>58800</td>\n",
       "      <td>804200</td>\n",
       "      <td>0</td>\n",
       "      <td>0.0</td>\n",
       "      <td>7508</td>\n",
       "      <td>0.172360</td>\n",
       "      <td>944200</td>\n",
       "    </tr>\n",
       "    <tr>\n",
       "      <th>2</th>\n",
       "      <td>360140060000</td>\n",
       "      <td>HAWAIIAN ELECTRIC CO INC</td>\n",
       "      <td>HONOLULU</td>\n",
       "      <td>HI</td>\n",
       "      <td>NaN</td>\n",
       "      <td>96840.0</td>\n",
       "      <td>NaN</td>\n",
       "      <td>0</td>\n",
       "      <td>0</td>\n",
       "      <td>100</td>\n",
       "      <td>100</td>\n",
       "      <td>0</td>\n",
       "      <td>0</td>\n",
       "      <td>0.0</td>\n",
       "      <td>36</td>\n",
       "      <td>0.000826</td>\n",
       "      <td>100</td>\n",
       "    </tr>\n",
       "    <tr>\n",
       "      <th>3</th>\n",
       "      <td>330610860000</td>\n",
       "      <td>SVW TRUST</td>\n",
       "      <td>BEVERLY HILLS</td>\n",
       "      <td>CA</td>\n",
       "      <td>NaN</td>\n",
       "      <td>90210.0</td>\n",
       "      <td>NaN</td>\n",
       "      <td>245500</td>\n",
       "      <td>0</td>\n",
       "      <td>1030900</td>\n",
       "      <td>0</td>\n",
       "      <td>1276400</td>\n",
       "      <td>0</td>\n",
       "      <td>0.0</td>\n",
       "      <td>6693</td>\n",
       "      <td>0.153650</td>\n",
       "      <td>1276400</td>\n",
       "    </tr>\n",
       "    <tr>\n",
       "      <th>4</th>\n",
       "      <td>230100281031</td>\n",
       "      <td>KC RAINBOW DEV CO LLC</td>\n",
       "      <td>CUPERTINO</td>\n",
       "      <td>CA</td>\n",
       "      <td>NaN</td>\n",
       "      <td>95014.0</td>\n",
       "      <td>NaN</td>\n",
       "      <td>25000</td>\n",
       "      <td>0</td>\n",
       "      <td>1000</td>\n",
       "      <td>0</td>\n",
       "      <td>26000</td>\n",
       "      <td>PA-3001</td>\n",
       "      <td>0.0</td>\n",
       "      <td>0</td>\n",
       "      <td>0.000000</td>\n",
       "      <td>26000</td>\n",
       "    </tr>\n",
       "  </tbody>\n",
       "</table>\n",
       "</div>"
      ],
      "text/plain": [
       "          PARID              TAXBILLOWNER    TAXBILLCITY TAXBILLSTATE  \\\n",
       "0  360140040000          YOUNG,ROYDEN S H       HONOLULU           HI   \n",
       "1  360140050000        CHIN,YVONNE L P TR       HONOLULU           HI   \n",
       "2  360140060000  HAWAIIAN ELECTRIC CO INC       HONOLULU           HI   \n",
       "3  330610860000                 SVW TRUST  BEVERLY HILLS           CA   \n",
       "4  230100281031     KC RAINBOW DEV CO LLC      CUPERTINO           CA   \n",
       "\n",
       "  TAXBILLCOUNTRY  TAXBILLZIP5 TAXBILLZIP4  BUILDINGVALUE  BUILDINGEXEMPTION  \\\n",
       "0            NaN      96821.0         NaN          35100              35100   \n",
       "1            NaN      96821.0         NaN          81200              81200   \n",
       "2            NaN      96840.0         NaN              0                  0   \n",
       "3            NaN      90210.0         NaN         245500                  0   \n",
       "4            NaN      95014.0         NaN          25000                  0   \n",
       "\n",
       "   LANDVALUE  LANDEXEMPTION  TNETTAXVAL   UNITNO  TOTACRES  TOTSQFT  \\\n",
       "0     862900          64900      798000        0       0.0     7506   \n",
       "1     863000          58800      804200        0       0.0     7508   \n",
       "2        100            100           0        0       0.0       36   \n",
       "3    1030900              0     1276400        0       0.0     6693   \n",
       "4       1000              0       26000  PA-3001       0.0        0   \n",
       "\n",
       "   tot_area_acres  net_value  \n",
       "0        0.172314     898000  \n",
       "1        0.172360     944200  \n",
       "2        0.000826        100  \n",
       "3        0.153650    1276400  \n",
       "4        0.000000      26000  "
      ]
     },
     "execution_count": 27,
     "metadata": {},
     "output_type": "execute_result"
    }
   ],
   "source": [
    "hon_parcel.head()"
   ]
  },
  {
   "cell_type": "code",
   "execution_count": 28,
   "metadata": {},
   "outputs": [
    {
     "name": "stderr",
     "output_type": "stream",
     "text": [
      "/Library/Frameworks/Python.framework/Versions/3.7/lib/python3.7/site-packages/ipykernel_launcher.py:5: SettingWithCopyWarning:\n",
      "\n",
      "\n",
      "A value is trying to be set on a copy of a slice from a DataFrame\n",
      "\n",
      "See the caveats in the documentation: https://pandas.pydata.org/pandas-docs/stable/user_guide/indexing.html#returning-a-view-versus-a-copy\n",
      "\n"
     ]
    },
    {
     "data": {
      "text/html": [
       "<div>\n",
       "<style scoped>\n",
       "    .dataframe tbody tr th:only-of-type {\n",
       "        vertical-align: middle;\n",
       "    }\n",
       "\n",
       "    .dataframe tbody tr th {\n",
       "        vertical-align: top;\n",
       "    }\n",
       "\n",
       "    .dataframe thead th {\n",
       "        text-align: right;\n",
       "    }\n",
       "</style>\n",
       "<table border=\"1\" class=\"dataframe\">\n",
       "  <thead>\n",
       "    <tr style=\"text-align: right;\">\n",
       "      <th></th>\n",
       "      <th>PARID</th>\n",
       "      <th>TAXBILLOWNER</th>\n",
       "      <th>TAXBILLCITY</th>\n",
       "      <th>TAXBILLSTATE</th>\n",
       "      <th>TAXBILLCOUNTRY</th>\n",
       "      <th>TAXBILLZIP5</th>\n",
       "      <th>TAXBILLZIP4</th>\n",
       "      <th>BUILDINGVALUE</th>\n",
       "      <th>BUILDINGEXEMPTION</th>\n",
       "      <th>LANDVALUE</th>\n",
       "      <th>LANDEXEMPTION</th>\n",
       "      <th>TNETTAXVAL</th>\n",
       "      <th>UNITNO</th>\n",
       "      <th>TOTACRES</th>\n",
       "      <th>TOTSQFT</th>\n",
       "      <th>tot_area_acres</th>\n",
       "      <th>net_value</th>\n",
       "      <th>value/sf</th>\n",
       "    </tr>\n",
       "  </thead>\n",
       "  <tbody>\n",
       "    <tr>\n",
       "      <th>0</th>\n",
       "      <td>360140040000</td>\n",
       "      <td>YOUNG,ROYDEN S H</td>\n",
       "      <td>HONOLULU</td>\n",
       "      <td>HI</td>\n",
       "      <td>NaN</td>\n",
       "      <td>96821.0</td>\n",
       "      <td>NaN</td>\n",
       "      <td>35100</td>\n",
       "      <td>35100</td>\n",
       "      <td>862900</td>\n",
       "      <td>64900</td>\n",
       "      <td>798000</td>\n",
       "      <td>0</td>\n",
       "      <td>0.0</td>\n",
       "      <td>7506</td>\n",
       "      <td>0.172314</td>\n",
       "      <td>898000</td>\n",
       "      <td>119.637623</td>\n",
       "    </tr>\n",
       "    <tr>\n",
       "      <th>1</th>\n",
       "      <td>360140050000</td>\n",
       "      <td>CHIN,YVONNE L P TR</td>\n",
       "      <td>HONOLULU</td>\n",
       "      <td>HI</td>\n",
       "      <td>NaN</td>\n",
       "      <td>96821.0</td>\n",
       "      <td>NaN</td>\n",
       "      <td>81200</td>\n",
       "      <td>81200</td>\n",
       "      <td>863000</td>\n",
       "      <td>58800</td>\n",
       "      <td>804200</td>\n",
       "      <td>0</td>\n",
       "      <td>0.0</td>\n",
       "      <td>7508</td>\n",
       "      <td>0.172360</td>\n",
       "      <td>944200</td>\n",
       "      <td>125.759190</td>\n",
       "    </tr>\n",
       "    <tr>\n",
       "      <th>2</th>\n",
       "      <td>360140060000</td>\n",
       "      <td>HAWAIIAN ELECTRIC CO INC</td>\n",
       "      <td>HONOLULU</td>\n",
       "      <td>HI</td>\n",
       "      <td>NaN</td>\n",
       "      <td>96840.0</td>\n",
       "      <td>NaN</td>\n",
       "      <td>0</td>\n",
       "      <td>0</td>\n",
       "      <td>100</td>\n",
       "      <td>100</td>\n",
       "      <td>0</td>\n",
       "      <td>0</td>\n",
       "      <td>0.0</td>\n",
       "      <td>36</td>\n",
       "      <td>0.000826</td>\n",
       "      <td>100</td>\n",
       "      <td>2.777778</td>\n",
       "    </tr>\n",
       "    <tr>\n",
       "      <th>3</th>\n",
       "      <td>330610860000</td>\n",
       "      <td>SVW TRUST</td>\n",
       "      <td>BEVERLY HILLS</td>\n",
       "      <td>CA</td>\n",
       "      <td>NaN</td>\n",
       "      <td>90210.0</td>\n",
       "      <td>NaN</td>\n",
       "      <td>245500</td>\n",
       "      <td>0</td>\n",
       "      <td>1030900</td>\n",
       "      <td>0</td>\n",
       "      <td>1276400</td>\n",
       "      <td>0</td>\n",
       "      <td>0.0</td>\n",
       "      <td>6693</td>\n",
       "      <td>0.153650</td>\n",
       "      <td>1276400</td>\n",
       "      <td>190.706709</td>\n",
       "    </tr>\n",
       "    <tr>\n",
       "      <th>4</th>\n",
       "      <td>230100281031</td>\n",
       "      <td>KC RAINBOW DEV CO LLC</td>\n",
       "      <td>CUPERTINO</td>\n",
       "      <td>CA</td>\n",
       "      <td>NaN</td>\n",
       "      <td>95014.0</td>\n",
       "      <td>NaN</td>\n",
       "      <td>25000</td>\n",
       "      <td>0</td>\n",
       "      <td>1000</td>\n",
       "      <td>0</td>\n",
       "      <td>26000</td>\n",
       "      <td>PA-3001</td>\n",
       "      <td>0.0</td>\n",
       "      <td>0</td>\n",
       "      <td>0.000000</td>\n",
       "      <td>26000</td>\n",
       "      <td>0.000000</td>\n",
       "    </tr>\n",
       "  </tbody>\n",
       "</table>\n",
       "</div>"
      ],
      "text/plain": [
       "          PARID              TAXBILLOWNER    TAXBILLCITY TAXBILLSTATE  \\\n",
       "0  360140040000          YOUNG,ROYDEN S H       HONOLULU           HI   \n",
       "1  360140050000        CHIN,YVONNE L P TR       HONOLULU           HI   \n",
       "2  360140060000  HAWAIIAN ELECTRIC CO INC       HONOLULU           HI   \n",
       "3  330610860000                 SVW TRUST  BEVERLY HILLS           CA   \n",
       "4  230100281031     KC RAINBOW DEV CO LLC      CUPERTINO           CA   \n",
       "\n",
       "  TAXBILLCOUNTRY  TAXBILLZIP5 TAXBILLZIP4  BUILDINGVALUE  BUILDINGEXEMPTION  \\\n",
       "0            NaN      96821.0         NaN          35100              35100   \n",
       "1            NaN      96821.0         NaN          81200              81200   \n",
       "2            NaN      96840.0         NaN              0                  0   \n",
       "3            NaN      90210.0         NaN         245500                  0   \n",
       "4            NaN      95014.0         NaN          25000                  0   \n",
       "\n",
       "   LANDVALUE  LANDEXEMPTION  TNETTAXVAL   UNITNO  TOTACRES  TOTSQFT  \\\n",
       "0     862900          64900      798000        0       0.0     7506   \n",
       "1     863000          58800      804200        0       0.0     7508   \n",
       "2        100            100           0        0       0.0       36   \n",
       "3    1030900              0     1276400        0       0.0     6693   \n",
       "4       1000              0       26000  PA-3001       0.0        0   \n",
       "\n",
       "   tot_area_acres  net_value    value/sf  \n",
       "0        0.172314     898000  119.637623  \n",
       "1        0.172360     944200  125.759190  \n",
       "2        0.000826        100    2.777778  \n",
       "3        0.153650    1276400  190.706709  \n",
       "4        0.000000      26000    0.000000  "
      ]
     },
     "execution_count": 28,
     "metadata": {},
     "output_type": "execute_result"
    }
   ],
   "source": [
    "from numpy import inf\n",
    "\n",
    "hon_parcel['value/sf'] = hon_parcel['net_value']/(hon_parcel['tot_area_acres']*43560)\n",
    "\n",
    "hon_parcel['value/sf'][hon_parcel['value/sf'] == inf] = 0\n",
    "\n",
    "hon_parcel.head()"
   ]
  },
  {
   "cell_type": "code",
   "execution_count": 29,
   "metadata": {},
   "outputs": [
    {
     "name": "stderr",
     "output_type": "stream",
     "text": [
      "/Library/Frameworks/Python.framework/Versions/3.7/lib/python3.7/site-packages/ipykernel_launcher.py:3: SettingWithCopyWarning:\n",
      "\n",
      "\n",
      "A value is trying to be set on a copy of a slice from a DataFrame\n",
      "\n",
      "See the caveats in the documentation: https://pandas.pydata.org/pandas-docs/stable/user_guide/indexing.html#returning-a-view-versus-a-copy\n",
      "\n"
     ]
    },
    {
     "data": {
      "text/html": [
       "<div>\n",
       "<style scoped>\n",
       "    .dataframe tbody tr th:only-of-type {\n",
       "        vertical-align: middle;\n",
       "    }\n",
       "\n",
       "    .dataframe tbody tr th {\n",
       "        vertical-align: top;\n",
       "    }\n",
       "\n",
       "    .dataframe thead th {\n",
       "        text-align: right;\n",
       "    }\n",
       "</style>\n",
       "<table border=\"1\" class=\"dataframe\">\n",
       "  <thead>\n",
       "    <tr style=\"text-align: right;\">\n",
       "      <th></th>\n",
       "      <th>PARID</th>\n",
       "      <th>TAXBILLOWNER</th>\n",
       "      <th>TAXBILLCITY</th>\n",
       "      <th>TAXBILLSTATE</th>\n",
       "      <th>TAXBILLCOUNTRY</th>\n",
       "      <th>TAXBILLZIP5</th>\n",
       "      <th>TAXBILLZIP4</th>\n",
       "      <th>BUILDINGVALUE</th>\n",
       "      <th>BUILDINGEXEMPTION</th>\n",
       "      <th>LANDVALUE</th>\n",
       "      <th>LANDEXEMPTION</th>\n",
       "      <th>TNETTAXVAL</th>\n",
       "      <th>UNITNO</th>\n",
       "      <th>TOTACRES</th>\n",
       "      <th>TOTSQFT</th>\n",
       "      <th>tot_area_acres</th>\n",
       "      <th>net_value</th>\n",
       "      <th>value/sf</th>\n",
       "      <th>land_value/sf</th>\n",
       "    </tr>\n",
       "  </thead>\n",
       "  <tbody>\n",
       "    <tr>\n",
       "      <th>0</th>\n",
       "      <td>360140040000</td>\n",
       "      <td>YOUNG,ROYDEN S H</td>\n",
       "      <td>HONOLULU</td>\n",
       "      <td>HI</td>\n",
       "      <td>NaN</td>\n",
       "      <td>96821.0</td>\n",
       "      <td>NaN</td>\n",
       "      <td>35100</td>\n",
       "      <td>35100</td>\n",
       "      <td>862900</td>\n",
       "      <td>64900</td>\n",
       "      <td>798000</td>\n",
       "      <td>0</td>\n",
       "      <td>0.0</td>\n",
       "      <td>7506</td>\n",
       "      <td>0.172314</td>\n",
       "      <td>898000</td>\n",
       "      <td>119.637623</td>\n",
       "      <td>114.961364</td>\n",
       "    </tr>\n",
       "    <tr>\n",
       "      <th>1</th>\n",
       "      <td>360140050000</td>\n",
       "      <td>CHIN,YVONNE L P TR</td>\n",
       "      <td>HONOLULU</td>\n",
       "      <td>HI</td>\n",
       "      <td>NaN</td>\n",
       "      <td>96821.0</td>\n",
       "      <td>NaN</td>\n",
       "      <td>81200</td>\n",
       "      <td>81200</td>\n",
       "      <td>863000</td>\n",
       "      <td>58800</td>\n",
       "      <td>804200</td>\n",
       "      <td>0</td>\n",
       "      <td>0.0</td>\n",
       "      <td>7508</td>\n",
       "      <td>0.172360</td>\n",
       "      <td>944200</td>\n",
       "      <td>125.759190</td>\n",
       "      <td>114.944060</td>\n",
       "    </tr>\n",
       "    <tr>\n",
       "      <th>2</th>\n",
       "      <td>360140060000</td>\n",
       "      <td>HAWAIIAN ELECTRIC CO INC</td>\n",
       "      <td>HONOLULU</td>\n",
       "      <td>HI</td>\n",
       "      <td>NaN</td>\n",
       "      <td>96840.0</td>\n",
       "      <td>NaN</td>\n",
       "      <td>0</td>\n",
       "      <td>0</td>\n",
       "      <td>100</td>\n",
       "      <td>100</td>\n",
       "      <td>0</td>\n",
       "      <td>0</td>\n",
       "      <td>0.0</td>\n",
       "      <td>36</td>\n",
       "      <td>0.000826</td>\n",
       "      <td>100</td>\n",
       "      <td>2.777778</td>\n",
       "      <td>2.777778</td>\n",
       "    </tr>\n",
       "    <tr>\n",
       "      <th>3</th>\n",
       "      <td>330610860000</td>\n",
       "      <td>SVW TRUST</td>\n",
       "      <td>BEVERLY HILLS</td>\n",
       "      <td>CA</td>\n",
       "      <td>NaN</td>\n",
       "      <td>90210.0</td>\n",
       "      <td>NaN</td>\n",
       "      <td>245500</td>\n",
       "      <td>0</td>\n",
       "      <td>1030900</td>\n",
       "      <td>0</td>\n",
       "      <td>1276400</td>\n",
       "      <td>0</td>\n",
       "      <td>0.0</td>\n",
       "      <td>6693</td>\n",
       "      <td>0.153650</td>\n",
       "      <td>1276400</td>\n",
       "      <td>190.706709</td>\n",
       "      <td>154.026595</td>\n",
       "    </tr>\n",
       "    <tr>\n",
       "      <th>4</th>\n",
       "      <td>230100281031</td>\n",
       "      <td>KC RAINBOW DEV CO LLC</td>\n",
       "      <td>CUPERTINO</td>\n",
       "      <td>CA</td>\n",
       "      <td>NaN</td>\n",
       "      <td>95014.0</td>\n",
       "      <td>NaN</td>\n",
       "      <td>25000</td>\n",
       "      <td>0</td>\n",
       "      <td>1000</td>\n",
       "      <td>0</td>\n",
       "      <td>26000</td>\n",
       "      <td>PA-3001</td>\n",
       "      <td>0.0</td>\n",
       "      <td>0</td>\n",
       "      <td>0.000000</td>\n",
       "      <td>26000</td>\n",
       "      <td>0.000000</td>\n",
       "      <td>0.000000</td>\n",
       "    </tr>\n",
       "    <tr>\n",
       "      <th>...</th>\n",
       "      <td>...</td>\n",
       "      <td>...</td>\n",
       "      <td>...</td>\n",
       "      <td>...</td>\n",
       "      <td>...</td>\n",
       "      <td>...</td>\n",
       "      <td>...</td>\n",
       "      <td>...</td>\n",
       "      <td>...</td>\n",
       "      <td>...</td>\n",
       "      <td>...</td>\n",
       "      <td>...</td>\n",
       "      <td>...</td>\n",
       "      <td>...</td>\n",
       "      <td>...</td>\n",
       "      <td>...</td>\n",
       "      <td>...</td>\n",
       "      <td>...</td>\n",
       "      <td>...</td>\n",
       "    </tr>\n",
       "    <tr>\n",
       "      <th>311133</th>\n",
       "      <td>940980310000</td>\n",
       "      <td>OUCHI,DENNIS K GEN TRSF TRUST</td>\n",
       "      <td>NaN</td>\n",
       "      <td>NaN</td>\n",
       "      <td>NaN</td>\n",
       "      <td>NaN</td>\n",
       "      <td>NaN</td>\n",
       "      <td>256900</td>\n",
       "      <td>140000</td>\n",
       "      <td>572600</td>\n",
       "      <td>0</td>\n",
       "      <td>689500</td>\n",
       "      <td>0</td>\n",
       "      <td>0.0</td>\n",
       "      <td>7021</td>\n",
       "      <td>0.161180</td>\n",
       "      <td>829500</td>\n",
       "      <td>118.145563</td>\n",
       "      <td>81.555334</td>\n",
       "    </tr>\n",
       "    <tr>\n",
       "      <th>311134</th>\n",
       "      <td>940070830021</td>\n",
       "      <td>TANIMOTO,DAVID J</td>\n",
       "      <td>WAIPAHU</td>\n",
       "      <td>HI</td>\n",
       "      <td>NaN</td>\n",
       "      <td>96797.0</td>\n",
       "      <td>NaN</td>\n",
       "      <td>189500</td>\n",
       "      <td>140000</td>\n",
       "      <td>310100</td>\n",
       "      <td>0</td>\n",
       "      <td>359600</td>\n",
       "      <td>LL/201</td>\n",
       "      <td>0.0</td>\n",
       "      <td>0</td>\n",
       "      <td>0.000000</td>\n",
       "      <td>499600</td>\n",
       "      <td>0.000000</td>\n",
       "      <td>0.000000</td>\n",
       "    </tr>\n",
       "    <tr>\n",
       "      <th>311135</th>\n",
       "      <td>670170240000</td>\n",
       "      <td>SATO,LYDIA L TRUST</td>\n",
       "      <td>WAIALUA</td>\n",
       "      <td>HI</td>\n",
       "      <td>NaN</td>\n",
       "      <td>96791.0</td>\n",
       "      <td>NaN</td>\n",
       "      <td>192900</td>\n",
       "      <td>140000</td>\n",
       "      <td>569200</td>\n",
       "      <td>0</td>\n",
       "      <td>622100</td>\n",
       "      <td>0</td>\n",
       "      <td>0.0</td>\n",
       "      <td>7766</td>\n",
       "      <td>0.178283</td>\n",
       "      <td>762100</td>\n",
       "      <td>98.132887</td>\n",
       "      <td>73.293845</td>\n",
       "    </tr>\n",
       "    <tr>\n",
       "      <th>311136</th>\n",
       "      <td>670170250000</td>\n",
       "      <td>TAKARA,2004 TRUST</td>\n",
       "      <td>NaN</td>\n",
       "      <td>NaN</td>\n",
       "      <td>NaN</td>\n",
       "      <td>NaN</td>\n",
       "      <td>NaN</td>\n",
       "      <td>212300</td>\n",
       "      <td>140000</td>\n",
       "      <td>567800</td>\n",
       "      <td>0</td>\n",
       "      <td>640100</td>\n",
       "      <td>0</td>\n",
       "      <td>0.0</td>\n",
       "      <td>7713</td>\n",
       "      <td>0.177066</td>\n",
       "      <td>780100</td>\n",
       "      <td>101.140931</td>\n",
       "      <td>73.615973</td>\n",
       "    </tr>\n",
       "    <tr>\n",
       "      <th>311137</th>\n",
       "      <td>670170260000</td>\n",
       "      <td>KURAOKA,LYLE M</td>\n",
       "      <td>WAIALUA</td>\n",
       "      <td>HI</td>\n",
       "      <td>NaN</td>\n",
       "      <td>96791.0</td>\n",
       "      <td>0216</td>\n",
       "      <td>292000</td>\n",
       "      <td>100000</td>\n",
       "      <td>570700</td>\n",
       "      <td>0</td>\n",
       "      <td>762700</td>\n",
       "      <td>0</td>\n",
       "      <td>0.0</td>\n",
       "      <td>7828</td>\n",
       "      <td>0.179706</td>\n",
       "      <td>862700</td>\n",
       "      <td>110.206949</td>\n",
       "      <td>72.904957</td>\n",
       "    </tr>\n",
       "  </tbody>\n",
       "</table>\n",
       "<p>311138 rows × 19 columns</p>\n",
       "</div>"
      ],
      "text/plain": [
       "               PARID                   TAXBILLOWNER    TAXBILLCITY  \\\n",
       "0       360140040000               YOUNG,ROYDEN S H       HONOLULU   \n",
       "1       360140050000             CHIN,YVONNE L P TR       HONOLULU   \n",
       "2       360140060000       HAWAIIAN ELECTRIC CO INC       HONOLULU   \n",
       "3       330610860000                      SVW TRUST  BEVERLY HILLS   \n",
       "4       230100281031          KC RAINBOW DEV CO LLC      CUPERTINO   \n",
       "...              ...                            ...            ...   \n",
       "311133  940980310000  OUCHI,DENNIS K GEN TRSF TRUST            NaN   \n",
       "311134  940070830021               TANIMOTO,DAVID J        WAIPAHU   \n",
       "311135  670170240000             SATO,LYDIA L TRUST        WAIALUA   \n",
       "311136  670170250000              TAKARA,2004 TRUST            NaN   \n",
       "311137  670170260000                 KURAOKA,LYLE M        WAIALUA   \n",
       "\n",
       "       TAXBILLSTATE TAXBILLCOUNTRY  TAXBILLZIP5 TAXBILLZIP4  BUILDINGVALUE  \\\n",
       "0                HI            NaN      96821.0         NaN          35100   \n",
       "1                HI            NaN      96821.0         NaN          81200   \n",
       "2                HI            NaN      96840.0         NaN              0   \n",
       "3                CA            NaN      90210.0         NaN         245500   \n",
       "4                CA            NaN      95014.0         NaN          25000   \n",
       "...             ...            ...          ...         ...            ...   \n",
       "311133          NaN            NaN          NaN         NaN         256900   \n",
       "311134           HI            NaN      96797.0         NaN         189500   \n",
       "311135           HI            NaN      96791.0         NaN         192900   \n",
       "311136          NaN            NaN          NaN         NaN         212300   \n",
       "311137           HI            NaN      96791.0        0216         292000   \n",
       "\n",
       "        BUILDINGEXEMPTION  LANDVALUE  LANDEXEMPTION  TNETTAXVAL   UNITNO  \\\n",
       "0                   35100     862900          64900      798000        0   \n",
       "1                   81200     863000          58800      804200        0   \n",
       "2                       0        100            100           0        0   \n",
       "3                       0    1030900              0     1276400        0   \n",
       "4                       0       1000              0       26000  PA-3001   \n",
       "...                   ...        ...            ...         ...      ...   \n",
       "311133             140000     572600              0      689500        0   \n",
       "311134             140000     310100              0      359600   LL/201   \n",
       "311135             140000     569200              0      622100        0   \n",
       "311136             140000     567800              0      640100        0   \n",
       "311137             100000     570700              0      762700        0   \n",
       "\n",
       "        TOTACRES  TOTSQFT  tot_area_acres  net_value    value/sf  \\\n",
       "0            0.0     7506        0.172314     898000  119.637623   \n",
       "1            0.0     7508        0.172360     944200  125.759190   \n",
       "2            0.0       36        0.000826        100    2.777778   \n",
       "3            0.0     6693        0.153650    1276400  190.706709   \n",
       "4            0.0        0        0.000000      26000    0.000000   \n",
       "...          ...      ...             ...        ...         ...   \n",
       "311133       0.0     7021        0.161180     829500  118.145563   \n",
       "311134       0.0        0        0.000000     499600    0.000000   \n",
       "311135       0.0     7766        0.178283     762100   98.132887   \n",
       "311136       0.0     7713        0.177066     780100  101.140931   \n",
       "311137       0.0     7828        0.179706     862700  110.206949   \n",
       "\n",
       "        land_value/sf  \n",
       "0          114.961364  \n",
       "1          114.944060  \n",
       "2            2.777778  \n",
       "3          154.026595  \n",
       "4            0.000000  \n",
       "...               ...  \n",
       "311133      81.555334  \n",
       "311134       0.000000  \n",
       "311135      73.293845  \n",
       "311136      73.615973  \n",
       "311137      72.904957  \n",
       "\n",
       "[311138 rows x 19 columns]"
      ]
     },
     "execution_count": 29,
     "metadata": {},
     "output_type": "execute_result"
    }
   ],
   "source": [
    "hon_parcel['land_value/sf'] = hon_parcel['LANDVALUE']/(hon_parcel['tot_area_acres']*43560)\n",
    "\n",
    "hon_parcel['land_value/sf'][hon_parcel['land_value/sf'] == inf] = 0\n",
    "\n",
    "hon_parcel"
   ]
  },
  {
   "cell_type": "code",
   "execution_count": 30,
   "metadata": {},
   "outputs": [
    {
     "data": {
      "text/plain": [
       "0         114.961364\n",
       "1         114.944060\n",
       "2           2.777778\n",
       "3         154.026595\n",
       "4           0.000000\n",
       "             ...    \n",
       "311133     81.555334\n",
       "311134      0.000000\n",
       "311135     73.293845\n",
       "311136     73.615973\n",
       "311137     72.904957\n",
       "Name: land_value/sf, Length: 311138, dtype: float64"
      ]
     },
     "execution_count": 30,
     "metadata": {},
     "output_type": "execute_result"
    }
   ],
   "source": [
    "land_value_sf = hon_parcel['land_value/sf']\n",
    "\n",
    "land_value_sf"
   ]
  },
  {
   "cell_type": "code",
   "execution_count": 31,
   "metadata": {},
   "outputs": [
    {
     "data": {
      "image/png": "[encoded data removed]",
      "text/plain": [
       "<Figure size 432x288 with 1 Axes>"
      ]
     },
     "metadata": {},
     "output_type": "display_data"
    }
   ],
   "source": [
    "fig, ax = plt.subplots()\n",
    "\n",
    "ax.hist(land_value_sf, bins=50, range=(.00001,1000))\n",
    "\n",
    "plt.show()"
   ]
  },
  {
   "cell_type": "code",
   "execution_count": 32,
   "metadata": {},
   "outputs": [
    {
     "name": "stdout",
     "output_type": "stream",
     "text": [
      "0.6970279598214439\n",
      "57.84393637007378\n",
      "50.8394615340594\n"
     ]
    }
   ],
   "source": [
    "\n",
    "\n",
    "dole_mean_valsf = hon_parcel['land_value/sf'][hon_parcel['TAXBILLOWNER'] == 'DOLE FOOD CO INC'].mean()\n",
    "bishop_mean_valsf = hon_parcel['land_value/sf'][hon_parcel['TAXBILLOWNER'] == 'B P BISHOP TRUST ESTATE'].mean()\n",
    "HHL_mean_valsf = hon_parcel['land_value/sf'][hon_parcel['TAXBILLOWNER'] == 'HAWAIIAN HOME LANDS'].mean()\n",
    "\n",
    "print(dole_mean_valsf)\n",
    "print(bishop_mean_valsf)\n",
    "print(HHL_mean_valsf)"
   ]
  },
  {
   "cell_type": "markdown",
   "metadata": {},
   "source": [
    "__I know from experience that Dole lands are all agricultural, Bishop Estates has a mixture of mostly business and industrial, and Hawaiian Homes is mostly residentatial. Looking at the mean values of each you can see that aggricultural land is worth about 3 quarters per SF, while idustrial and residential are around 75$ per FS__\n",
    "\n",
    "__Also, looking at the histogram, the average value of a parcel of land is about 150$/sqft__"
   ]
  },
  {
   "cell_type": "code",
   "execution_count": 33,
   "metadata": {},
   "outputs": [
    {
     "data": {
      "text/html": [
       "<div>\n",
       "<style scoped>\n",
       "    .dataframe tbody tr th:only-of-type {\n",
       "        vertical-align: middle;\n",
       "    }\n",
       "\n",
       "    .dataframe tbody tr th {\n",
       "        vertical-align: top;\n",
       "    }\n",
       "\n",
       "    .dataframe thead th {\n",
       "        text-align: right;\n",
       "    }\n",
       "</style>\n",
       "<table border=\"1\" class=\"dataframe\">\n",
       "  <thead>\n",
       "    <tr style=\"text-align: right;\">\n",
       "      <th></th>\n",
       "      <th>land_value/sf</th>\n",
       "    </tr>\n",
       "    <tr>\n",
       "      <th>TAXBILLOWNER</th>\n",
       "      <th></th>\n",
       "    </tr>\n",
       "  </thead>\n",
       "  <tbody>\n",
       "    <tr>\n",
       "      <th>ATVIC CO.,LTD.</th>\n",
       "      <td>93100.000000</td>\n",
       "    </tr>\n",
       "    <tr>\n",
       "      <th>TRUMP INTL HTL &amp; TWR AT WAIKIKI BCH WALK</th>\n",
       "      <td>5850.000000</td>\n",
       "    </tr>\n",
       "    <tr>\n",
       "      <th>JAMES,FRANK L ESTATE</th>\n",
       "      <td>4327.777778</td>\n",
       "    </tr>\n",
       "    <tr>\n",
       "      <th>KYO-YA HOTELS &amp; RESORTS LP</th>\n",
       "      <td>2826.648571</td>\n",
       "    </tr>\n",
       "    <tr>\n",
       "      <th>BEA INVESTMENTS LLC</th>\n",
       "      <td>2700.000000</td>\n",
       "    </tr>\n",
       "  </tbody>\n",
       "</table>\n",
       "</div>"
      ],
      "text/plain": [
       "                                          land_value/sf\n",
       "TAXBILLOWNER                                           \n",
       "ATVIC CO.,LTD.                             93100.000000\n",
       "TRUMP INTL HTL & TWR AT WAIKIKI BCH WALK    5850.000000\n",
       "JAMES,FRANK L ESTATE                        4327.777778\n",
       "KYO-YA HOTELS & RESORTS LP                  2826.648571\n",
       "BEA INVESTMENTS LLC                         2700.000000"
      ]
     },
     "execution_count": 33,
     "metadata": {},
     "output_type": "execute_result"
    }
   ],
   "source": [
    "# lets see who's land is worth the most.\n",
    "\n",
    "valsf_by_owner = hon_parcel.groupby(['TAXBILLOWNER'])['land_value/sf'].mean()\n",
    "\n",
    "valsf_by_owner = pd.DataFrame(valsf_by_owner).sort_values('land_value/sf', ascending=False)\n",
    "\n",
    "valsf_by_owner.head()"
   ]
  },
  {
   "cell_type": "code",
   "execution_count": 34,
   "metadata": {},
   "outputs": [
    {
     "data": {
      "text/html": [
       "<div>\n",
       "<style scoped>\n",
       "    .dataframe tbody tr th:only-of-type {\n",
       "        vertical-align: middle;\n",
       "    }\n",
       "\n",
       "    .dataframe tbody tr th {\n",
       "        vertical-align: top;\n",
       "    }\n",
       "\n",
       "    .dataframe thead th {\n",
       "        text-align: right;\n",
       "    }\n",
       "</style>\n",
       "<table border=\"1\" class=\"dataframe\">\n",
       "  <thead>\n",
       "    <tr style=\"text-align: right;\">\n",
       "      <th></th>\n",
       "      <th>PARID</th>\n",
       "      <th>TAXBILLOWNER</th>\n",
       "      <th>TAXBILLCITY</th>\n",
       "      <th>TAXBILLSTATE</th>\n",
       "      <th>TAXBILLCOUNTRY</th>\n",
       "      <th>TAXBILLZIP5</th>\n",
       "      <th>TAXBILLZIP4</th>\n",
       "      <th>BUILDINGVALUE</th>\n",
       "      <th>BUILDINGEXEMPTION</th>\n",
       "      <th>LANDVALUE</th>\n",
       "      <th>LANDEXEMPTION</th>\n",
       "      <th>TNETTAXVAL</th>\n",
       "      <th>UNITNO</th>\n",
       "      <th>TOTACRES</th>\n",
       "      <th>TOTSQFT</th>\n",
       "      <th>tot_area_acres</th>\n",
       "      <th>net_value</th>\n",
       "      <th>value/sf</th>\n",
       "      <th>land_value/sf</th>\n",
       "      <th>owner_country</th>\n",
       "    </tr>\n",
       "  </thead>\n",
       "  <tbody>\n",
       "    <tr>\n",
       "      <th>0</th>\n",
       "      <td>360140040000</td>\n",
       "      <td>YOUNG,ROYDEN S H</td>\n",
       "      <td>HONOLULU</td>\n",
       "      <td>HI</td>\n",
       "      <td>NaN</td>\n",
       "      <td>96821.0</td>\n",
       "      <td>NaN</td>\n",
       "      <td>35100</td>\n",
       "      <td>35100</td>\n",
       "      <td>862900</td>\n",
       "      <td>64900</td>\n",
       "      <td>798000</td>\n",
       "      <td>0</td>\n",
       "      <td>0.0</td>\n",
       "      <td>7506</td>\n",
       "      <td>0.172314</td>\n",
       "      <td>898000</td>\n",
       "      <td>119.637623</td>\n",
       "      <td>114.961364</td>\n",
       "      <td>HAWAII</td>\n",
       "    </tr>\n",
       "    <tr>\n",
       "      <th>1</th>\n",
       "      <td>360140050000</td>\n",
       "      <td>CHIN,YVONNE L P TR</td>\n",
       "      <td>HONOLULU</td>\n",
       "      <td>HI</td>\n",
       "      <td>NaN</td>\n",
       "      <td>96821.0</td>\n",
       "      <td>NaN</td>\n",
       "      <td>81200</td>\n",
       "      <td>81200</td>\n",
       "      <td>863000</td>\n",
       "      <td>58800</td>\n",
       "      <td>804200</td>\n",
       "      <td>0</td>\n",
       "      <td>0.0</td>\n",
       "      <td>7508</td>\n",
       "      <td>0.172360</td>\n",
       "      <td>944200</td>\n",
       "      <td>125.759190</td>\n",
       "      <td>114.944060</td>\n",
       "      <td>HAWAII</td>\n",
       "    </tr>\n",
       "    <tr>\n",
       "      <th>2</th>\n",
       "      <td>360140060000</td>\n",
       "      <td>HAWAIIAN ELECTRIC CO INC</td>\n",
       "      <td>HONOLULU</td>\n",
       "      <td>HI</td>\n",
       "      <td>NaN</td>\n",
       "      <td>96840.0</td>\n",
       "      <td>NaN</td>\n",
       "      <td>0</td>\n",
       "      <td>0</td>\n",
       "      <td>100</td>\n",
       "      <td>100</td>\n",
       "      <td>0</td>\n",
       "      <td>0</td>\n",
       "      <td>0.0</td>\n",
       "      <td>36</td>\n",
       "      <td>0.000826</td>\n",
       "      <td>100</td>\n",
       "      <td>2.777778</td>\n",
       "      <td>2.777778</td>\n",
       "      <td>HAWAII</td>\n",
       "    </tr>\n",
       "    <tr>\n",
       "      <th>3</th>\n",
       "      <td>330610860000</td>\n",
       "      <td>SVW TRUST</td>\n",
       "      <td>BEVERLY HILLS</td>\n",
       "      <td>CA</td>\n",
       "      <td>NaN</td>\n",
       "      <td>90210.0</td>\n",
       "      <td>NaN</td>\n",
       "      <td>245500</td>\n",
       "      <td>0</td>\n",
       "      <td>1030900</td>\n",
       "      <td>0</td>\n",
       "      <td>1276400</td>\n",
       "      <td>0</td>\n",
       "      <td>0.0</td>\n",
       "      <td>6693</td>\n",
       "      <td>0.153650</td>\n",
       "      <td>1276400</td>\n",
       "      <td>190.706709</td>\n",
       "      <td>154.026595</td>\n",
       "      <td>US MAINLAND</td>\n",
       "    </tr>\n",
       "    <tr>\n",
       "      <th>4</th>\n",
       "      <td>230100281031</td>\n",
       "      <td>KC RAINBOW DEV CO LLC</td>\n",
       "      <td>CUPERTINO</td>\n",
       "      <td>CA</td>\n",
       "      <td>NaN</td>\n",
       "      <td>95014.0</td>\n",
       "      <td>NaN</td>\n",
       "      <td>25000</td>\n",
       "      <td>0</td>\n",
       "      <td>1000</td>\n",
       "      <td>0</td>\n",
       "      <td>26000</td>\n",
       "      <td>PA-3001</td>\n",
       "      <td>0.0</td>\n",
       "      <td>0</td>\n",
       "      <td>0.000000</td>\n",
       "      <td>26000</td>\n",
       "      <td>0.000000</td>\n",
       "      <td>0.000000</td>\n",
       "      <td>US MAINLAND</td>\n",
       "    </tr>\n",
       "  </tbody>\n",
       "</table>\n",
       "</div>"
      ],
      "text/plain": [
       "          PARID              TAXBILLOWNER    TAXBILLCITY TAXBILLSTATE  \\\n",
       "0  360140040000          YOUNG,ROYDEN S H       HONOLULU           HI   \n",
       "1  360140050000        CHIN,YVONNE L P TR       HONOLULU           HI   \n",
       "2  360140060000  HAWAIIAN ELECTRIC CO INC       HONOLULU           HI   \n",
       "3  330610860000                 SVW TRUST  BEVERLY HILLS           CA   \n",
       "4  230100281031     KC RAINBOW DEV CO LLC      CUPERTINO           CA   \n",
       "\n",
       "  TAXBILLCOUNTRY  TAXBILLZIP5 TAXBILLZIP4  BUILDINGVALUE  BUILDINGEXEMPTION  \\\n",
       "0            NaN      96821.0         NaN          35100              35100   \n",
       "1            NaN      96821.0         NaN          81200              81200   \n",
       "2            NaN      96840.0         NaN              0                  0   \n",
       "3            NaN      90210.0         NaN         245500                  0   \n",
       "4            NaN      95014.0         NaN          25000                  0   \n",
       "\n",
       "   LANDVALUE  LANDEXEMPTION  TNETTAXVAL   UNITNO  TOTACRES  TOTSQFT  \\\n",
       "0     862900          64900      798000        0       0.0     7506   \n",
       "1     863000          58800      804200        0       0.0     7508   \n",
       "2        100            100           0        0       0.0       36   \n",
       "3    1030900              0     1276400        0       0.0     6693   \n",
       "4       1000              0       26000  PA-3001       0.0        0   \n",
       "\n",
       "   tot_area_acres  net_value    value/sf  land_value/sf owner_country  \n",
       "0        0.172314     898000  119.637623     114.961364        HAWAII  \n",
       "1        0.172360     944200  125.759190     114.944060        HAWAII  \n",
       "2        0.000826        100    2.777778       2.777778        HAWAII  \n",
       "3        0.153650    1276400  190.706709     154.026595   US MAINLAND  \n",
       "4        0.000000      26000    0.000000       0.000000   US MAINLAND  "
      ]
     },
     "execution_count": 34,
     "metadata": {},
     "output_type": "execute_result"
    }
   ],
   "source": [
    "hon_parcel['owner_country'] = ['HAWAII' if x == 'HI' else 'US MAINLAND' if pd.isnull(x) == False else x for x in hon_parcel['TAXBILLSTATE']]\n",
    "\n",
    "hon_parcel['owner_country'] = np.where(pd.isnull(hon_parcel['TAXBILLCOUNTRY']) == False,\n",
    "                                       hon_parcel['TAXBILLCOUNTRY'],hon_parcel['owner_country'])\n",
    "\n",
    "hon_parcel.head()"
   ]
  },
  {
   "cell_type": "code",
   "execution_count": 35,
   "metadata": {},
   "outputs": [
    {
     "data": {
      "text/plain": [
       "array(['HAWAII', 'US MAINLAND', nan, 'CANADA', 'JAPAN', 'CHINA', 'KOREA',\n",
       "       'SOUTH KOREA', 'NEW ZEALAND', 'HONG KONG', 'GERMANY', 'AUSTRALIA',\n",
       "       'NZ', 'HONG KONG SAR', 'TAIWAN', 'FRENCH POLYNESIA', 'SINGAPORE',\n",
       "       'PHILIPPINES', 'TAIPEI, TAIWAN', 'UNITED KINGDOM', 'SWITZERLAND',\n",
       "       'FINLAND', 'ENGLAND', 'ISRAEL', 'INDONESIA', 'AUSTRIA', 'HONGKONG',\n",
       "       'S KOREA', 'THAILAND', 'TAIWAN R O C', 'TAIWAN(R.O.C.)', 'SWEDEN',\n",
       "       'GUAM', 'REPUBLIC OF KOREA', 'SEOUL, KOREA', 'EGYPT',\n",
       "       'PHILLIPINES', 'FRENCH REPUBLIC', '106-0031', 'UAE', 'SAIPAN',\n",
       "       'EUROPE', 'MACAU SAR', 'REP OF SINGAPORE', 'JAPAN  162-0843',\n",
       "       'ARGENTINA', 'P R CHINA', 'MALAYSIA', 'SEOUL KOREA', 'BELGIUM',\n",
       "       'SPAIN', 'CYPRUS', 'BRAZIL', 'FUKUOKA  JAPAN', 'FRANCE',\n",
       "       'AMERICAN SAMOA', 'OTTAWA', 'CHANNEL ISLANDS', 'SHANGHAI, CHINA',\n",
       "       'WESTERN AUSTRALIA', 'IRELAND', 'CANDA', 'REPUBLIC OF SINGAPORE',\n",
       "       'QATAR', 'TOKYO, JAPAN', 'VIETNAM', 'NORWAY', 'UK',\n",
       "       'JAPAN 221-0052', 'TOKYO,JAPAN', 'TOKYO 106-0046 JAPAN',\n",
       "       'FIJI ISLANDS', 'DENMARK', 'SLOVENIA, REPUBLIC', 'TAIWAN R.O.C.',\n",
       "       'JAMAICA', 'SAIPAN MP'], dtype=object)"
      ]
     },
     "execution_count": 35,
     "metadata": {},
     "output_type": "execute_result"
    }
   ],
   "source": [
    "hon_parcel['owner_country'].unique()"
   ]
  },
  {
   "cell_type": "code",
   "execution_count": 36,
   "metadata": {},
   "outputs": [],
   "source": [
    "#clean data in the owner_state/coutry column so the values are constistent\n",
    "\n",
    "hon_parcel['owner_country'] = hon_parcel['owner_country'].replace({'HONG KONG SAR':'HONG KONG', 'TAIPEI, TAIWAN': 'TAIWAN', \n",
    "                                                                  'S KOREA': 'SOUTH KOREA', 'TAIWAN R O C': 'TAIWAN',\n",
    "                                                                   'TAIWAN(R.O.C.)': 'TAIWAN', 'REPUBLIC OF KOREA': 'SOUTH KOREA',\n",
    "                                                                   'SEOUL, KOREA': 'SOUTH KOREA', 'FRENCH REPUBLIC': 'FRANCE',\n",
    "                                                                   '106-0031': 'JAPAN', 'MACAU SAR':'CHINA',\n",
    "                                                                   'REP OF SINGAPORE': 'SINGAPORE', 'JAPAN  162-0843':'JAPAN',\n",
    "                                                                   'P R CHINA':'CHINA', 'WESTERN AUSTRALIA': 'AUSTRALIA',\n",
    "                                                                   'CANDA':'CANADA', 'REPUBLIC OF SINGAPORE':'SINGAPORE',\n",
    "                                                                   'TOKYO, JAPAN':'JAPAN', 'JAPAN 221-0052':'JAPAN',\n",
    "                                                                   'TOKYO,JAPAN':'JAPAN', 'TOKYO 106-0046 JAPAN':'JAPAN',\n",
    "                                                                   'SEOUL KOREA': 'SOUTH KOREA', 'FUKUOKA  JAPAN':'JAPAN',\n",
    "                                                                   'OTTAWA':'CANADA', 'FM': 'FEDERATED STATES OF MICRONESIA',\n",
    "                                                                   'SHANGHAI, CHINA': 'CHINA', 'UK': 'UNITED KINGDOM',\n",
    "                                                                   'United Arab Emirates':'UAE', 'PW': 'PALAU', 'RL': 'LEBANON',\n",
    "                                                                   'SLOVENIA, REPUBLIC': 'SLOVENIA', 'TAIWAN R.O.C.': 'TAIWAN',\n",
    "                                                                   'SAIPAN MP':'SAIPAN', 'VV': 'VIETNAM', 'KOREA':'SOUTH KOREA',\n",
    "                                                                  '96': 'HI', 'HONGKONG':'HONG KONG', 'PHILLIPINES': 'PHILIPPINES',\n",
    "                                                                  'NZ': 'NEW ZEALAND'})"
   ]
  },
  {
   "cell_type": "code",
   "execution_count": 37,
   "metadata": {},
   "outputs": [
    {
     "data": {
      "text/plain": [
       "array(['HAWAII', 'US MAINLAND', nan, 'CANADA', 'JAPAN', 'CHINA',\n",
       "       'SOUTH KOREA', 'NEW ZEALAND', 'HONG KONG', 'GERMANY', 'AUSTRALIA',\n",
       "       'TAIWAN', 'FRENCH POLYNESIA', 'SINGAPORE', 'PHILIPPINES',\n",
       "       'UNITED KINGDOM', 'SWITZERLAND', 'FINLAND', 'ENGLAND', 'ISRAEL',\n",
       "       'INDONESIA', 'AUSTRIA', 'THAILAND', 'SWEDEN', 'GUAM', 'EGYPT',\n",
       "       'FRANCE', 'UAE', 'SAIPAN', 'EUROPE', 'ARGENTINA', 'MALAYSIA',\n",
       "       'BELGIUM', 'SPAIN', 'CYPRUS', 'BRAZIL', 'AMERICAN SAMOA',\n",
       "       'CHANNEL ISLANDS', 'IRELAND', 'QATAR', 'VIETNAM', 'NORWAY',\n",
       "       'FIJI ISLANDS', 'DENMARK', 'SLOVENIA', 'JAMAICA'], dtype=object)"
      ]
     },
     "execution_count": 37,
     "metadata": {},
     "output_type": "execute_result"
    }
   ],
   "source": [
    "hon_parcel['owner_country'].unique()"
   ]
  },
  {
   "cell_type": "code",
   "execution_count": 38,
   "metadata": {},
   "outputs": [
    {
     "data": {
      "text/plain": [
       "HAWAII              249569\n",
       "US MAINLAND          21996\n",
       "JAPAN                 2100\n",
       "CANADA                 503\n",
       "SOUTH KOREA            106\n",
       "CHINA                   99\n",
       "HONG KONG               66\n",
       "AUSTRALIA               57\n",
       "SINGAPORE               57\n",
       "TAIWAN                  56\n",
       "GERMANY                 32\n",
       "NEW ZEALAND             27\n",
       "PHILIPPINES             18\n",
       "THAILAND                13\n",
       "FRENCH POLYNESIA        12\n",
       "UNITED KINGDOM           9\n",
       "SWEDEN                   7\n",
       "FRANCE                   6\n",
       "MALAYSIA                 6\n",
       "SWITZERLAND              5\n",
       "SAIPAN                   4\n",
       "NORWAY                   4\n",
       "INDONESIA                3\n",
       "ENGLAND                  3\n",
       "IRELAND                  2\n",
       "CHANNEL ISLANDS          2\n",
       "FINLAND                  2\n",
       "AUSTRIA                  2\n",
       "VIETNAM                  2\n",
       "AMERICAN SAMOA           2\n",
       "SPAIN                    2\n",
       "SLOVENIA                 2\n",
       "GUAM                     1\n",
       "FIJI ISLANDS             1\n",
       "CYPRUS                   1\n",
       "ARGENTINA                1\n",
       "EUROPE                   1\n",
       "DENMARK                  1\n",
       "UAE                      1\n",
       "QATAR                    1\n",
       "BRAZIL                   1\n",
       "ISRAEL                   1\n",
       "BELGIUM                  1\n",
       "JAMAICA                  1\n",
       "EGYPT                    1\n",
       "Name: owner_country, dtype: int64"
      ]
     },
     "execution_count": 38,
     "metadata": {},
     "output_type": "execute_result"
    }
   ],
   "source": [
    "hon_parcel['owner_country'].value_counts()"
   ]
  },
  {
   "cell_type": "code",
   "execution_count": 39,
   "metadata": {},
   "outputs": [
    {
     "data": {
      "text/html": [
       "<div>\n",
       "<style scoped>\n",
       "    .dataframe tbody tr th:only-of-type {\n",
       "        vertical-align: middle;\n",
       "    }\n",
       "\n",
       "    .dataframe tbody tr th {\n",
       "        vertical-align: top;\n",
       "    }\n",
       "\n",
       "    .dataframe thead th {\n",
       "        text-align: right;\n",
       "    }\n",
       "</style>\n",
       "<table border=\"1\" class=\"dataframe\">\n",
       "  <thead>\n",
       "    <tr style=\"text-align: right;\">\n",
       "      <th></th>\n",
       "      <th>net_value</th>\n",
       "    </tr>\n",
       "    <tr>\n",
       "      <th>owner_country</th>\n",
       "      <th></th>\n",
       "    </tr>\n",
       "  </thead>\n",
       "  <tbody>\n",
       "    <tr>\n",
       "      <th>AMERICAN SAMOA</th>\n",
       "      <td>7.970000e+05</td>\n",
       "    </tr>\n",
       "    <tr>\n",
       "      <th>ARGENTINA</th>\n",
       "      <td>3.526000e+05</td>\n",
       "    </tr>\n",
       "    <tr>\n",
       "      <th>AUSTRALIA</th>\n",
       "      <td>1.213354e+06</td>\n",
       "    </tr>\n",
       "    <tr>\n",
       "      <th>AUSTRIA</th>\n",
       "      <td>1.007600e+06</td>\n",
       "    </tr>\n",
       "    <tr>\n",
       "      <th>BELGIUM</th>\n",
       "      <td>2.866200e+06</td>\n",
       "    </tr>\n",
       "  </tbody>\n",
       "</table>\n",
       "</div>"
      ],
      "text/plain": [
       "                   net_value\n",
       "owner_country               \n",
       "AMERICAN SAMOA  7.970000e+05\n",
       "ARGENTINA       3.526000e+05\n",
       "AUSTRALIA       1.213354e+06\n",
       "AUSTRIA         1.007600e+06\n",
       "BELGIUM         2.866200e+06"
      ]
     },
     "execution_count": 39,
     "metadata": {},
     "output_type": "execute_result"
    }
   ],
   "source": [
    "mean_value_country = hon_parcel.groupby(['owner_country'])['net_value'].mean()\n",
    "\n",
    "\n",
    "mean_value_country = pd.DataFrame(mean_value_country)\n",
    "\n",
    "mean_value_country.head()"
   ]
  },
  {
   "cell_type": "code",
   "execution_count": 40,
   "metadata": {},
   "outputs": [
    {
     "data": {
      "text/plain": [
       "<AxesSubplot:xlabel='owner_country'>"
      ]
     },
     "execution_count": 40,
     "metadata": {},
     "output_type": "execute_result"
    },
    {
     "data": {
      "image/png": "[encoded data removed]",
      "text/plain": [
       "<Figure size 1728x432 with 1 Axes>"
      ]
     },
     "metadata": {},
     "output_type": "display_data"
    }
   ],
   "source": [
    "mean_value_country.plot(kind='bar', figsize=(24,6))"
   ]
  },
  {
   "cell_type": "markdown",
   "metadata": {},
   "source": [
    "__Now I want to isolate the residential properties, I want to get rid of properties with value/sf < 10 and > .00001 because these are typically residential. I don't want to get rid of properties with 0 value/sf, because these include owners of condos and apartments.__\n",
    "\n",
    "__I also want to get rid of properties with net value over 40 million dollars because these are typically hotels, stores or other  business.(I chose 40 million dollars because after a quick zillow search that was the highest priced lot for sale)__"
   ]
  },
  {
   "cell_type": "code",
   "execution_count": 46,
   "metadata": {},
   "outputs": [],
   "source": [
    "df_0_500k = hon_parcel[(hon_parcel['net_value'] > 0) & (hon_parcel['net_value'] < 500000)]\n",
    "df_500k_750k = hon_parcel[(hon_parcel['net_value'] > 500000) & (hon_parcel['net_value'] < 750000)]\n",
    "df_750k_1m = hon_parcel[(hon_parcel['net_value'] > 750000) & (hon_parcel['net_value'] < 1000000)]\n",
    "df_1m_1p5m = hon_parcel[(hon_parcel['net_value'] > 1000000) & (hon_parcel['net_value'] < 1500000)]\n",
    "df_1p5m_2m = hon_parcel[(hon_parcel['net_value'] > 1500000) & (hon_parcel['net_value'] < 2000000)]\n",
    "df_2m_2p5m = hon_parcel[(hon_parcel['net_value'] > 2000000) & (hon_parcel['net_value'] < 2500000)]\n",
    "df_2p5m_3m = hon_parcel[(hon_parcel['net_value'] > 2500000) & (hon_parcel['net_value'] < 3000000)]\n",
    "df_3m_4m = hon_parcel[(hon_parcel['net_value'] > 3000000) & (hon_parcel['net_value'] < 4000000)]\n",
    "df_4m_6m = hon_parcel[(hon_parcel['net_value'] > 4000000) & (hon_parcel['net_value'] < 6000000)]\n",
    "df_6m_8m = hon_parcel[(hon_parcel['net_value'] > 6000000) & (hon_parcel['net_value'] < 8000000)]\n",
    "df_8m_10m = hon_parcel[(hon_parcel['net_value'] > 8000000) & (hon_parcel['net_value'] < 10000000)]\n",
    "df_10m_15m = hon_parcel[(hon_parcel['net_value'] > 10000000) & (hon_parcel['net_value'] < 15000000)]\n",
    "df_15m_20m = hon_parcel[(hon_parcel['net_value'] > 15000000) & (hon_parcel['net_value'] < 20000000)]\n",
    "df_20m_50m = hon_parcel[(hon_parcel['net_value'] > 20000000) & (hon_parcel['net_value'] < 50000000)]\n",
    "df_50m_100m = hon_parcel[(hon_parcel['net_value'] > 50000000) & (hon_parcel['net_value'] < 100000000)]             \n",
    "df_100m = hon_parcel[(hon_parcel['net_value'] > 10000000)]  \n",
    "df_all = hon_parcel"
   ]
  },
  {
   "cell_type": "code",
   "execution_count": 47,
   "metadata": {},
   "outputs": [],
   "source": [
    "vc_0_500k = pd.DataFrame(df_0_500k['owner_country'].value_counts(normalize=True))\n",
    "vc_500k_750k = pd.DataFrame(df_500k_750k['owner_country'].value_counts(normalize=True))\n",
    "vc_750k_1m = pd.DataFrame(df_750k_1m['owner_country'].value_counts(normalize=True))\n",
    "vc_1m_1p5m = pd.DataFrame(df_1m_1p5m['owner_country'].value_counts(normalize=True))\n",
    "vc_1p5m_2m = pd.DataFrame(df_1p5m_2m['owner_country'].value_counts(normalize=True))\n",
    "vc_2m_2p5m = pd.DataFrame(df_2m_2p5m['owner_country'].value_counts(normalize=True))\n",
    "vc_2p5m_3m = pd.DataFrame(df_2p5m_3m['owner_country'].value_counts(normalize=True))\n",
    "vc_3m_4m = pd.DataFrame(df_3m_4m['owner_country'].value_counts(normalize=True))\n",
    "vc_4m_6m = pd.DataFrame(df_4m_6m['owner_country'].value_counts(normalize=True))\n",
    "vc_6m_8m = pd.DataFrame(df_6m_8m['owner_country'].value_counts(normalize=True))\n",
    "vc_8m_10m  = pd.DataFrame(df_8m_10m ['owner_country'].value_counts(normalize=True))\n",
    "vc_10m_15m = pd.DataFrame(df_10m_15m['owner_country'].value_counts(normalize=True))\n",
    "vc_15m_20m = pd.DataFrame(df_15m_20m['owner_country'].value_counts(normalize=True))\n",
    "vc_20m_50m = pd.DataFrame(df_20m_50m['owner_country'].value_counts(normalize=True))\n",
    "vc_50m_100m = pd.DataFrame(df_50m_100m['owner_country'].value_counts(normalize=True))\n",
    "vc_100m = pd.DataFrame(df_100m['owner_country'].value_counts(normalize=True))\n",
    "vc_all = pd.DataFrame(df_all['owner_country'].value_counts(normalize=True))\n",
    "\n",
    "frames= [vc_all, vc_0_500k, vc_500k_750k, vc_750k_1m, vc_1m_1p5m, vc_1p5m_2m, vc_2m_2p5m, vc_2p5m_3m, \n",
    "         vc_3m_4m, vc_4m_6m, vc_6m_8m, vc_8m_10m, vc_10m_15m, vc_15m_20m, vc_20m_50m, vc_50m_100m, vc_100m]\n"
   ]
  },
  {
   "cell_type": "code",
   "execution_count": 197,
   "metadata": {},
   "outputs": [
    {
     "data": {
      "text/html": [
       "<div>\n",
       "<style scoped>\n",
       "    .dataframe tbody tr th:only-of-type {\n",
       "        vertical-align: middle;\n",
       "    }\n",
       "\n",
       "    .dataframe tbody tr th {\n",
       "        vertical-align: top;\n",
       "    }\n",
       "\n",
       "    .dataframe thead th {\n",
       "        text-align: right;\n",
       "    }\n",
       "</style>\n",
       "<table border=\"1\" class=\"dataframe\">\n",
       "  <thead>\n",
       "    <tr style=\"text-align: right;\">\n",
       "      <th></th>\n",
       "      <th>country</th>\n",
       "      <th>All</th>\n",
       "      <th>0-500k</th>\n",
       "      <th>500k-750k</th>\n",
       "      <th>750k-1M</th>\n",
       "      <th>1M-1.5M</th>\n",
       "      <th>1.5M-2M</th>\n",
       "      <th>2M-2.5M</th>\n",
       "      <th>2.5M-3M</th>\n",
       "      <th>3M-4M</th>\n",
       "      <th>4M-6M</th>\n",
       "      <th>6M-8M</th>\n",
       "      <th>8M-10M</th>\n",
       "      <th>10M-15M</th>\n",
       "      <th>15M-20M</th>\n",
       "      <th>20M-50M</th>\n",
       "      <th>50M-100M</th>\n",
       "      <th>100M&gt;</th>\n",
       "    </tr>\n",
       "  </thead>\n",
       "  <tbody>\n",
       "    <tr>\n",
       "      <th>0</th>\n",
       "      <td>HAWAII</td>\n",
       "      <td>0.908227</td>\n",
       "      <td>0.872931</td>\n",
       "      <td>0.921837</td>\n",
       "      <td>0.943184</td>\n",
       "      <td>0.933739</td>\n",
       "      <td>0.89888</td>\n",
       "      <td>0.864479</td>\n",
       "      <td>0.851946</td>\n",
       "      <td>0.781075</td>\n",
       "      <td>0.748455</td>\n",
       "      <td>0.727419</td>\n",
       "      <td>0.743295</td>\n",
       "      <td>0.795918</td>\n",
       "      <td>0.751269</td>\n",
       "      <td>0.790698</td>\n",
       "      <td>0.745614</td>\n",
       "      <td>0.77628</td>\n",
       "    </tr>\n",
       "    <tr>\n",
       "      <th>1</th>\n",
       "      <td>US MAINLAND</td>\n",
       "      <td>0.0800475</td>\n",
       "      <td>0.114482</td>\n",
       "      <td>0.0679867</td>\n",
       "      <td>0.049436</td>\n",
       "      <td>0.0552263</td>\n",
       "      <td>0.0778275</td>\n",
       "      <td>0.101569</td>\n",
       "      <td>0.119974</td>\n",
       "      <td>0.166853</td>\n",
       "      <td>0.21199</td>\n",
       "      <td>0.246774</td>\n",
       "      <td>0.229885</td>\n",
       "      <td>0.188776</td>\n",
       "      <td>0.233503</td>\n",
       "      <td>0.209302</td>\n",
       "      <td>0.254386</td>\n",
       "      <td>0.215633</td>\n",
       "    </tr>\n",
       "    <tr>\n",
       "      <th>2</th>\n",
       "      <td>JAPAN</td>\n",
       "      <td>0.00764228</td>\n",
       "      <td>0.00723666</td>\n",
       "      <td>0.00713466</td>\n",
       "      <td>0.00546246</td>\n",
       "      <td>0.00723787</td>\n",
       "      <td>0.0165733</td>\n",
       "      <td>0.0245364</td>\n",
       "      <td>0.0121251</td>\n",
       "      <td>0.0341545</td>\n",
       "      <td>0.0234858</td>\n",
       "      <td>0.0129032</td>\n",
       "      <td>0.0114943</td>\n",
       "      <td>0.00510204</td>\n",
       "      <td>0.0152284</td>\n",
       "      <td>0</td>\n",
       "      <td>0</td>\n",
       "      <td>0.00449236</td>\n",
       "    </tr>\n",
       "    <tr>\n",
       "      <th>3</th>\n",
       "      <td>CANADA</td>\n",
       "      <td>0.00183051</td>\n",
       "      <td>0.00304889</td>\n",
       "      <td>0.00135503</td>\n",
       "      <td>0.000789558</td>\n",
       "      <td>0.00117445</td>\n",
       "      <td>0.00246361</td>\n",
       "      <td>0.00228245</td>\n",
       "      <td>0.00255265</td>\n",
       "      <td>0.00615901</td>\n",
       "      <td>0.00556242</td>\n",
       "      <td>0.0016129</td>\n",
       "      <td>0.00383142</td>\n",
       "      <td>0</td>\n",
       "      <td>0</td>\n",
       "      <td>0</td>\n",
       "      <td>0</td>\n",
       "      <td>0</td>\n",
       "    </tr>\n",
       "    <tr>\n",
       "      <th>0</th>\n",
       "      <td>OTHER</td>\n",
       "      <td>0.00225265</td>\n",
       "      <td>0.0023015</td>\n",
       "      <td>0.00168688</td>\n",
       "      <td>0.00112794</td>\n",
       "      <td>0.00262202</td>\n",
       "      <td>0.00425532</td>\n",
       "      <td>0.00713267</td>\n",
       "      <td>0.0134014</td>\n",
       "      <td>0.0117581</td>\n",
       "      <td>0.0105068</td>\n",
       "      <td>0.0112903</td>\n",
       "      <td>0.0114943</td>\n",
       "      <td>0.0102041</td>\n",
       "      <td>0</td>\n",
       "      <td>0</td>\n",
       "      <td>0</td>\n",
       "      <td>0.00359389</td>\n",
       "    </tr>\n",
       "  </tbody>\n",
       "</table>\n",
       "</div>"
      ],
      "text/plain": [
       "       country         All      0-500k   500k-750k      750k-1M     1M-1.5M  \\\n",
       "0       HAWAII    0.908227    0.872931    0.921837     0.943184    0.933739   \n",
       "1  US MAINLAND   0.0800475    0.114482   0.0679867     0.049436   0.0552263   \n",
       "2        JAPAN  0.00764228  0.00723666  0.00713466   0.00546246  0.00723787   \n",
       "3       CANADA  0.00183051  0.00304889  0.00135503  0.000789558  0.00117445   \n",
       "0        OTHER  0.00225265   0.0023015  0.00168688   0.00112794  0.00262202   \n",
       "\n",
       "      1.5M-2M     2M-2.5M     2.5M-3M       3M-4M       4M-6M      6M-8M  \\\n",
       "0     0.89888    0.864479    0.851946    0.781075    0.748455   0.727419   \n",
       "1   0.0778275    0.101569    0.119974    0.166853     0.21199   0.246774   \n",
       "2   0.0165733   0.0245364   0.0121251   0.0341545   0.0234858  0.0129032   \n",
       "3  0.00246361  0.00228245  0.00255265  0.00615901  0.00556242  0.0016129   \n",
       "0  0.00425532  0.00713267   0.0134014   0.0117581   0.0105068  0.0112903   \n",
       "\n",
       "       8M-10M     10M-15M    15M-20M   20M-50M  50M-100M       100M>  \n",
       "0    0.743295    0.795918   0.751269  0.790698  0.745614     0.77628  \n",
       "1    0.229885    0.188776   0.233503  0.209302  0.254386    0.215633  \n",
       "2   0.0114943  0.00510204  0.0152284         0         0  0.00449236  \n",
       "3  0.00383142           0          0         0         0           0  \n",
       "0   0.0114943   0.0102041          0         0         0  0.00359389  "
      ]
     },
     "execution_count": 197,
     "metadata": {},
     "output_type": "execute_result"
    }
   ],
   "source": [
    "owner_country_binned = pd.concat(frames,axis=1,join='outer').reset_index()\n",
    "owner_country_binned.columns=['country', 'All','0-500k', '500k-750k', '750k-1M', '1M-1.5M', '1.5M-2M', '2M-2.5M', '2.5M-3M', '3M-4M', \n",
    "                              '4M-6M', '6M-8M','8M-10M', '10M-15M', '15M-20M', '20M-50M', '50M-100M', '100M>']\n",
    "owner_country_binned = owner_country_binned.replace(np.nan,0)\n",
    "\n",
    "owner_country_binned_other = owner_country_binned.iloc[4:45,:].sum()\n",
    "\n",
    "\n",
    "\n",
    "\n",
    "owner_country_binned_other = pd.DataFrame(owner_country_binned_other)\n",
    "\n",
    "owner_country_binned_other.iloc[0,0] = 'OTHER'\n",
    "\n",
    "owner_country_binned_other = owner_country_binned_other.transpose()\n",
    "\n",
    "owner_country_binned_other\n",
    "\n",
    "owner_country_binned = pd.concat([owner_country_binned, owner_country_binned_other])\n",
    "\n",
    "owner_country_binned = owner_country_binned.drop(owner_country_binned.index[4:45])\n",
    "\n",
    "owner_country_binned"
   ]
  },
  {
   "cell_type": "code",
   "execution_count": 245,
   "metadata": {},
   "outputs": [
    {
     "data": {
      "application/vnd.plotly.v1+json": {
       "config": {
        "plotlyServerURL": "https://plot.ly"
       },
       "data": [
        {
         "marker": {
          "color": "#D60000",
          "line": {
           "color": "rgba(0,128,0, 0.5)",
           "width": 0.05
          }
         },
         "name": "HAWAII%",
         "type": "bar",
         "x": [
          "All",
          "0-500k",
          "500k-750k",
          "750k-1M",
          "1M-1.5M",
          "1.5M-2M",
          "2M-2.5M",
          "2.5M-3M",
          "3M-4M",
          "4M-6M",
          "6M-8M",
          "8M-10M",
          "10M-15M",
          "15M-20M",
          "20M-50M",
          "50M-100M",
          "100M>"
         ],
         "y": [
          0.9082270995352764,
          0.8729313228856489,
          0.9218367600901511,
          0.9431840154689011,
          0.933739382186655,
          0.8988801791713326,
          0.8644793152639088,
          0.8519463943841736,
          0.7810750279955208,
          0.7484548825710754,
          0.7274193548387097,
          0.7432950191570882,
          0.7959183673469388,
          0.751269035532995,
          0.7906976744186046,
          0.7456140350877193,
          0.7762803234501348
         ]
        },
        {
         "marker": {
          "color": "#FFD500",
          "line": {
           "color": "rgba(0,128,0, 0.5)",
           "width": 0.05
          }
         },
         "name": "US MAINLAND%",
         "type": "bar",
         "x": [
          "All",
          "0-500k",
          "500k-750k",
          "750k-1M",
          "1M-1.5M",
          "1.5M-2M",
          "2M-2.5M",
          "2.5M-3M",
          "3M-4M",
          "4M-6M",
          "6M-8M",
          "8M-10M",
          "10M-15M",
          "15M-20M",
          "20M-50M",
          "50M-100M",
          "100M>"
         ],
         "y": [
          0.08004745493782457,
          0.1144816295540555,
          0.06798667090690375,
          0.04943602964872704,
          0.05522628574550023,
          0.07782754759238522,
          0.10156918687589159,
          0.11997447351627313,
          0.16685330347144456,
          0.21199011124845488,
          0.2467741935483871,
          0.22988505747126436,
          0.18877551020408162,
          0.233502538071066,
          0.20930232558139536,
          0.2543859649122807,
          0.215633423180593
         ]
        },
        {
         "marker": {
          "color": "#007C35",
          "line": {
           "color": "rgba(0,128,0, 0.5)",
           "width": 0.05
          }
         },
         "name": "JAPAN%",
         "type": "bar",
         "x": [
          "All",
          "0-500k",
          "500k-750k",
          "750k-1M",
          "1M-1.5M",
          "1.5M-2M",
          "2M-2.5M",
          "2.5M-3M",
          "3M-4M",
          "4M-6M",
          "6M-8M",
          "8M-10M",
          "10M-15M",
          "15M-20M",
          "20M-50M",
          "50M-100M",
          "100M>"
         ],
         "y": [
          0.007642282931870867,
          0.00723666259357242,
          0.007134659790108264,
          0.005462455688043828,
          0.007237866331630842,
          0.016573348264277716,
          0.024536376604850214,
          0.012125079770261647,
          0.0341545352743561,
          0.023485784919653894,
          0.012903225806451613,
          0.011494252873563218,
          0.00510204081632653,
          0.015228426395939087,
          0,
          0,
          0.004492362982929021
         ]
        },
        {
         "marker": {
          "color": "#026ECE",
          "line": {
           "color": "rgba(0,128,0, 0.5)",
           "width": 0.05
          }
         },
         "name": "CANADA%",
         "type": "bar",
         "x": [
          "All",
          "0-500k",
          "500k-750k",
          "750k-1M",
          "1M-1.5M",
          "1.5M-2M",
          "2M-2.5M",
          "2.5M-3M",
          "3M-4M",
          "4M-6M",
          "6M-8M",
          "8M-10M",
          "10M-15M",
          "15M-20M",
          "20M-50M",
          "50M-100M",
          "100M>"
         ],
         "y": [
          0.0018305087213004983,
          0.003048888994341167,
          0.0013550322857182363,
          0.0007895584917821464,
          0.0011744462349438723,
          0.002463605823068309,
          0.002282453637660485,
          0.0025526483726866626,
          0.006159014557670772,
          0.005562422744128554,
          0.0016129032258064516,
          0.0038314176245210726,
          0,
          0,
          0,
          0,
          0
         ]
        },
        {
         "marker": {
          "color": "#000000",
          "line": {
           "color": "rgba(0,128,0, 0.5)",
           "width": 0.05
          }
         },
         "name": "OTHER%",
         "type": "bar",
         "x": [
          "All",
          "0-500k",
          "500k-750k",
          "750k-1M",
          "1M-1.5M",
          "1.5M-2M",
          "2M-2.5M",
          "2.5M-3M",
          "3M-4M",
          "4M-6M",
          "6M-8M",
          "8M-10M",
          "10M-15M",
          "15M-20M",
          "20M-50M",
          "50M-100M",
          "100M>"
         ],
         "y": [
          0.002252653873727651,
          0.0023014959723820483,
          0.0016868769271186207,
          0.0011279407025459234,
          0.002622019501270041,
          0.00425531914893617,
          0.007132667617689016,
          0.013401403956604978,
          0.011758118701007838,
          0.010506798516687267,
          0.011290322580645162,
          0.011494252873563218,
          0.01020408163265306,
          0,
          0,
          0,
          0.0035938903863432167
         ]
        }
       ],
       "layout": {
        "annotations": [
         {
          "font": {
           "size": 14
          },
          "showarrow": false,
          "text": "The amount of properties owned by people in different countries shown as a percentage over different property value ranges.",
          "x": 0,
          "xref": "paper",
          "y": 1.2,
          "yref": "paper"
         }
        ],
        "autosize": false,
        "barmode": "stack",
        "height": 400,
        "paper_bgcolor": "rgba(0, 0, 0, 0)",
        "plot_bgcolor": "rgba(0, 0, 0, 0)",
        "template": {
         "data": {
          "bar": [
           {
            "error_x": {
             "color": "#2a3f5f"
            },
            "error_y": {
             "color": "#2a3f5f"
            },
            "marker": {
             "line": {
              "color": "#E5ECF6",
              "width": 0.5
             }
            },
            "type": "bar"
           }
          ],
          "barpolar": [
           {
            "marker": {
             "line": {
              "color": "#E5ECF6",
              "width": 0.5
             }
            },
            "type": "barpolar"
           }
          ],
          "carpet": [
           {
            "aaxis": {
             "endlinecolor": "#2a3f5f",
             "gridcolor": "white",
             "linecolor": "white",
             "minorgridcolor": "white",
             "startlinecolor": "#2a3f5f"
            },
            "baxis": {
             "endlinecolor": "#2a3f5f",
             "gridcolor": "white",
             "linecolor": "white",
             "minorgridcolor": "white",
             "startlinecolor": "#2a3f5f"
            },
            "type": "carpet"
           }
          ],
          "choropleth": [
           {
            "colorbar": {
             "outlinewidth": 0,
             "ticks": ""
            },
            "type": "choropleth"
           }
          ],
          "contour": [
           {
            "colorbar": {
             "outlinewidth": 0,
             "ticks": ""
            },
            "colorscale": [
             [
              0,
              "#0d0887"
             ],
             [
              0.1111111111111111,
              "#46039f"
             ],
             [
              0.2222222222222222,
              "#7201a8"
             ],
             [
              0.3333333333333333,
              "#9c179e"
             ],
             [
              0.4444444444444444,
              "#bd3786"
             ],
             [
              0.5555555555555556,
              "#d8576b"
             ],
             [
              0.6666666666666666,
              "#ed7953"
             ],
             [
              0.7777777777777778,
              "#fb9f3a"
             ],
             [
              0.8888888888888888,
              "#fdca26"
             ],
             [
              1,
              "#f0f921"
             ]
            ],
            "type": "contour"
           }
          ],
          "contourcarpet": [
           {
            "colorbar": {
             "outlinewidth": 0,
             "ticks": ""
            },
            "type": "contourcarpet"
           }
          ],
          "heatmap": [
           {
            "colorbar": {
             "outlinewidth": 0,
             "ticks": ""
            },
            "colorscale": [
             [
              0,
              "#0d0887"
             ],
             [
              0.1111111111111111,
              "#46039f"
             ],
             [
              0.2222222222222222,
              "#7201a8"
             ],
             [
              0.3333333333333333,
              "#9c179e"
             ],
             [
              0.4444444444444444,
              "#bd3786"
             ],
             [
              0.5555555555555556,
              "#d8576b"
             ],
             [
              0.6666666666666666,
              "#ed7953"
             ],
             [
              0.7777777777777778,
              "#fb9f3a"
             ],
             [
              0.8888888888888888,
              "#fdca26"
             ],
             [
              1,
              "#f0f921"
             ]
            ],
            "type": "heatmap"
           }
          ],
          "heatmapgl": [
           {
            "colorbar": {
             "outlinewidth": 0,
             "ticks": ""
            },
            "colorscale": [
             [
              0,
              "#0d0887"
             ],
             [
              0.1111111111111111,
              "#46039f"
             ],
             [
              0.2222222222222222,
              "#7201a8"
             ],
             [
              0.3333333333333333,
              "#9c179e"
             ],
             [
              0.4444444444444444,
              "#bd3786"
             ],
             [
              0.5555555555555556,
              "#d8576b"
             ],
             [
              0.6666666666666666,
              "#ed7953"
             ],
             [
              0.7777777777777778,
              "#fb9f3a"
             ],
             [
              0.8888888888888888,
              "#fdca26"
             ],
             [
              1,
              "#f0f921"
             ]
            ],
            "type": "heatmapgl"
           }
          ],
          "histogram": [
           {
            "marker": {
             "colorbar": {
              "outlinewidth": 0,
              "ticks": ""
             }
            },
            "type": "histogram"
           }
          ],
          "histogram2d": [
           {
            "colorbar": {
             "outlinewidth": 0,
             "ticks": ""
            },
            "colorscale": [
             [
              0,
              "#0d0887"
             ],
             [
              0.1111111111111111,
              "#46039f"
             ],
             [
              0.2222222222222222,
              "#7201a8"
             ],
             [
              0.3333333333333333,
              "#9c179e"
             ],
             [
              0.4444444444444444,
              "#bd3786"
             ],
             [
              0.5555555555555556,
              "#d8576b"
             ],
             [
              0.6666666666666666,
              "#ed7953"
             ],
             [
              0.7777777777777778,
              "#fb9f3a"
             ],
             [
              0.8888888888888888,
              "#fdca26"
             ],
             [
              1,
              "#f0f921"
             ]
            ],
            "type": "histogram2d"
           }
          ],
          "histogram2dcontour": [
           {
            "colorbar": {
             "outlinewidth": 0,
             "ticks": ""
            },
            "colorscale": [
             [
              0,
              "#0d0887"
             ],
             [
              0.1111111111111111,
              "#46039f"
             ],
             [
              0.2222222222222222,
              "#7201a8"
             ],
             [
              0.3333333333333333,
              "#9c179e"
             ],
             [
              0.4444444444444444,
              "#bd3786"
             ],
             [
              0.5555555555555556,
              "#d8576b"
             ],
             [
              0.6666666666666666,
              "#ed7953"
             ],
             [
              0.7777777777777778,
              "#fb9f3a"
             ],
             [
              0.8888888888888888,
              "#fdca26"
             ],
             [
              1,
              "#f0f921"
             ]
            ],
            "type": "histogram2dcontour"
           }
          ],
          "mesh3d": [
           {
            "colorbar": {
             "outlinewidth": 0,
             "ticks": ""
            },
            "type": "mesh3d"
           }
          ],
          "parcoords": [
           {
            "line": {
             "colorbar": {
              "outlinewidth": 0,
              "ticks": ""
             }
            },
            "type": "parcoords"
           }
          ],
          "pie": [
           {
            "automargin": true,
            "type": "pie"
           }
          ],
          "scatter": [
           {
            "marker": {
             "colorbar": {
              "outlinewidth": 0,
              "ticks": ""
             }
            },
            "type": "scatter"
           }
          ],
          "scatter3d": [
           {
            "line": {
             "colorbar": {
              "outlinewidth": 0,
              "ticks": ""
             }
            },
            "marker": {
             "colorbar": {
              "outlinewidth": 0,
              "ticks": ""
             }
            },
            "type": "scatter3d"
           }
          ],
          "scattercarpet": [
           {
            "marker": {
             "colorbar": {
              "outlinewidth": 0,
              "ticks": ""
             }
            },
            "type": "scattercarpet"
           }
          ],
          "scattergeo": [
           {
            "marker": {
             "colorbar": {
              "outlinewidth": 0,
              "ticks": ""
             }
            },
            "type": "scattergeo"
           }
          ],
          "scattergl": [
           {
            "marker": {
             "colorbar": {
              "outlinewidth": 0,
              "ticks": ""
             }
            },
            "type": "scattergl"
           }
          ],
          "scattermapbox": [
           {
            "marker": {
             "colorbar": {
              "outlinewidth": 0,
              "ticks": ""
             }
            },
            "type": "scattermapbox"
           }
          ],
          "scatterpolar": [
           {
            "marker": {
             "colorbar": {
              "outlinewidth": 0,
              "ticks": ""
             }
            },
            "type": "scatterpolar"
           }
          ],
          "scatterpolargl": [
           {
            "marker": {
             "colorbar": {
              "outlinewidth": 0,
              "ticks": ""
             }
            },
            "type": "scatterpolargl"
           }
          ],
          "scatterternary": [
           {
            "marker": {
             "colorbar": {
              "outlinewidth": 0,
              "ticks": ""
             }
            },
            "type": "scatterternary"
           }
          ],
          "surface": [
           {
            "colorbar": {
             "outlinewidth": 0,
             "ticks": ""
            },
            "colorscale": [
             [
              0,
              "#0d0887"
             ],
             [
              0.1111111111111111,
              "#46039f"
             ],
             [
              0.2222222222222222,
              "#7201a8"
             ],
             [
              0.3333333333333333,
              "#9c179e"
             ],
             [
              0.4444444444444444,
              "#bd3786"
             ],
             [
              0.5555555555555556,
              "#d8576b"
             ],
             [
              0.6666666666666666,
              "#ed7953"
             ],
             [
              0.7777777777777778,
              "#fb9f3a"
             ],
             [
              0.8888888888888888,
              "#fdca26"
             ],
             [
              1,
              "#f0f921"
             ]
            ],
            "type": "surface"
           }
          ],
          "table": [
           {
            "cells": {
             "fill": {
              "color": "#EBF0F8"
             },
             "line": {
              "color": "white"
             }
            },
            "header": {
             "fill": {
              "color": "#C8D4E3"
             },
             "line": {
              "color": "white"
             }
            },
            "type": "table"
           }
          ]
         },
         "layout": {
          "annotationdefaults": {
           "arrowcolor": "#2a3f5f",
           "arrowhead": 0,
           "arrowwidth": 1
          },
          "coloraxis": {
           "colorbar": {
            "outlinewidth": 0,
            "ticks": ""
           }
          },
          "colorscale": {
           "diverging": [
            [
             0,
             "#8e0152"
            ],
            [
             0.1,
             "#c51b7d"
            ],
            [
             0.2,
             "#de77ae"
            ],
            [
             0.3,
             "#f1b6da"
            ],
            [
             0.4,
             "#fde0ef"
            ],
            [
             0.5,
             "#f7f7f7"
            ],
            [
             0.6,
             "#e6f5d0"
            ],
            [
             0.7,
             "#b8e186"
            ],
            [
             0.8,
             "#7fbc41"
            ],
            [
             0.9,
             "#4d9221"
            ],
            [
             1,
             "#276419"
            ]
           ],
           "sequential": [
            [
             0,
             "#0d0887"
            ],
            [
             0.1111111111111111,
             "#46039f"
            ],
            [
             0.2222222222222222,
             "#7201a8"
            ],
            [
             0.3333333333333333,
             "#9c179e"
            ],
            [
             0.4444444444444444,
             "#bd3786"
            ],
            [
             0.5555555555555556,
             "#d8576b"
            ],
            [
             0.6666666666666666,
             "#ed7953"
            ],
            [
             0.7777777777777778,
             "#fb9f3a"
            ],
            [
             0.8888888888888888,
             "#fdca26"
            ],
            [
             1,
             "#f0f921"
            ]
           ],
           "sequentialminus": [
            [
             0,
             "#0d0887"
            ],
            [
             0.1111111111111111,
             "#46039f"
            ],
            [
             0.2222222222222222,
             "#7201a8"
            ],
            [
             0.3333333333333333,
             "#9c179e"
            ],
            [
             0.4444444444444444,
             "#bd3786"
            ],
            [
             0.5555555555555556,
             "#d8576b"
            ],
            [
             0.6666666666666666,
             "#ed7953"
            ],
            [
             0.7777777777777778,
             "#fb9f3a"
            ],
            [
             0.8888888888888888,
             "#fdca26"
            ],
            [
             1,
             "#f0f921"
            ]
           ]
          },
          "colorway": [
           "#636efa",
           "#EF553B",
           "#00cc96",
           "#ab63fa",
           "#FFA15A",
           "#19d3f3",
           "#FF6692",
           "#B6E880",
           "#FF97FF",
           "#FECB52"
          ],
          "font": {
           "color": "#2a3f5f"
          },
          "geo": {
           "bgcolor": "white",
           "lakecolor": "white",
           "landcolor": "#E5ECF6",
           "showlakes": true,
           "showland": true,
           "subunitcolor": "white"
          },
          "hoverlabel": {
           "align": "left"
          },
          "hovermode": "closest",
          "mapbox": {
           "style": "light"
          },
          "paper_bgcolor": "white",
          "plot_bgcolor": "#E5ECF6",
          "polar": {
           "angularaxis": {
            "gridcolor": "white",
            "linecolor": "white",
            "ticks": ""
           },
           "bgcolor": "#E5ECF6",
           "radialaxis": {
            "gridcolor": "white",
            "linecolor": "white",
            "ticks": ""
           }
          },
          "scene": {
           "xaxis": {
            "backgroundcolor": "#E5ECF6",
            "gridcolor": "white",
            "gridwidth": 2,
            "linecolor": "white",
            "showbackground": true,
            "ticks": "",
            "zerolinecolor": "white"
           },
           "yaxis": {
            "backgroundcolor": "#E5ECF6",
            "gridcolor": "white",
            "gridwidth": 2,
            "linecolor": "white",
            "showbackground": true,
            "ticks": "",
            "zerolinecolor": "white"
           },
           "zaxis": {
            "backgroundcolor": "#E5ECF6",
            "gridcolor": "white",
            "gridwidth": 2,
            "linecolor": "white",
            "showbackground": true,
            "ticks": "",
            "zerolinecolor": "white"
           }
          },
          "shapedefaults": {
           "line": {
            "color": "#2a3f5f"
           }
          },
          "ternary": {
           "aaxis": {
            "gridcolor": "white",
            "linecolor": "white",
            "ticks": ""
           },
           "baxis": {
            "gridcolor": "white",
            "linecolor": "white",
            "ticks": ""
           },
           "bgcolor": "#E5ECF6",
           "caxis": {
            "gridcolor": "white",
            "linecolor": "white",
            "ticks": ""
           }
          },
          "title": {
           "x": 0.05
          },
          "xaxis": {
           "automargin": true,
           "gridcolor": "white",
           "linecolor": "white",
           "ticks": "",
           "title": {
            "standoff": 15
           },
           "zerolinecolor": "white",
           "zerolinewidth": 2
          },
          "yaxis": {
           "automargin": true,
           "gridcolor": "white",
           "linecolor": "white",
           "ticks": "",
           "title": {
            "standoff": 15
           },
           "zerolinecolor": "white",
           "zerolinewidth": 2
          }
         }
        },
        "title": {
         "text": "<b>Where Do Property Owner's Live?</b>",
         "x": 0.245,
         "xanchor": "center",
         "y": 0.9,
         "yanchor": "top"
        },
        "width": 1000,
        "xaxis": {
         "autorange": true,
         "range": [
          -0.5,
          16.5
         ],
         "type": "category"
        },
        "yaxis": {
         "autorange": true,
         "range": [
          0,
          1.0526315789473684
         ],
         "tickmode": "array",
         "ticktext": [
          "0%",
          "20%",
          "40%",
          "60%",
          "80%",
          "100%"
         ],
         "tickvals": [
          0,
          20,
          40,
          60,
          80,
          100
         ],
         "title": {
          "font": {
           "size": 15
          },
          "text": "% of properties owned"
         },
         "type": "linear"
        }
       }
      },
      "image/png": "[encoded data removed]",
      "text/html": [
       "<div>                            <div id=\"e2138114-31d5-4b60-be58-e45017deb25c\" class=\"plotly-graph-div\" style=\"height:400px; width:1000px;\"></div>            <script type=\"text/javascript\">                require([\"plotly\"], function(Plotly) {                    window.PLOTLYENV=window.PLOTLYENV || {};                                    if (document.getElementById(\"e2138114-31d5-4b60-be58-e45017deb25c\")) {                    Plotly.newPlot(                        \"e2138114-31d5-4b60-be58-e45017deb25c\",                        [{\"marker\": {\"color\": \"#D60000\", \"line\": {\"color\": \"rgba(0,128,0, 0.5)\", \"width\": 0.05}}, \"name\": \"HAWAII%\", \"type\": \"bar\", \"x\": [\"All\", \"0-500k\", \"500k-750k\", \"750k-1M\", \"1M-1.5M\", \"1.5M-2M\", \"2M-2.5M\", \"2.5M-3M\", \"3M-4M\", \"4M-6M\", \"6M-8M\", \"8M-10M\", \"10M-15M\", \"15M-20M\", \"20M-50M\", \"50M-100M\", \"100M>\"], \"y\": [0.9082270995352764, 0.8729313228856489, 0.9218367600901511, 0.9431840154689011, 0.933739382186655, 0.8988801791713326, 0.8644793152639088, 0.8519463943841736, 0.7810750279955208, 0.7484548825710754, 0.7274193548387097, 0.7432950191570882, 0.7959183673469388, 0.751269035532995, 0.7906976744186046, 0.7456140350877193, 0.7762803234501348]}, {\"marker\": {\"color\": \"#FFD500\", \"line\": {\"color\": \"rgba(0,128,0, 0.5)\", \"width\": 0.05}}, \"name\": \"US MAINLAND%\", \"type\": \"bar\", \"x\": [\"All\", \"0-500k\", \"500k-750k\", \"750k-1M\", \"1M-1.5M\", \"1.5M-2M\", \"2M-2.5M\", \"2.5M-3M\", \"3M-4M\", \"4M-6M\", \"6M-8M\", \"8M-10M\", \"10M-15M\", \"15M-20M\", \"20M-50M\", \"50M-100M\", \"100M>\"], \"y\": [0.08004745493782457, 0.1144816295540555, 0.06798667090690375, 0.04943602964872704, 0.05522628574550023, 0.07782754759238522, 0.10156918687589159, 0.11997447351627313, 0.16685330347144456, 0.21199011124845488, 0.2467741935483871, 0.22988505747126436, 0.18877551020408162, 0.233502538071066, 0.20930232558139536, 0.2543859649122807, 0.215633423180593]}, {\"marker\": {\"color\": \"#007C35\", \"line\": {\"color\": \"rgba(0,128,0, 0.5)\", \"width\": 0.05}}, \"name\": \"JAPAN%\", \"type\": \"bar\", \"x\": [\"All\", \"0-500k\", \"500k-750k\", \"750k-1M\", \"1M-1.5M\", \"1.5M-2M\", \"2M-2.5M\", \"2.5M-3M\", \"3M-4M\", \"4M-6M\", \"6M-8M\", \"8M-10M\", \"10M-15M\", \"15M-20M\", \"20M-50M\", \"50M-100M\", \"100M>\"], \"y\": [0.007642282931870867, 0.00723666259357242, 0.007134659790108264, 0.005462455688043828, 0.007237866331630842, 0.016573348264277716, 0.024536376604850214, 0.012125079770261647, 0.0341545352743561, 0.023485784919653894, 0.012903225806451613, 0.011494252873563218, 0.00510204081632653, 0.015228426395939087, 0.0, 0.0, 0.004492362982929021]}, {\"marker\": {\"color\": \"#026ECE\", \"line\": {\"color\": \"rgba(0,128,0, 0.5)\", \"width\": 0.05}}, \"name\": \"CANADA%\", \"type\": \"bar\", \"x\": [\"All\", \"0-500k\", \"500k-750k\", \"750k-1M\", \"1M-1.5M\", \"1.5M-2M\", \"2M-2.5M\", \"2.5M-3M\", \"3M-4M\", \"4M-6M\", \"6M-8M\", \"8M-10M\", \"10M-15M\", \"15M-20M\", \"20M-50M\", \"50M-100M\", \"100M>\"], \"y\": [0.0018305087213004983, 0.003048888994341167, 0.0013550322857182363, 0.0007895584917821464, 0.0011744462349438723, 0.002463605823068309, 0.002282453637660485, 0.0025526483726866626, 0.006159014557670772, 0.005562422744128554, 0.0016129032258064516, 0.0038314176245210726, 0.0, 0.0, 0.0, 0.0, 0.0]}, {\"marker\": {\"color\": \"#000000\", \"line\": {\"color\": \"rgba(0,128,0, 0.5)\", \"width\": 0.05}}, \"name\": \"OTHER%\", \"type\": \"bar\", \"x\": [\"All\", \"0-500k\", \"500k-750k\", \"750k-1M\", \"1M-1.5M\", \"1.5M-2M\", \"2M-2.5M\", \"2.5M-3M\", \"3M-4M\", \"4M-6M\", \"6M-8M\", \"8M-10M\", \"10M-15M\", \"15M-20M\", \"20M-50M\", \"50M-100M\", \"100M>\"], \"y\": [0.002252653873727651, 0.0023014959723820483, 0.0016868769271186207, 0.0011279407025459234, 0.002622019501270041, 0.00425531914893617, 0.007132667617689016, 0.013401403956604978, 0.011758118701007838, 0.010506798516687267, 0.011290322580645162, 0.011494252873563218, 0.01020408163265306, 0.0, 0.0, 0.0, 0.0035938903863432167]}],                        {\"annotations\": [{\"font\": {\"size\": 14}, \"showarrow\": false, \"text\": \"The amount of properties owned by people in different countries shown as a percentage over different property value ranges.\", \"x\": 0.0, \"xref\": \"paper\", \"y\": 1.2, \"yref\": \"paper\"}], \"autosize\": false, \"barmode\": \"stack\", \"height\": 400, \"paper_bgcolor\": \"rgba(0,0,0,0)\", \"plot_bgcolor\": \"rgba(0,0,0,0)\", \"template\": {\"data\": {\"bar\": [{\"error_x\": {\"color\": \"#2a3f5f\"}, \"error_y\": {\"color\": \"#2a3f5f\"}, \"marker\": {\"line\": {\"color\": \"#E5ECF6\", \"width\": 0.5}}, \"type\": \"bar\"}], \"barpolar\": [{\"marker\": {\"line\": {\"color\": \"#E5ECF6\", \"width\": 0.5}}, \"type\": \"barpolar\"}], \"carpet\": [{\"aaxis\": {\"endlinecolor\": \"#2a3f5f\", \"gridcolor\": \"white\", \"linecolor\": \"white\", \"minorgridcolor\": \"white\", \"startlinecolor\": \"#2a3f5f\"}, \"baxis\": {\"endlinecolor\": \"#2a3f5f\", \"gridcolor\": \"white\", \"linecolor\": \"white\", \"minorgridcolor\": \"white\", \"startlinecolor\": \"#2a3f5f\"}, \"type\": \"carpet\"}], \"choropleth\": [{\"colorbar\": {\"outlinewidth\": 0, \"ticks\": \"\"}, \"type\": \"choropleth\"}], \"contour\": [{\"colorbar\": {\"outlinewidth\": 0, \"ticks\": \"\"}, \"colorscale\": [[0.0, \"#0d0887\"], [0.1111111111111111, \"#46039f\"], [0.2222222222222222, \"#7201a8\"], [0.3333333333333333, \"#9c179e\"], [0.4444444444444444, \"#bd3786\"], [0.5555555555555556, \"#d8576b\"], [0.6666666666666666, \"#ed7953\"], [0.7777777777777778, \"#fb9f3a\"], [0.8888888888888888, \"#fdca26\"], [1.0, \"#f0f921\"]], \"type\": \"contour\"}], \"contourcarpet\": [{\"colorbar\": {\"outlinewidth\": 0, \"ticks\": \"\"}, \"type\": \"contourcarpet\"}], \"heatmap\": [{\"colorbar\": {\"outlinewidth\": 0, \"ticks\": \"\"}, \"colorscale\": [[0.0, \"#0d0887\"], [0.1111111111111111, \"#46039f\"], [0.2222222222222222, \"#7201a8\"], [0.3333333333333333, \"#9c179e\"], [0.4444444444444444, \"#bd3786\"], [0.5555555555555556, \"#d8576b\"], [0.6666666666666666, \"#ed7953\"], [0.7777777777777778, \"#fb9f3a\"], [0.8888888888888888, \"#fdca26\"], [1.0, \"#f0f921\"]], \"type\": \"heatmap\"}], \"heatmapgl\": [{\"colorbar\": {\"outlinewidth\": 0, \"ticks\": \"\"}, \"colorscale\": [[0.0, \"#0d0887\"], [0.1111111111111111, \"#46039f\"], [0.2222222222222222, \"#7201a8\"], [0.3333333333333333, \"#9c179e\"], [0.4444444444444444, \"#bd3786\"], [0.5555555555555556, \"#d8576b\"], [0.6666666666666666, \"#ed7953\"], [0.7777777777777778, \"#fb9f3a\"], [0.8888888888888888, \"#fdca26\"], [1.0, \"#f0f921\"]], \"type\": \"heatmapgl\"}], \"histogram\": [{\"marker\": {\"colorbar\": {\"outlinewidth\": 0, \"ticks\": \"\"}}, \"type\": \"histogram\"}], \"histogram2d\": [{\"colorbar\": {\"outlinewidth\": 0, \"ticks\": \"\"}, \"colorscale\": [[0.0, \"#0d0887\"], [0.1111111111111111, \"#46039f\"], [0.2222222222222222, \"#7201a8\"], [0.3333333333333333, \"#9c179e\"], [0.4444444444444444, \"#bd3786\"], [0.5555555555555556, \"#d8576b\"], [0.6666666666666666, \"#ed7953\"], [0.7777777777777778, \"#fb9f3a\"], [0.8888888888888888, \"#fdca26\"], [1.0, \"#f0f921\"]], \"type\": \"histogram2d\"}], \"histogram2dcontour\": [{\"colorbar\": {\"outlinewidth\": 0, \"ticks\": \"\"}, \"colorscale\": [[0.0, \"#0d0887\"], [0.1111111111111111, \"#46039f\"], [0.2222222222222222, \"#7201a8\"], [0.3333333333333333, \"#9c179e\"], [0.4444444444444444, \"#bd3786\"], [0.5555555555555556, \"#d8576b\"], [0.6666666666666666, \"#ed7953\"], [0.7777777777777778, \"#fb9f3a\"], [0.8888888888888888, \"#fdca26\"], [1.0, \"#f0f921\"]], \"type\": \"histogram2dcontour\"}], \"mesh3d\": [{\"colorbar\": {\"outlinewidth\": 0, \"ticks\": \"\"}, \"type\": \"mesh3d\"}], \"parcoords\": [{\"line\": {\"colorbar\": {\"outlinewidth\": 0, \"ticks\": \"\"}}, \"type\": \"parcoords\"}], \"pie\": [{\"automargin\": true, \"type\": \"pie\"}], \"scatter\": [{\"marker\": {\"colorbar\": {\"outlinewidth\": 0, \"ticks\": \"\"}}, \"type\": \"scatter\"}], \"scatter3d\": [{\"line\": {\"colorbar\": {\"outlinewidth\": 0, \"ticks\": \"\"}}, \"marker\": {\"colorbar\": {\"outlinewidth\": 0, \"ticks\": \"\"}}, \"type\": \"scatter3d\"}], \"scattercarpet\": [{\"marker\": {\"colorbar\": {\"outlinewidth\": 0, \"ticks\": \"\"}}, \"type\": \"scattercarpet\"}], \"scattergeo\": [{\"marker\": {\"colorbar\": {\"outlinewidth\": 0, \"ticks\": \"\"}}, \"type\": \"scattergeo\"}], \"scattergl\": [{\"marker\": {\"colorbar\": {\"outlinewidth\": 0, \"ticks\": \"\"}}, \"type\": \"scattergl\"}], \"scattermapbox\": [{\"marker\": {\"colorbar\": {\"outlinewidth\": 0, \"ticks\": \"\"}}, \"type\": \"scattermapbox\"}], \"scatterpolar\": [{\"marker\": {\"colorbar\": {\"outlinewidth\": 0, \"ticks\": \"\"}}, \"type\": \"scatterpolar\"}], \"scatterpolargl\": [{\"marker\": {\"colorbar\": {\"outlinewidth\": 0, \"ticks\": \"\"}}, \"type\": \"scatterpolargl\"}], \"scatterternary\": [{\"marker\": {\"colorbar\": {\"outlinewidth\": 0, \"ticks\": \"\"}}, \"type\": \"scatterternary\"}], \"surface\": [{\"colorbar\": {\"outlinewidth\": 0, \"ticks\": \"\"}, \"colorscale\": [[0.0, \"#0d0887\"], [0.1111111111111111, \"#46039f\"], [0.2222222222222222, \"#7201a8\"], [0.3333333333333333, \"#9c179e\"], [0.4444444444444444, \"#bd3786\"], [0.5555555555555556, \"#d8576b\"], [0.6666666666666666, \"#ed7953\"], [0.7777777777777778, \"#fb9f3a\"], [0.8888888888888888, \"#fdca26\"], [1.0, \"#f0f921\"]], \"type\": \"surface\"}], \"table\": [{\"cells\": {\"fill\": {\"color\": \"#EBF0F8\"}, \"line\": {\"color\": \"white\"}}, \"header\": {\"fill\": {\"color\": \"#C8D4E3\"}, \"line\": {\"color\": \"white\"}}, \"type\": \"table\"}]}, \"layout\": {\"annotationdefaults\": {\"arrowcolor\": \"#2a3f5f\", \"arrowhead\": 0, \"arrowwidth\": 1}, \"coloraxis\": {\"colorbar\": {\"outlinewidth\": 0, \"ticks\": \"\"}}, \"colorscale\": {\"diverging\": [[0, \"#8e0152\"], [0.1, \"#c51b7d\"], [0.2, \"#de77ae\"], [0.3, \"#f1b6da\"], [0.4, \"#fde0ef\"], [0.5, \"#f7f7f7\"], [0.6, \"#e6f5d0\"], [0.7, \"#b8e186\"], [0.8, \"#7fbc41\"], [0.9, \"#4d9221\"], [1, \"#276419\"]], \"sequential\": [[0.0, \"#0d0887\"], [0.1111111111111111, \"#46039f\"], [0.2222222222222222, \"#7201a8\"], [0.3333333333333333, \"#9c179e\"], [0.4444444444444444, \"#bd3786\"], [0.5555555555555556, \"#d8576b\"], [0.6666666666666666, \"#ed7953\"], [0.7777777777777778, \"#fb9f3a\"], [0.8888888888888888, \"#fdca26\"], [1.0, \"#f0f921\"]], \"sequentialminus\": [[0.0, \"#0d0887\"], [0.1111111111111111, \"#46039f\"], [0.2222222222222222, \"#7201a8\"], [0.3333333333333333, \"#9c179e\"], [0.4444444444444444, \"#bd3786\"], [0.5555555555555556, \"#d8576b\"], [0.6666666666666666, \"#ed7953\"], [0.7777777777777778, \"#fb9f3a\"], [0.8888888888888888, \"#fdca26\"], [1.0, \"#f0f921\"]]}, \"colorway\": [\"#636efa\", \"#EF553B\", \"#00cc96\", \"#ab63fa\", \"#FFA15A\", \"#19d3f3\", \"#FF6692\", \"#B6E880\", \"#FF97FF\", \"#FECB52\"], \"font\": {\"color\": \"#2a3f5f\"}, \"geo\": {\"bgcolor\": \"white\", \"lakecolor\": \"white\", \"landcolor\": \"#E5ECF6\", \"showlakes\": true, \"showland\": true, \"subunitcolor\": \"white\"}, \"hoverlabel\": {\"align\": \"left\"}, \"hovermode\": \"closest\", \"mapbox\": {\"style\": \"light\"}, \"paper_bgcolor\": \"white\", \"plot_bgcolor\": \"#E5ECF6\", \"polar\": {\"angularaxis\": {\"gridcolor\": \"white\", \"linecolor\": \"white\", \"ticks\": \"\"}, \"bgcolor\": \"#E5ECF6\", \"radialaxis\": {\"gridcolor\": \"white\", \"linecolor\": \"white\", \"ticks\": \"\"}}, \"scene\": {\"xaxis\": {\"backgroundcolor\": \"#E5ECF6\", \"gridcolor\": \"white\", \"gridwidth\": 2, \"linecolor\": \"white\", \"showbackground\": true, \"ticks\": \"\", \"zerolinecolor\": \"white\"}, \"yaxis\": {\"backgroundcolor\": \"#E5ECF6\", \"gridcolor\": \"white\", \"gridwidth\": 2, \"linecolor\": \"white\", \"showbackground\": true, \"ticks\": \"\", \"zerolinecolor\": \"white\"}, \"zaxis\": {\"backgroundcolor\": \"#E5ECF6\", \"gridcolor\": \"white\", \"gridwidth\": 2, \"linecolor\": \"white\", \"showbackground\": true, \"ticks\": \"\", \"zerolinecolor\": \"white\"}}, \"shapedefaults\": {\"line\": {\"color\": \"#2a3f5f\"}}, \"ternary\": {\"aaxis\": {\"gridcolor\": \"white\", \"linecolor\": \"white\", \"ticks\": \"\"}, \"baxis\": {\"gridcolor\": \"white\", \"linecolor\": \"white\", \"ticks\": \"\"}, \"bgcolor\": \"#E5ECF6\", \"caxis\": {\"gridcolor\": \"white\", \"linecolor\": \"white\", \"ticks\": \"\"}}, \"title\": {\"x\": 0.05}, \"xaxis\": {\"automargin\": true, \"gridcolor\": \"white\", \"linecolor\": \"white\", \"ticks\": \"\", \"title\": {\"standoff\": 15}, \"zerolinecolor\": \"white\", \"zerolinewidth\": 2}, \"yaxis\": {\"automargin\": true, \"gridcolor\": \"white\", \"linecolor\": \"white\", \"ticks\": \"\", \"title\": {\"standoff\": 15}, \"zerolinecolor\": \"white\", \"zerolinewidth\": 2}}}, \"title\": {\"text\": \"<b>Where Do Property Owner's Live?</b>\", \"x\": 0.245, \"xanchor\": \"center\", \"y\": 0.9, \"yanchor\": \"top\"}, \"width\": 1000, \"yaxis\": {\"tickmode\": \"array\", \"ticktext\": [\"0%\", \"20%\", \"40%\", \"60%\", \"80%\", \"100%\"], \"tickvals\": [0, 20, 40, 60, 80, 100], \"title\": {\"font\": {\"size\": 15}, \"text\": \"% of properties owned\"}}},                        {\"responsive\": true}                    ).then(function(){\n",
       "                            \n",
       "var gd = document.getElementById('e2138114-31d5-4b60-be58-e45017deb25c');\n",
       "var x = new MutationObserver(function (mutations, observer) {{\n",
       "        var display = window.getComputedStyle(gd).display;\n",
       "        if (!display || display === 'none') {{\n",
       "            console.log([gd, 'removed!']);\n",
       "            Plotly.purge(gd);\n",
       "            observer.disconnect();\n",
       "        }}\n",
       "}});\n",
       "\n",
       "// Listen for the removal of the full notebook cells\n",
       "var notebookContainer = gd.closest('#notebook-container');\n",
       "if (notebookContainer) {{\n",
       "    x.observe(notebookContainer, {childList: true});\n",
       "}}\n",
       "\n",
       "// Listen for the clearing of the current output cell\n",
       "var outputEl = gd.closest('.output');\n",
       "if (outputEl) {{\n",
       "    x.observe(outputEl, {childList: true});\n",
       "}}\n",
       "\n",
       "                        })                };                });            </script>        </div>"
      ]
     },
     "metadata": {},
     "output_type": "display_data"
    }
   ],
   "source": [
    "import plotly.graph_objs as go\n",
    "\n",
    "fig = go.Figure()\n",
    "\n",
    "fig.layout=go.Layout(\n",
    "        annotations=[\n",
    "            go.layout.Annotation(\n",
    "                text=\"The amount of properties owned by people in different countries shown as a percentage over different property value ranges.\",\n",
    "                showarrow=False,\n",
    "                xref='paper',\n",
    "                yref='paper',\n",
    "                x=0.0,\n",
    "                y=1.2,\n",
    "                font=dict(\n",
    "                size=14))])\n",
    "\n",
    "\n",
    "fig.add_trace(go.Bar(y=owner_country_binned.iloc[0,1:18], \n",
    "                     x=['All','0-500k', '500k-750k', '750k-1M', '1M-1.5M', '1.5M-2M', '2M-2.5M', '2.5M-3M', '3M-4M', \n",
    "                              '4M-6M', '6M-8M','8M-10M', '10M-15M', '15M-20M', '20M-50M', '50M-100M', '100M>'], \n",
    "                     name=\"HAWAII%\", marker=dict(color='#D60000', line=dict(color='rgba(0,128,0, 0.5)', width=0.05))))\n",
    "\n",
    "fig.add_trace(go.Bar(y=owner_country_binned.iloc[1,1:18], \n",
    "                     x=['All','0-500k', '500k-750k', '750k-1M', '1M-1.5M', '1.5M-2M', '2M-2.5M', '2.5M-3M', '3M-4M', \n",
    "                              '4M-6M', '6M-8M','8M-10M', '10M-15M', '15M-20M', '20M-50M', '50M-100M', '100M>'], \n",
    "                     name=\"US MAINLAND%\", marker=dict(color='#FFD500', line=dict(color='rgba(0,128,0, 0.5)', width=0.05))))\n",
    "\n",
    "fig.add_trace(go.Bar(y=owner_country_binned.iloc[2,1:18], \n",
    "                     x=['All','0-500k', '500k-750k', '750k-1M', '1M-1.5M', '1.5M-2M', '2M-2.5M', '2.5M-3M', '3M-4M', \n",
    "                              '4M-6M', '6M-8M','8M-10M', '10M-15M', '15M-20M', '20M-50M', '50M-100M', '100M>'], \n",
    "                     name=\"JAPAN%\", marker=dict(color='#007C35', line=dict(color='rgba(0,128,0, 0.5)', width=0.05))))\n",
    "\n",
    "fig.add_trace(go.Bar(y=owner_country_binned.iloc[3,1:18], \n",
    "                     x=['All','0-500k', '500k-750k', '750k-1M', '1M-1.5M', '1.5M-2M', '2M-2.5M', '2.5M-3M', '3M-4M', \n",
    "                              '4M-6M', '6M-8M','8M-10M', '10M-15M', '15M-20M', '20M-50M', '50M-100M', '100M>'], \n",
    "                     name=\"CANADA%\", marker=dict(color='#026ECE', line=dict(color='rgba(0,128,0, 0.5)', width=0.05))))\n",
    "\n",
    "fig.add_trace(go.Bar(y=owner_country_binned.iloc[4,1:18], \n",
    "                     x=['All','0-500k', '500k-750k', '750k-1M', '1M-1.5M', '1.5M-2M', '2M-2.5M', '2.5M-3M', '3M-4M', \n",
    "                              '4M-6M', '6M-8M','8M-10M', '10M-15M', '15M-20M', '20M-50M', '50M-100M', '100M>'], \n",
    "                     name=\"OTHER%\", marker=dict(color='#000000', line=dict(color='rgba(0,128,0, 0.5)', width=0.05))))\n",
    "\n",
    "\n",
    "fig.update_layout(\n",
    "        yaxis=dict(\n",
    "        title_text=\"% of properties owned\",\n",
    "        ticktext=[\"0%\", \"20%\", \"40%\", \"60%\",\"80%\",\"100%\"],\n",
    "        tickvals=[0, 20, 40, 60, 80, 100],\n",
    "        tickmode=\"array\",\n",
    "        titlefont=dict(size=15),\n",
    "    ),\n",
    "    autosize=False,\n",
    "    width=1000,\n",
    "    height=400,\n",
    "    paper_bgcolor='rgba(0,0,0,0)',\n",
    "    plot_bgcolor='rgba(0,0,0,0)',\n",
    "    title={\n",
    "        'text': \"<b>Where Do Property Owner's Live?</b>\",\n",
    "        'y':0.9,\n",
    "        'x':0.245,\n",
    "        'xanchor': 'center',\n",
    "        'yanchor': 'top'},\n",
    "    \n",
    "    barmode='stack')\n",
    "\n",
    "\n",
    "\n",
    "fig.show()"
   ]
  },
  {
   "cell_type": "code",
   "execution_count": null,
   "metadata": {},
   "outputs": [],
   "source": [
    "res_df_acres = res_df.groupby(['owner_country'])['tot_area_acres'].sum()\n",
    "\n",
    "res_df_acres = pd.DataFrame(res_df_acres).sort_values('tot_area_acres', ascending=False)\n",
    "\n",
    "res_df_acres['area%'] = res_df_acres['tot_area_acres']/res_df_acres['tot_area_acres'].sum()*100\n",
    "\n",
    "res_df_acres.head(10)"
   ]
  },
  {
   "cell_type": "code",
   "execution_count": null,
   "metadata": {},
   "outputs": [],
   "source": [
    "res_df = res_df.groupby(['owner_country'])['net_value'].sum()\n",
    "\n",
    "res_df = pd.DataFrame(res_df).sort_values('net_value', ascending=False)\n",
    "\n",
    "res_df['area%'] = res_df['net_value']/res_df['net_value'].sum()*100\n",
    "\n",
    "res_df.head(50)"
   ]
  },
  {
   "cell_type": "code",
   "execution_count": null,
   "metadata": {},
   "outputs": [],
   "source": [
    "hon_parcel['owner_country'].value_counts(dropna=False)"
   ]
  },
  {
   "cell_type": "code",
   "execution_count": null,
   "metadata": {},
   "outputs": [],
   "source": []
  },
  {
   "cell_type": "raw",
   "metadata": {},
   "source": []
  }
 ],
 "metadata": {
  "kernelspec": {
   "display_name": "Python 3",
   "language": "python",
   "name": "python3"
  },
  "language_info": {
   "codemirror_mode": {
    "name": "ipython",
    "version": 3
   },
   "file_extension": ".py",
   "mimetype": "text/x-python",
   "name": "python",
   "nbconvert_exporter": "python",
   "pygments_lexer": "ipython3",
   "version": "3.7.0"
  }
 },
 "nbformat": 4,
 "nbformat_minor": 4
}
